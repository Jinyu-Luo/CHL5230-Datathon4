{
  "nbformat": 4,
  "nbformat_minor": 0,
  "metadata": {
    "colab": {
      "provenance": [],
      "toc_visible": true,
      "include_colab_link": true
    },
    "kernelspec": {
      "name": "python3",
      "display_name": "Python 3"
    },
    "language_info": {
      "name": "python"
    }
  },
  "cells": [
    {
      "cell_type": "markdown",
      "metadata": {
        "id": "view-in-github",
        "colab_type": "text"
      },
      "source": [
        "<a href=\"https://colab.research.google.com/github/Jinyu-Luo/CHL5230-Datathon4/blob/main/16_CHL5230_Datathon4.ipynb\" target=\"_parent\"><img src=\"https://colab.research.google.com/assets/colab-badge.svg\" alt=\"Open In Colab\"/></a>"
      ]
    },
    {
      "cell_type": "markdown",
      "source": [
        "# Next Step:\n",
        "\n",
        "- Determine features to be included.\n",
        "\n",
        "- Remove all the columns with over 60% of missing values.\n",
        "\n",
        "- Do EDA separately.\n",
        "\n"
      ],
      "metadata": {
        "id": "r0O33vBfpDcP"
      }
    },
    {
      "cell_type": "code",
      "source": [
        "!pip install torch\n",
        "!pip install statsmodels\n",
        "!pip install category_encoders"
      ],
      "metadata": {
        "colab": {
          "base_uri": "https://localhost:8080/"
        },
        "id": "rWODOWsM3Mxh",
        "outputId": "98785ae6-892a-44e5-9a66-a77ea74e159c"
      },
      "execution_count": null,
      "outputs": [
        {
          "output_type": "stream",
          "name": "stdout",
          "text": [
            "Requirement already satisfied: torch in /usr/local/lib/python3.10/dist-packages (2.1.0+cu118)\n",
            "Requirement already satisfied: filelock in /usr/local/lib/python3.10/dist-packages (from torch) (3.13.1)\n",
            "Requirement already satisfied: typing-extensions in /usr/local/lib/python3.10/dist-packages (from torch) (4.5.0)\n",
            "Requirement already satisfied: sympy in /usr/local/lib/python3.10/dist-packages (from torch) (1.12)\n",
            "Requirement already satisfied: networkx in /usr/local/lib/python3.10/dist-packages (from torch) (3.2.1)\n",
            "Requirement already satisfied: jinja2 in /usr/local/lib/python3.10/dist-packages (from torch) (3.1.2)\n",
            "Requirement already satisfied: fsspec in /usr/local/lib/python3.10/dist-packages (from torch) (2023.6.0)\n",
            "Requirement already satisfied: triton==2.1.0 in /usr/local/lib/python3.10/dist-packages (from torch) (2.1.0)\n",
            "Requirement already satisfied: MarkupSafe>=2.0 in /usr/local/lib/python3.10/dist-packages (from jinja2->torch) (2.1.3)\n",
            "Requirement already satisfied: mpmath>=0.19 in /usr/local/lib/python3.10/dist-packages (from sympy->torch) (1.3.0)\n",
            "Requirement already satisfied: statsmodels in /usr/local/lib/python3.10/dist-packages (0.14.0)\n",
            "Requirement already satisfied: numpy>=1.18 in /usr/local/lib/python3.10/dist-packages (from statsmodels) (1.23.5)\n",
            "Requirement already satisfied: scipy!=1.9.2,>=1.4 in /usr/local/lib/python3.10/dist-packages (from statsmodels) (1.11.3)\n",
            "Requirement already satisfied: pandas>=1.0 in /usr/local/lib/python3.10/dist-packages (from statsmodels) (1.5.3)\n",
            "Requirement already satisfied: patsy>=0.5.2 in /usr/local/lib/python3.10/dist-packages (from statsmodels) (0.5.3)\n",
            "Requirement already satisfied: packaging>=21.3 in /usr/local/lib/python3.10/dist-packages (from statsmodels) (23.2)\n",
            "Requirement already satisfied: python-dateutil>=2.8.1 in /usr/local/lib/python3.10/dist-packages (from pandas>=1.0->statsmodels) (2.8.2)\n",
            "Requirement already satisfied: pytz>=2020.1 in /usr/local/lib/python3.10/dist-packages (from pandas>=1.0->statsmodels) (2023.3.post1)\n",
            "Requirement already satisfied: six in /usr/local/lib/python3.10/dist-packages (from patsy>=0.5.2->statsmodels) (1.16.0)\n"
          ]
        }
      ]
    },
    {
      "cell_type": "code",
      "execution_count": 138,
      "metadata": {
        "id": "WRqpm_PY291M"
      },
      "outputs": [],
      "source": [
        "# importing PyTorch library as 't' for convenience\n",
        "import torch as t\n",
        "\n",
        "# importing other necessary libraries\n",
        "import numpy as np\n",
        "from torch.nn.functional import sigmoid, relu, tanh\n",
        "from torch.optim import Adam\n",
        "import matplotlib.pyplot as plt\n",
        "import pandas as pd\n",
        "from sklearn.preprocessing import StandardScaler\n",
        "from sklearn.metrics import classification_report, confusion_matrix, roc_curve, auc, RocCurveDisplay\n",
        "from torch.utils.data import TensorDataset, DataLoader\n",
        "from sklearn.metrics import roc_auc_score, accuracy_score\n",
        "\n",
        "# importing PyTorch modules for building neural networks\n",
        "from torch.nn import Tanh, Linear, Sequential, Sigmoid, Dropout\n",
        "\n",
        "import io\n",
        "import seaborn as sns\n",
        "\n",
        "from statsmodels.imputation import mice\n",
        "import statsmodels.api as sm\n",
        "from sklearn.impute import SimpleImputer\n",
        "from sklearn.experimental import enable_iterative_imputer\n",
        "from sklearn.impute import IterativeImputer"
      ]
    },
    {
      "cell_type": "code",
      "source": [
        "# upload the data\n",
        "from google.colab import files\n",
        "uploaded = files.upload()"
      ],
      "metadata": {
        "colab": {
          "base_uri": "https://localhost:8080/",
          "height": 74
        },
        "id": "2DukcEAs3hNn",
        "outputId": "0f2d1bea-d9c2-4d27-dbbb-e52e17d1bc1c"
      },
      "execution_count": null,
      "outputs": [
        {
          "output_type": "display_data",
          "data": {
            "text/plain": [
              "<IPython.core.display.HTML object>"
            ],
            "text/html": [
              "\n",
              "     <input type=\"file\" id=\"files-2eca5747-aba5-42ee-b9cc-fa9b7f926200\" name=\"files[]\" multiple disabled\n",
              "        style=\"border:none\" />\n",
              "     <output id=\"result-2eca5747-aba5-42ee-b9cc-fa9b7f926200\">\n",
              "      Upload widget is only available when the cell has been executed in the\n",
              "      current browser session. Please rerun this cell to enable.\n",
              "      </output>\n",
              "      <script>// Copyright 2017 Google LLC\n",
              "//\n",
              "// Licensed under the Apache License, Version 2.0 (the \"License\");\n",
              "// you may not use this file except in compliance with the License.\n",
              "// You may obtain a copy of the License at\n",
              "//\n",
              "//      http://www.apache.org/licenses/LICENSE-2.0\n",
              "//\n",
              "// Unless required by applicable law or agreed to in writing, software\n",
              "// distributed under the License is distributed on an \"AS IS\" BASIS,\n",
              "// WITHOUT WARRANTIES OR CONDITIONS OF ANY KIND, either express or implied.\n",
              "// See the License for the specific language governing permissions and\n",
              "// limitations under the License.\n",
              "\n",
              "/**\n",
              " * @fileoverview Helpers for google.colab Python module.\n",
              " */\n",
              "(function(scope) {\n",
              "function span(text, styleAttributes = {}) {\n",
              "  const element = document.createElement('span');\n",
              "  element.textContent = text;\n",
              "  for (const key of Object.keys(styleAttributes)) {\n",
              "    element.style[key] = styleAttributes[key];\n",
              "  }\n",
              "  return element;\n",
              "}\n",
              "\n",
              "// Max number of bytes which will be uploaded at a time.\n",
              "const MAX_PAYLOAD_SIZE = 100 * 1024;\n",
              "\n",
              "function _uploadFiles(inputId, outputId) {\n",
              "  const steps = uploadFilesStep(inputId, outputId);\n",
              "  const outputElement = document.getElementById(outputId);\n",
              "  // Cache steps on the outputElement to make it available for the next call\n",
              "  // to uploadFilesContinue from Python.\n",
              "  outputElement.steps = steps;\n",
              "\n",
              "  return _uploadFilesContinue(outputId);\n",
              "}\n",
              "\n",
              "// This is roughly an async generator (not supported in the browser yet),\n",
              "// where there are multiple asynchronous steps and the Python side is going\n",
              "// to poll for completion of each step.\n",
              "// This uses a Promise to block the python side on completion of each step,\n",
              "// then passes the result of the previous step as the input to the next step.\n",
              "function _uploadFilesContinue(outputId) {\n",
              "  const outputElement = document.getElementById(outputId);\n",
              "  const steps = outputElement.steps;\n",
              "\n",
              "  const next = steps.next(outputElement.lastPromiseValue);\n",
              "  return Promise.resolve(next.value.promise).then((value) => {\n",
              "    // Cache the last promise value to make it available to the next\n",
              "    // step of the generator.\n",
              "    outputElement.lastPromiseValue = value;\n",
              "    return next.value.response;\n",
              "  });\n",
              "}\n",
              "\n",
              "/**\n",
              " * Generator function which is called between each async step of the upload\n",
              " * process.\n",
              " * @param {string} inputId Element ID of the input file picker element.\n",
              " * @param {string} outputId Element ID of the output display.\n",
              " * @return {!Iterable<!Object>} Iterable of next steps.\n",
              " */\n",
              "function* uploadFilesStep(inputId, outputId) {\n",
              "  const inputElement = document.getElementById(inputId);\n",
              "  inputElement.disabled = false;\n",
              "\n",
              "  const outputElement = document.getElementById(outputId);\n",
              "  outputElement.innerHTML = '';\n",
              "\n",
              "  const pickedPromise = new Promise((resolve) => {\n",
              "    inputElement.addEventListener('change', (e) => {\n",
              "      resolve(e.target.files);\n",
              "    });\n",
              "  });\n",
              "\n",
              "  const cancel = document.createElement('button');\n",
              "  inputElement.parentElement.appendChild(cancel);\n",
              "  cancel.textContent = 'Cancel upload';\n",
              "  const cancelPromise = new Promise((resolve) => {\n",
              "    cancel.onclick = () => {\n",
              "      resolve(null);\n",
              "    };\n",
              "  });\n",
              "\n",
              "  // Wait for the user to pick the files.\n",
              "  const files = yield {\n",
              "    promise: Promise.race([pickedPromise, cancelPromise]),\n",
              "    response: {\n",
              "      action: 'starting',\n",
              "    }\n",
              "  };\n",
              "\n",
              "  cancel.remove();\n",
              "\n",
              "  // Disable the input element since further picks are not allowed.\n",
              "  inputElement.disabled = true;\n",
              "\n",
              "  if (!files) {\n",
              "    return {\n",
              "      response: {\n",
              "        action: 'complete',\n",
              "      }\n",
              "    };\n",
              "  }\n",
              "\n",
              "  for (const file of files) {\n",
              "    const li = document.createElement('li');\n",
              "    li.append(span(file.name, {fontWeight: 'bold'}));\n",
              "    li.append(span(\n",
              "        `(${file.type || 'n/a'}) - ${file.size} bytes, ` +\n",
              "        `last modified: ${\n",
              "            file.lastModifiedDate ? file.lastModifiedDate.toLocaleDateString() :\n",
              "                                    'n/a'} - `));\n",
              "    const percent = span('0% done');\n",
              "    li.appendChild(percent);\n",
              "\n",
              "    outputElement.appendChild(li);\n",
              "\n",
              "    const fileDataPromise = new Promise((resolve) => {\n",
              "      const reader = new FileReader();\n",
              "      reader.onload = (e) => {\n",
              "        resolve(e.target.result);\n",
              "      };\n",
              "      reader.readAsArrayBuffer(file);\n",
              "    });\n",
              "    // Wait for the data to be ready.\n",
              "    let fileData = yield {\n",
              "      promise: fileDataPromise,\n",
              "      response: {\n",
              "        action: 'continue',\n",
              "      }\n",
              "    };\n",
              "\n",
              "    // Use a chunked sending to avoid message size limits. See b/62115660.\n",
              "    let position = 0;\n",
              "    do {\n",
              "      const length = Math.min(fileData.byteLength - position, MAX_PAYLOAD_SIZE);\n",
              "      const chunk = new Uint8Array(fileData, position, length);\n",
              "      position += length;\n",
              "\n",
              "      const base64 = btoa(String.fromCharCode.apply(null, chunk));\n",
              "      yield {\n",
              "        response: {\n",
              "          action: 'append',\n",
              "          file: file.name,\n",
              "          data: base64,\n",
              "        },\n",
              "      };\n",
              "\n",
              "      let percentDone = fileData.byteLength === 0 ?\n",
              "          100 :\n",
              "          Math.round((position / fileData.byteLength) * 100);\n",
              "      percent.textContent = `${percentDone}% done`;\n",
              "\n",
              "    } while (position < fileData.byteLength);\n",
              "  }\n",
              "\n",
              "  // All done.\n",
              "  yield {\n",
              "    response: {\n",
              "      action: 'complete',\n",
              "    }\n",
              "  };\n",
              "}\n",
              "\n",
              "scope.google = scope.google || {};\n",
              "scope.google.colab = scope.google.colab || {};\n",
              "scope.google.colab._files = {\n",
              "  _uploadFiles,\n",
              "  _uploadFilesContinue,\n",
              "};\n",
              "})(self);\n",
              "</script> "
            ]
          },
          "metadata": {}
        },
        {
          "output_type": "stream",
          "name": "stdout",
          "text": [
            "Saving datathon4.csv to datathon4.csv\n"
          ]
        }
      ]
    },
    {
      "cell_type": "code",
      "source": [
        "df = pd.read_csv(io.BytesIO(uploaded['datathon4.csv']))\n",
        "df.head()"
      ],
      "metadata": {
        "colab": {
          "base_uri": "https://localhost:8080/",
          "height": 256
        },
        "id": "rfYzcoIu3yfO",
        "outputId": "a3a72e12-2844-4994-c0ce-f9ed8998c5e2"
      },
      "execution_count": 51,
      "outputs": [
        {
          "output_type": "execute_result",
          "data": {
            "text/plain": [
              "   encounter_id  patient_id  hospital_id  hospital_death   age    bmi  \\\n",
              "0         66154       25312          118               0  68.0  22.73   \n",
              "1        114252       59342           81               0  77.0  27.42   \n",
              "2        119783       50777          118               0  25.0  31.95   \n",
              "3         79267       46918          118               0  81.0  22.64   \n",
              "4         92056       34377           33               0  19.0    NaN   \n",
              "\n",
              "   elective_surgery  ethnicity gender  height  ... aids cirrhosis  \\\n",
              "0                 0  Caucasian      M   180.3  ...  0.0       0.0   \n",
              "1                 0  Caucasian      F   160.0  ...  0.0       0.0   \n",
              "2                 0  Caucasian      F   172.7  ...  0.0       0.0   \n",
              "3                 1  Caucasian      F   165.1  ...  0.0       0.0   \n",
              "4                 0  Caucasian      M   188.0  ...  0.0       0.0   \n",
              "\n",
              "   diabetes_mellitus hepatic_failure immunosuppression  leukemia  lymphoma  \\\n",
              "0                1.0             0.0               0.0       0.0       0.0   \n",
              "1                1.0             0.0               0.0       0.0       0.0   \n",
              "2                0.0             0.0               0.0       0.0       0.0   \n",
              "3                0.0             0.0               0.0       0.0       0.0   \n",
              "4                0.0             0.0               0.0       0.0       0.0   \n",
              "\n",
              "   solid_tumor_with_metastasis  apache_3j_bodysystem  apache_2_bodysystem  \n",
              "0                          0.0                Sepsis       Cardiovascular  \n",
              "1                          0.0           Respiratory          Respiratory  \n",
              "2                          0.0             Metabolic            Metabolic  \n",
              "3                          0.0        Cardiovascular       Cardiovascular  \n",
              "4                          0.0                Trauma               Trauma  \n",
              "\n",
              "[5 rows x 186 columns]"
            ],
            "text/html": [
              "\n",
              "  <div id=\"df-6e63e8bc-6f7b-4610-82ef-6c848cd26e6a\" class=\"colab-df-container\">\n",
              "    <div>\n",
              "<style scoped>\n",
              "    .dataframe tbody tr th:only-of-type {\n",
              "        vertical-align: middle;\n",
              "    }\n",
              "\n",
              "    .dataframe tbody tr th {\n",
              "        vertical-align: top;\n",
              "    }\n",
              "\n",
              "    .dataframe thead th {\n",
              "        text-align: right;\n",
              "    }\n",
              "</style>\n",
              "<table border=\"1\" class=\"dataframe\">\n",
              "  <thead>\n",
              "    <tr style=\"text-align: right;\">\n",
              "      <th></th>\n",
              "      <th>encounter_id</th>\n",
              "      <th>patient_id</th>\n",
              "      <th>hospital_id</th>\n",
              "      <th>hospital_death</th>\n",
              "      <th>age</th>\n",
              "      <th>bmi</th>\n",
              "      <th>elective_surgery</th>\n",
              "      <th>ethnicity</th>\n",
              "      <th>gender</th>\n",
              "      <th>height</th>\n",
              "      <th>...</th>\n",
              "      <th>aids</th>\n",
              "      <th>cirrhosis</th>\n",
              "      <th>diabetes_mellitus</th>\n",
              "      <th>hepatic_failure</th>\n",
              "      <th>immunosuppression</th>\n",
              "      <th>leukemia</th>\n",
              "      <th>lymphoma</th>\n",
              "      <th>solid_tumor_with_metastasis</th>\n",
              "      <th>apache_3j_bodysystem</th>\n",
              "      <th>apache_2_bodysystem</th>\n",
              "    </tr>\n",
              "  </thead>\n",
              "  <tbody>\n",
              "    <tr>\n",
              "      <th>0</th>\n",
              "      <td>66154</td>\n",
              "      <td>25312</td>\n",
              "      <td>118</td>\n",
              "      <td>0</td>\n",
              "      <td>68.0</td>\n",
              "      <td>22.73</td>\n",
              "      <td>0</td>\n",
              "      <td>Caucasian</td>\n",
              "      <td>M</td>\n",
              "      <td>180.3</td>\n",
              "      <td>...</td>\n",
              "      <td>0.0</td>\n",
              "      <td>0.0</td>\n",
              "      <td>1.0</td>\n",
              "      <td>0.0</td>\n",
              "      <td>0.0</td>\n",
              "      <td>0.0</td>\n",
              "      <td>0.0</td>\n",
              "      <td>0.0</td>\n",
              "      <td>Sepsis</td>\n",
              "      <td>Cardiovascular</td>\n",
              "    </tr>\n",
              "    <tr>\n",
              "      <th>1</th>\n",
              "      <td>114252</td>\n",
              "      <td>59342</td>\n",
              "      <td>81</td>\n",
              "      <td>0</td>\n",
              "      <td>77.0</td>\n",
              "      <td>27.42</td>\n",
              "      <td>0</td>\n",
              "      <td>Caucasian</td>\n",
              "      <td>F</td>\n",
              "      <td>160.0</td>\n",
              "      <td>...</td>\n",
              "      <td>0.0</td>\n",
              "      <td>0.0</td>\n",
              "      <td>1.0</td>\n",
              "      <td>0.0</td>\n",
              "      <td>0.0</td>\n",
              "      <td>0.0</td>\n",
              "      <td>0.0</td>\n",
              "      <td>0.0</td>\n",
              "      <td>Respiratory</td>\n",
              "      <td>Respiratory</td>\n",
              "    </tr>\n",
              "    <tr>\n",
              "      <th>2</th>\n",
              "      <td>119783</td>\n",
              "      <td>50777</td>\n",
              "      <td>118</td>\n",
              "      <td>0</td>\n",
              "      <td>25.0</td>\n",
              "      <td>31.95</td>\n",
              "      <td>0</td>\n",
              "      <td>Caucasian</td>\n",
              "      <td>F</td>\n",
              "      <td>172.7</td>\n",
              "      <td>...</td>\n",
              "      <td>0.0</td>\n",
              "      <td>0.0</td>\n",
              "      <td>0.0</td>\n",
              "      <td>0.0</td>\n",
              "      <td>0.0</td>\n",
              "      <td>0.0</td>\n",
              "      <td>0.0</td>\n",
              "      <td>0.0</td>\n",
              "      <td>Metabolic</td>\n",
              "      <td>Metabolic</td>\n",
              "    </tr>\n",
              "    <tr>\n",
              "      <th>3</th>\n",
              "      <td>79267</td>\n",
              "      <td>46918</td>\n",
              "      <td>118</td>\n",
              "      <td>0</td>\n",
              "      <td>81.0</td>\n",
              "      <td>22.64</td>\n",
              "      <td>1</td>\n",
              "      <td>Caucasian</td>\n",
              "      <td>F</td>\n",
              "      <td>165.1</td>\n",
              "      <td>...</td>\n",
              "      <td>0.0</td>\n",
              "      <td>0.0</td>\n",
              "      <td>0.0</td>\n",
              "      <td>0.0</td>\n",
              "      <td>0.0</td>\n",
              "      <td>0.0</td>\n",
              "      <td>0.0</td>\n",
              "      <td>0.0</td>\n",
              "      <td>Cardiovascular</td>\n",
              "      <td>Cardiovascular</td>\n",
              "    </tr>\n",
              "    <tr>\n",
              "      <th>4</th>\n",
              "      <td>92056</td>\n",
              "      <td>34377</td>\n",
              "      <td>33</td>\n",
              "      <td>0</td>\n",
              "      <td>19.0</td>\n",
              "      <td>NaN</td>\n",
              "      <td>0</td>\n",
              "      <td>Caucasian</td>\n",
              "      <td>M</td>\n",
              "      <td>188.0</td>\n",
              "      <td>...</td>\n",
              "      <td>0.0</td>\n",
              "      <td>0.0</td>\n",
              "      <td>0.0</td>\n",
              "      <td>0.0</td>\n",
              "      <td>0.0</td>\n",
              "      <td>0.0</td>\n",
              "      <td>0.0</td>\n",
              "      <td>0.0</td>\n",
              "      <td>Trauma</td>\n",
              "      <td>Trauma</td>\n",
              "    </tr>\n",
              "  </tbody>\n",
              "</table>\n",
              "<p>5 rows × 186 columns</p>\n",
              "</div>\n",
              "    <div class=\"colab-df-buttons\">\n",
              "\n",
              "  <div class=\"colab-df-container\">\n",
              "    <button class=\"colab-df-convert\" onclick=\"convertToInteractive('df-6e63e8bc-6f7b-4610-82ef-6c848cd26e6a')\"\n",
              "            title=\"Convert this dataframe to an interactive table.\"\n",
              "            style=\"display:none;\">\n",
              "\n",
              "  <svg xmlns=\"http://www.w3.org/2000/svg\" height=\"24px\" viewBox=\"0 -960 960 960\">\n",
              "    <path d=\"M120-120v-720h720v720H120Zm60-500h600v-160H180v160Zm220 220h160v-160H400v160Zm0 220h160v-160H400v160ZM180-400h160v-160H180v160Zm440 0h160v-160H620v160ZM180-180h160v-160H180v160Zm440 0h160v-160H620v160Z\"/>\n",
              "  </svg>\n",
              "    </button>\n",
              "\n",
              "  <style>\n",
              "    .colab-df-container {\n",
              "      display:flex;\n",
              "      gap: 12px;\n",
              "    }\n",
              "\n",
              "    .colab-df-convert {\n",
              "      background-color: #E8F0FE;\n",
              "      border: none;\n",
              "      border-radius: 50%;\n",
              "      cursor: pointer;\n",
              "      display: none;\n",
              "      fill: #1967D2;\n",
              "      height: 32px;\n",
              "      padding: 0 0 0 0;\n",
              "      width: 32px;\n",
              "    }\n",
              "\n",
              "    .colab-df-convert:hover {\n",
              "      background-color: #E2EBFA;\n",
              "      box-shadow: 0px 1px 2px rgba(60, 64, 67, 0.3), 0px 1px 3px 1px rgba(60, 64, 67, 0.15);\n",
              "      fill: #174EA6;\n",
              "    }\n",
              "\n",
              "    .colab-df-buttons div {\n",
              "      margin-bottom: 4px;\n",
              "    }\n",
              "\n",
              "    [theme=dark] .colab-df-convert {\n",
              "      background-color: #3B4455;\n",
              "      fill: #D2E3FC;\n",
              "    }\n",
              "\n",
              "    [theme=dark] .colab-df-convert:hover {\n",
              "      background-color: #434B5C;\n",
              "      box-shadow: 0px 1px 3px 1px rgba(0, 0, 0, 0.15);\n",
              "      filter: drop-shadow(0px 1px 2px rgba(0, 0, 0, 0.3));\n",
              "      fill: #FFFFFF;\n",
              "    }\n",
              "  </style>\n",
              "\n",
              "    <script>\n",
              "      const buttonEl =\n",
              "        document.querySelector('#df-6e63e8bc-6f7b-4610-82ef-6c848cd26e6a button.colab-df-convert');\n",
              "      buttonEl.style.display =\n",
              "        google.colab.kernel.accessAllowed ? 'block' : 'none';\n",
              "\n",
              "      async function convertToInteractive(key) {\n",
              "        const element = document.querySelector('#df-6e63e8bc-6f7b-4610-82ef-6c848cd26e6a');\n",
              "        const dataTable =\n",
              "          await google.colab.kernel.invokeFunction('convertToInteractive',\n",
              "                                                    [key], {});\n",
              "        if (!dataTable) return;\n",
              "\n",
              "        const docLinkHtml = 'Like what you see? Visit the ' +\n",
              "          '<a target=\"_blank\" href=https://colab.research.google.com/notebooks/data_table.ipynb>data table notebook</a>'\n",
              "          + ' to learn more about interactive tables.';\n",
              "        element.innerHTML = '';\n",
              "        dataTable['output_type'] = 'display_data';\n",
              "        await google.colab.output.renderOutput(dataTable, element);\n",
              "        const docLink = document.createElement('div');\n",
              "        docLink.innerHTML = docLinkHtml;\n",
              "        element.appendChild(docLink);\n",
              "      }\n",
              "    </script>\n",
              "  </div>\n",
              "\n",
              "\n",
              "<div id=\"df-3b5bc7b4-983f-42c6-af8f-da60e04f3d2e\">\n",
              "  <button class=\"colab-df-quickchart\" onclick=\"quickchart('df-3b5bc7b4-983f-42c6-af8f-da60e04f3d2e')\"\n",
              "            title=\"Suggest charts\"\n",
              "            style=\"display:none;\">\n",
              "\n",
              "<svg xmlns=\"http://www.w3.org/2000/svg\" height=\"24px\"viewBox=\"0 0 24 24\"\n",
              "     width=\"24px\">\n",
              "    <g>\n",
              "        <path d=\"M19 3H5c-1.1 0-2 .9-2 2v14c0 1.1.9 2 2 2h14c1.1 0 2-.9 2-2V5c0-1.1-.9-2-2-2zM9 17H7v-7h2v7zm4 0h-2V7h2v10zm4 0h-2v-4h2v4z\"/>\n",
              "    </g>\n",
              "</svg>\n",
              "  </button>\n",
              "\n",
              "<style>\n",
              "  .colab-df-quickchart {\n",
              "      --bg-color: #E8F0FE;\n",
              "      --fill-color: #1967D2;\n",
              "      --hover-bg-color: #E2EBFA;\n",
              "      --hover-fill-color: #174EA6;\n",
              "      --disabled-fill-color: #AAA;\n",
              "      --disabled-bg-color: #DDD;\n",
              "  }\n",
              "\n",
              "  [theme=dark] .colab-df-quickchart {\n",
              "      --bg-color: #3B4455;\n",
              "      --fill-color: #D2E3FC;\n",
              "      --hover-bg-color: #434B5C;\n",
              "      --hover-fill-color: #FFFFFF;\n",
              "      --disabled-bg-color: #3B4455;\n",
              "      --disabled-fill-color: #666;\n",
              "  }\n",
              "\n",
              "  .colab-df-quickchart {\n",
              "    background-color: var(--bg-color);\n",
              "    border: none;\n",
              "    border-radius: 50%;\n",
              "    cursor: pointer;\n",
              "    display: none;\n",
              "    fill: var(--fill-color);\n",
              "    height: 32px;\n",
              "    padding: 0;\n",
              "    width: 32px;\n",
              "  }\n",
              "\n",
              "  .colab-df-quickchart:hover {\n",
              "    background-color: var(--hover-bg-color);\n",
              "    box-shadow: 0 1px 2px rgba(60, 64, 67, 0.3), 0 1px 3px 1px rgba(60, 64, 67, 0.15);\n",
              "    fill: var(--button-hover-fill-color);\n",
              "  }\n",
              "\n",
              "  .colab-df-quickchart-complete:disabled,\n",
              "  .colab-df-quickchart-complete:disabled:hover {\n",
              "    background-color: var(--disabled-bg-color);\n",
              "    fill: var(--disabled-fill-color);\n",
              "    box-shadow: none;\n",
              "  }\n",
              "\n",
              "  .colab-df-spinner {\n",
              "    border: 2px solid var(--fill-color);\n",
              "    border-color: transparent;\n",
              "    border-bottom-color: var(--fill-color);\n",
              "    animation:\n",
              "      spin 1s steps(1) infinite;\n",
              "  }\n",
              "\n",
              "  @keyframes spin {\n",
              "    0% {\n",
              "      border-color: transparent;\n",
              "      border-bottom-color: var(--fill-color);\n",
              "      border-left-color: var(--fill-color);\n",
              "    }\n",
              "    20% {\n",
              "      border-color: transparent;\n",
              "      border-left-color: var(--fill-color);\n",
              "      border-top-color: var(--fill-color);\n",
              "    }\n",
              "    30% {\n",
              "      border-color: transparent;\n",
              "      border-left-color: var(--fill-color);\n",
              "      border-top-color: var(--fill-color);\n",
              "      border-right-color: var(--fill-color);\n",
              "    }\n",
              "    40% {\n",
              "      border-color: transparent;\n",
              "      border-right-color: var(--fill-color);\n",
              "      border-top-color: var(--fill-color);\n",
              "    }\n",
              "    60% {\n",
              "      border-color: transparent;\n",
              "      border-right-color: var(--fill-color);\n",
              "    }\n",
              "    80% {\n",
              "      border-color: transparent;\n",
              "      border-right-color: var(--fill-color);\n",
              "      border-bottom-color: var(--fill-color);\n",
              "    }\n",
              "    90% {\n",
              "      border-color: transparent;\n",
              "      border-bottom-color: var(--fill-color);\n",
              "    }\n",
              "  }\n",
              "</style>\n",
              "\n",
              "  <script>\n",
              "    async function quickchart(key) {\n",
              "      const quickchartButtonEl =\n",
              "        document.querySelector('#' + key + ' button');\n",
              "      quickchartButtonEl.disabled = true;  // To prevent multiple clicks.\n",
              "      quickchartButtonEl.classList.add('colab-df-spinner');\n",
              "      try {\n",
              "        const charts = await google.colab.kernel.invokeFunction(\n",
              "            'suggestCharts', [key], {});\n",
              "      } catch (error) {\n",
              "        console.error('Error during call to suggestCharts:', error);\n",
              "      }\n",
              "      quickchartButtonEl.classList.remove('colab-df-spinner');\n",
              "      quickchartButtonEl.classList.add('colab-df-quickchart-complete');\n",
              "    }\n",
              "    (() => {\n",
              "      let quickchartButtonEl =\n",
              "        document.querySelector('#df-3b5bc7b4-983f-42c6-af8f-da60e04f3d2e button');\n",
              "      quickchartButtonEl.style.display =\n",
              "        google.colab.kernel.accessAllowed ? 'block' : 'none';\n",
              "    })();\n",
              "  </script>\n",
              "</div>\n",
              "    </div>\n",
              "  </div>\n"
            ]
          },
          "metadata": {},
          "execution_count": 51
        }
      ]
    },
    {
      "cell_type": "code",
      "source": [
        "df.shape"
      ],
      "metadata": {
        "id": "luEOcCYXNVkg",
        "outputId": "86b2d833-485f-414d-e2fd-6cefa057462f",
        "colab": {
          "base_uri": "https://localhost:8080/"
        }
      },
      "execution_count": null,
      "outputs": [
        {
          "output_type": "execute_result",
          "data": {
            "text/plain": [
              "(91713, 186)"
            ]
          },
          "metadata": {},
          "execution_count": 7
        }
      ]
    },
    {
      "cell_type": "code",
      "source": [
        "df.describe()"
      ],
      "metadata": {
        "id": "_hsVitskNXFZ",
        "outputId": "d59364c2-e1c2-437d-bfc3-64ffddbce5d4",
        "colab": {
          "base_uri": "https://localhost:8080/",
          "height": 350
        }
      },
      "execution_count": null,
      "outputs": [
        {
          "output_type": "execute_result",
          "data": {
            "text/plain": [
              "        encounter_id     patient_id   hospital_id  hospital_death  \\\n",
              "count   91713.000000   91713.000000  91713.000000    91713.000000   \n",
              "mean    65606.079280   65537.131464    105.669262        0.086302   \n",
              "std     37795.088538   37811.252183     62.854406        0.280811   \n",
              "min         1.000000       1.000000      2.000000        0.000000   \n",
              "25%     32852.000000   32830.000000     47.000000        0.000000   \n",
              "50%     65665.000000   65413.000000    109.000000        0.000000   \n",
              "75%     98342.000000   98298.000000    161.000000        0.000000   \n",
              "max    131051.000000  131051.000000    204.000000        1.000000   \n",
              "\n",
              "                age           bmi  elective_surgery        height  \\\n",
              "count  87485.000000  88284.000000      91713.000000  90379.000000   \n",
              "mean      62.309516     29.185818          0.183736    169.641588   \n",
              "std       16.775119      8.275142          0.387271     10.795378   \n",
              "min       16.000000     14.844926          0.000000    137.200000   \n",
              "25%       52.000000     23.641975          0.000000    162.500000   \n",
              "50%       65.000000     27.654655          0.000000    170.100000   \n",
              "75%       75.000000     32.930206          0.000000    177.800000   \n",
              "max       89.000000     67.814990          1.000000    195.590000   \n",
              "\n",
              "             icu_id  pre_icu_los_days  ...  apache_4a_hospital_death_prob  \\\n",
              "count  91713.000000      91713.000000  ...                   83766.000000   \n",
              "mean     508.357692          0.835766  ...                       0.086787   \n",
              "std      228.989661          2.487756  ...                       0.247569   \n",
              "min       82.000000        -24.947222  ...                      -1.000000   \n",
              "25%      369.000000          0.035417  ...                       0.020000   \n",
              "50%      504.000000          0.138889  ...                       0.050000   \n",
              "75%      679.000000          0.409028  ...                       0.130000   \n",
              "max      927.000000        159.090972  ...                       0.990000   \n",
              "\n",
              "       apache_4a_icu_death_prob          aids     cirrhosis  \\\n",
              "count              83766.000000  90998.000000  90998.000000   \n",
              "mean                   0.043955      0.000857      0.015693   \n",
              "std                    0.217341      0.029265      0.124284   \n",
              "min                   -1.000000      0.000000      0.000000   \n",
              "25%                    0.010000      0.000000      0.000000   \n",
              "50%                    0.020000      0.000000      0.000000   \n",
              "75%                    0.060000      0.000000      0.000000   \n",
              "max                    0.970000      1.000000      1.000000   \n",
              "\n",
              "       diabetes_mellitus  hepatic_failure  immunosuppression      leukemia  \\\n",
              "count       90998.000000     90998.000000       90998.000000  90998.000000   \n",
              "mean            0.225192         0.012989           0.026165      0.007066   \n",
              "std             0.417711         0.113229           0.159628      0.083763   \n",
              "min             0.000000         0.000000           0.000000      0.000000   \n",
              "25%             0.000000         0.000000           0.000000      0.000000   \n",
              "50%             0.000000         0.000000           0.000000      0.000000   \n",
              "75%             0.000000         0.000000           0.000000      0.000000   \n",
              "max             1.000000         1.000000           1.000000      1.000000   \n",
              "\n",
              "           lymphoma  solid_tumor_with_metastasis  \n",
              "count  90998.000000                 90998.000000  \n",
              "mean       0.004132                     0.020638  \n",
              "std        0.064148                     0.142169  \n",
              "min        0.000000                     0.000000  \n",
              "25%        0.000000                     0.000000  \n",
              "50%        0.000000                     0.000000  \n",
              "75%        0.000000                     0.000000  \n",
              "max        1.000000                     1.000000  \n",
              "\n",
              "[8 rows x 178 columns]"
            ],
            "text/html": [
              "\n",
              "  <div id=\"df-80e1816b-7cee-4c54-8898-b8fcf6a2d750\" class=\"colab-df-container\">\n",
              "    <div>\n",
              "<style scoped>\n",
              "    .dataframe tbody tr th:only-of-type {\n",
              "        vertical-align: middle;\n",
              "    }\n",
              "\n",
              "    .dataframe tbody tr th {\n",
              "        vertical-align: top;\n",
              "    }\n",
              "\n",
              "    .dataframe thead th {\n",
              "        text-align: right;\n",
              "    }\n",
              "</style>\n",
              "<table border=\"1\" class=\"dataframe\">\n",
              "  <thead>\n",
              "    <tr style=\"text-align: right;\">\n",
              "      <th></th>\n",
              "      <th>encounter_id</th>\n",
              "      <th>patient_id</th>\n",
              "      <th>hospital_id</th>\n",
              "      <th>hospital_death</th>\n",
              "      <th>age</th>\n",
              "      <th>bmi</th>\n",
              "      <th>elective_surgery</th>\n",
              "      <th>height</th>\n",
              "      <th>icu_id</th>\n",
              "      <th>pre_icu_los_days</th>\n",
              "      <th>...</th>\n",
              "      <th>apache_4a_hospital_death_prob</th>\n",
              "      <th>apache_4a_icu_death_prob</th>\n",
              "      <th>aids</th>\n",
              "      <th>cirrhosis</th>\n",
              "      <th>diabetes_mellitus</th>\n",
              "      <th>hepatic_failure</th>\n",
              "      <th>immunosuppression</th>\n",
              "      <th>leukemia</th>\n",
              "      <th>lymphoma</th>\n",
              "      <th>solid_tumor_with_metastasis</th>\n",
              "    </tr>\n",
              "  </thead>\n",
              "  <tbody>\n",
              "    <tr>\n",
              "      <th>count</th>\n",
              "      <td>91713.000000</td>\n",
              "      <td>91713.000000</td>\n",
              "      <td>91713.000000</td>\n",
              "      <td>91713.000000</td>\n",
              "      <td>87485.000000</td>\n",
              "      <td>88284.000000</td>\n",
              "      <td>91713.000000</td>\n",
              "      <td>90379.000000</td>\n",
              "      <td>91713.000000</td>\n",
              "      <td>91713.000000</td>\n",
              "      <td>...</td>\n",
              "      <td>83766.000000</td>\n",
              "      <td>83766.000000</td>\n",
              "      <td>90998.000000</td>\n",
              "      <td>90998.000000</td>\n",
              "      <td>90998.000000</td>\n",
              "      <td>90998.000000</td>\n",
              "      <td>90998.000000</td>\n",
              "      <td>90998.000000</td>\n",
              "      <td>90998.000000</td>\n",
              "      <td>90998.000000</td>\n",
              "    </tr>\n",
              "    <tr>\n",
              "      <th>mean</th>\n",
              "      <td>65606.079280</td>\n",
              "      <td>65537.131464</td>\n",
              "      <td>105.669262</td>\n",
              "      <td>0.086302</td>\n",
              "      <td>62.309516</td>\n",
              "      <td>29.185818</td>\n",
              "      <td>0.183736</td>\n",
              "      <td>169.641588</td>\n",
              "      <td>508.357692</td>\n",
              "      <td>0.835766</td>\n",
              "      <td>...</td>\n",
              "      <td>0.086787</td>\n",
              "      <td>0.043955</td>\n",
              "      <td>0.000857</td>\n",
              "      <td>0.015693</td>\n",
              "      <td>0.225192</td>\n",
              "      <td>0.012989</td>\n",
              "      <td>0.026165</td>\n",
              "      <td>0.007066</td>\n",
              "      <td>0.004132</td>\n",
              "      <td>0.020638</td>\n",
              "    </tr>\n",
              "    <tr>\n",
              "      <th>std</th>\n",
              "      <td>37795.088538</td>\n",
              "      <td>37811.252183</td>\n",
              "      <td>62.854406</td>\n",
              "      <td>0.280811</td>\n",
              "      <td>16.775119</td>\n",
              "      <td>8.275142</td>\n",
              "      <td>0.387271</td>\n",
              "      <td>10.795378</td>\n",
              "      <td>228.989661</td>\n",
              "      <td>2.487756</td>\n",
              "      <td>...</td>\n",
              "      <td>0.247569</td>\n",
              "      <td>0.217341</td>\n",
              "      <td>0.029265</td>\n",
              "      <td>0.124284</td>\n",
              "      <td>0.417711</td>\n",
              "      <td>0.113229</td>\n",
              "      <td>0.159628</td>\n",
              "      <td>0.083763</td>\n",
              "      <td>0.064148</td>\n",
              "      <td>0.142169</td>\n",
              "    </tr>\n",
              "    <tr>\n",
              "      <th>min</th>\n",
              "      <td>1.000000</td>\n",
              "      <td>1.000000</td>\n",
              "      <td>2.000000</td>\n",
              "      <td>0.000000</td>\n",
              "      <td>16.000000</td>\n",
              "      <td>14.844926</td>\n",
              "      <td>0.000000</td>\n",
              "      <td>137.200000</td>\n",
              "      <td>82.000000</td>\n",
              "      <td>-24.947222</td>\n",
              "      <td>...</td>\n",
              "      <td>-1.000000</td>\n",
              "      <td>-1.000000</td>\n",
              "      <td>0.000000</td>\n",
              "      <td>0.000000</td>\n",
              "      <td>0.000000</td>\n",
              "      <td>0.000000</td>\n",
              "      <td>0.000000</td>\n",
              "      <td>0.000000</td>\n",
              "      <td>0.000000</td>\n",
              "      <td>0.000000</td>\n",
              "    </tr>\n",
              "    <tr>\n",
              "      <th>25%</th>\n",
              "      <td>32852.000000</td>\n",
              "      <td>32830.000000</td>\n",
              "      <td>47.000000</td>\n",
              "      <td>0.000000</td>\n",
              "      <td>52.000000</td>\n",
              "      <td>23.641975</td>\n",
              "      <td>0.000000</td>\n",
              "      <td>162.500000</td>\n",
              "      <td>369.000000</td>\n",
              "      <td>0.035417</td>\n",
              "      <td>...</td>\n",
              "      <td>0.020000</td>\n",
              "      <td>0.010000</td>\n",
              "      <td>0.000000</td>\n",
              "      <td>0.000000</td>\n",
              "      <td>0.000000</td>\n",
              "      <td>0.000000</td>\n",
              "      <td>0.000000</td>\n",
              "      <td>0.000000</td>\n",
              "      <td>0.000000</td>\n",
              "      <td>0.000000</td>\n",
              "    </tr>\n",
              "    <tr>\n",
              "      <th>50%</th>\n",
              "      <td>65665.000000</td>\n",
              "      <td>65413.000000</td>\n",
              "      <td>109.000000</td>\n",
              "      <td>0.000000</td>\n",
              "      <td>65.000000</td>\n",
              "      <td>27.654655</td>\n",
              "      <td>0.000000</td>\n",
              "      <td>170.100000</td>\n",
              "      <td>504.000000</td>\n",
              "      <td>0.138889</td>\n",
              "      <td>...</td>\n",
              "      <td>0.050000</td>\n",
              "      <td>0.020000</td>\n",
              "      <td>0.000000</td>\n",
              "      <td>0.000000</td>\n",
              "      <td>0.000000</td>\n",
              "      <td>0.000000</td>\n",
              "      <td>0.000000</td>\n",
              "      <td>0.000000</td>\n",
              "      <td>0.000000</td>\n",
              "      <td>0.000000</td>\n",
              "    </tr>\n",
              "    <tr>\n",
              "      <th>75%</th>\n",
              "      <td>98342.000000</td>\n",
              "      <td>98298.000000</td>\n",
              "      <td>161.000000</td>\n",
              "      <td>0.000000</td>\n",
              "      <td>75.000000</td>\n",
              "      <td>32.930206</td>\n",
              "      <td>0.000000</td>\n",
              "      <td>177.800000</td>\n",
              "      <td>679.000000</td>\n",
              "      <td>0.409028</td>\n",
              "      <td>...</td>\n",
              "      <td>0.130000</td>\n",
              "      <td>0.060000</td>\n",
              "      <td>0.000000</td>\n",
              "      <td>0.000000</td>\n",
              "      <td>0.000000</td>\n",
              "      <td>0.000000</td>\n",
              "      <td>0.000000</td>\n",
              "      <td>0.000000</td>\n",
              "      <td>0.000000</td>\n",
              "      <td>0.000000</td>\n",
              "    </tr>\n",
              "    <tr>\n",
              "      <th>max</th>\n",
              "      <td>131051.000000</td>\n",
              "      <td>131051.000000</td>\n",
              "      <td>204.000000</td>\n",
              "      <td>1.000000</td>\n",
              "      <td>89.000000</td>\n",
              "      <td>67.814990</td>\n",
              "      <td>1.000000</td>\n",
              "      <td>195.590000</td>\n",
              "      <td>927.000000</td>\n",
              "      <td>159.090972</td>\n",
              "      <td>...</td>\n",
              "      <td>0.990000</td>\n",
              "      <td>0.970000</td>\n",
              "      <td>1.000000</td>\n",
              "      <td>1.000000</td>\n",
              "      <td>1.000000</td>\n",
              "      <td>1.000000</td>\n",
              "      <td>1.000000</td>\n",
              "      <td>1.000000</td>\n",
              "      <td>1.000000</td>\n",
              "      <td>1.000000</td>\n",
              "    </tr>\n",
              "  </tbody>\n",
              "</table>\n",
              "<p>8 rows × 178 columns</p>\n",
              "</div>\n",
              "    <div class=\"colab-df-buttons\">\n",
              "\n",
              "  <div class=\"colab-df-container\">\n",
              "    <button class=\"colab-df-convert\" onclick=\"convertToInteractive('df-80e1816b-7cee-4c54-8898-b8fcf6a2d750')\"\n",
              "            title=\"Convert this dataframe to an interactive table.\"\n",
              "            style=\"display:none;\">\n",
              "\n",
              "  <svg xmlns=\"http://www.w3.org/2000/svg\" height=\"24px\" viewBox=\"0 -960 960 960\">\n",
              "    <path d=\"M120-120v-720h720v720H120Zm60-500h600v-160H180v160Zm220 220h160v-160H400v160Zm0 220h160v-160H400v160ZM180-400h160v-160H180v160Zm440 0h160v-160H620v160ZM180-180h160v-160H180v160Zm440 0h160v-160H620v160Z\"/>\n",
              "  </svg>\n",
              "    </button>\n",
              "\n",
              "  <style>\n",
              "    .colab-df-container {\n",
              "      display:flex;\n",
              "      gap: 12px;\n",
              "    }\n",
              "\n",
              "    .colab-df-convert {\n",
              "      background-color: #E8F0FE;\n",
              "      border: none;\n",
              "      border-radius: 50%;\n",
              "      cursor: pointer;\n",
              "      display: none;\n",
              "      fill: #1967D2;\n",
              "      height: 32px;\n",
              "      padding: 0 0 0 0;\n",
              "      width: 32px;\n",
              "    }\n",
              "\n",
              "    .colab-df-convert:hover {\n",
              "      background-color: #E2EBFA;\n",
              "      box-shadow: 0px 1px 2px rgba(60, 64, 67, 0.3), 0px 1px 3px 1px rgba(60, 64, 67, 0.15);\n",
              "      fill: #174EA6;\n",
              "    }\n",
              "\n",
              "    .colab-df-buttons div {\n",
              "      margin-bottom: 4px;\n",
              "    }\n",
              "\n",
              "    [theme=dark] .colab-df-convert {\n",
              "      background-color: #3B4455;\n",
              "      fill: #D2E3FC;\n",
              "    }\n",
              "\n",
              "    [theme=dark] .colab-df-convert:hover {\n",
              "      background-color: #434B5C;\n",
              "      box-shadow: 0px 1px 3px 1px rgba(0, 0, 0, 0.15);\n",
              "      filter: drop-shadow(0px 1px 2px rgba(0, 0, 0, 0.3));\n",
              "      fill: #FFFFFF;\n",
              "    }\n",
              "  </style>\n",
              "\n",
              "    <script>\n",
              "      const buttonEl =\n",
              "        document.querySelector('#df-80e1816b-7cee-4c54-8898-b8fcf6a2d750 button.colab-df-convert');\n",
              "      buttonEl.style.display =\n",
              "        google.colab.kernel.accessAllowed ? 'block' : 'none';\n",
              "\n",
              "      async function convertToInteractive(key) {\n",
              "        const element = document.querySelector('#df-80e1816b-7cee-4c54-8898-b8fcf6a2d750');\n",
              "        const dataTable =\n",
              "          await google.colab.kernel.invokeFunction('convertToInteractive',\n",
              "                                                    [key], {});\n",
              "        if (!dataTable) return;\n",
              "\n",
              "        const docLinkHtml = 'Like what you see? Visit the ' +\n",
              "          '<a target=\"_blank\" href=https://colab.research.google.com/notebooks/data_table.ipynb>data table notebook</a>'\n",
              "          + ' to learn more about interactive tables.';\n",
              "        element.innerHTML = '';\n",
              "        dataTable['output_type'] = 'display_data';\n",
              "        await google.colab.output.renderOutput(dataTable, element);\n",
              "        const docLink = document.createElement('div');\n",
              "        docLink.innerHTML = docLinkHtml;\n",
              "        element.appendChild(docLink);\n",
              "      }\n",
              "    </script>\n",
              "  </div>\n",
              "\n",
              "\n",
              "<div id=\"df-072e2c76-a945-4312-94cb-081a18edac2d\">\n",
              "  <button class=\"colab-df-quickchart\" onclick=\"quickchart('df-072e2c76-a945-4312-94cb-081a18edac2d')\"\n",
              "            title=\"Suggest charts\"\n",
              "            style=\"display:none;\">\n",
              "\n",
              "<svg xmlns=\"http://www.w3.org/2000/svg\" height=\"24px\"viewBox=\"0 0 24 24\"\n",
              "     width=\"24px\">\n",
              "    <g>\n",
              "        <path d=\"M19 3H5c-1.1 0-2 .9-2 2v14c0 1.1.9 2 2 2h14c1.1 0 2-.9 2-2V5c0-1.1-.9-2-2-2zM9 17H7v-7h2v7zm4 0h-2V7h2v10zm4 0h-2v-4h2v4z\"/>\n",
              "    </g>\n",
              "</svg>\n",
              "  </button>\n",
              "\n",
              "<style>\n",
              "  .colab-df-quickchart {\n",
              "      --bg-color: #E8F0FE;\n",
              "      --fill-color: #1967D2;\n",
              "      --hover-bg-color: #E2EBFA;\n",
              "      --hover-fill-color: #174EA6;\n",
              "      --disabled-fill-color: #AAA;\n",
              "      --disabled-bg-color: #DDD;\n",
              "  }\n",
              "\n",
              "  [theme=dark] .colab-df-quickchart {\n",
              "      --bg-color: #3B4455;\n",
              "      --fill-color: #D2E3FC;\n",
              "      --hover-bg-color: #434B5C;\n",
              "      --hover-fill-color: #FFFFFF;\n",
              "      --disabled-bg-color: #3B4455;\n",
              "      --disabled-fill-color: #666;\n",
              "  }\n",
              "\n",
              "  .colab-df-quickchart {\n",
              "    background-color: var(--bg-color);\n",
              "    border: none;\n",
              "    border-radius: 50%;\n",
              "    cursor: pointer;\n",
              "    display: none;\n",
              "    fill: var(--fill-color);\n",
              "    height: 32px;\n",
              "    padding: 0;\n",
              "    width: 32px;\n",
              "  }\n",
              "\n",
              "  .colab-df-quickchart:hover {\n",
              "    background-color: var(--hover-bg-color);\n",
              "    box-shadow: 0 1px 2px rgba(60, 64, 67, 0.3), 0 1px 3px 1px rgba(60, 64, 67, 0.15);\n",
              "    fill: var(--button-hover-fill-color);\n",
              "  }\n",
              "\n",
              "  .colab-df-quickchart-complete:disabled,\n",
              "  .colab-df-quickchart-complete:disabled:hover {\n",
              "    background-color: var(--disabled-bg-color);\n",
              "    fill: var(--disabled-fill-color);\n",
              "    box-shadow: none;\n",
              "  }\n",
              "\n",
              "  .colab-df-spinner {\n",
              "    border: 2px solid var(--fill-color);\n",
              "    border-color: transparent;\n",
              "    border-bottom-color: var(--fill-color);\n",
              "    animation:\n",
              "      spin 1s steps(1) infinite;\n",
              "  }\n",
              "\n",
              "  @keyframes spin {\n",
              "    0% {\n",
              "      border-color: transparent;\n",
              "      border-bottom-color: var(--fill-color);\n",
              "      border-left-color: var(--fill-color);\n",
              "    }\n",
              "    20% {\n",
              "      border-color: transparent;\n",
              "      border-left-color: var(--fill-color);\n",
              "      border-top-color: var(--fill-color);\n",
              "    }\n",
              "    30% {\n",
              "      border-color: transparent;\n",
              "      border-left-color: var(--fill-color);\n",
              "      border-top-color: var(--fill-color);\n",
              "      border-right-color: var(--fill-color);\n",
              "    }\n",
              "    40% {\n",
              "      border-color: transparent;\n",
              "      border-right-color: var(--fill-color);\n",
              "      border-top-color: var(--fill-color);\n",
              "    }\n",
              "    60% {\n",
              "      border-color: transparent;\n",
              "      border-right-color: var(--fill-color);\n",
              "    }\n",
              "    80% {\n",
              "      border-color: transparent;\n",
              "      border-right-color: var(--fill-color);\n",
              "      border-bottom-color: var(--fill-color);\n",
              "    }\n",
              "    90% {\n",
              "      border-color: transparent;\n",
              "      border-bottom-color: var(--fill-color);\n",
              "    }\n",
              "  }\n",
              "</style>\n",
              "\n",
              "  <script>\n",
              "    async function quickchart(key) {\n",
              "      const quickchartButtonEl =\n",
              "        document.querySelector('#' + key + ' button');\n",
              "      quickchartButtonEl.disabled = true;  // To prevent multiple clicks.\n",
              "      quickchartButtonEl.classList.add('colab-df-spinner');\n",
              "      try {\n",
              "        const charts = await google.colab.kernel.invokeFunction(\n",
              "            'suggestCharts', [key], {});\n",
              "      } catch (error) {\n",
              "        console.error('Error during call to suggestCharts:', error);\n",
              "      }\n",
              "      quickchartButtonEl.classList.remove('colab-df-spinner');\n",
              "      quickchartButtonEl.classList.add('colab-df-quickchart-complete');\n",
              "    }\n",
              "    (() => {\n",
              "      let quickchartButtonEl =\n",
              "        document.querySelector('#df-072e2c76-a945-4312-94cb-081a18edac2d button');\n",
              "      quickchartButtonEl.style.display =\n",
              "        google.colab.kernel.accessAllowed ? 'block' : 'none';\n",
              "    })();\n",
              "  </script>\n",
              "</div>\n",
              "    </div>\n",
              "  </div>\n"
            ]
          },
          "metadata": {},
          "execution_count": 8
        }
      ]
    },
    {
      "cell_type": "code",
      "source": [
        "df['apache_3j_bodysystem'].unique()"
      ],
      "metadata": {
        "colab": {
          "base_uri": "https://localhost:8080/"
        },
        "id": "A2o7DnCdnOD2",
        "outputId": "c60e9e0b-ac7e-492b-c24d-ca011f96b0f8"
      },
      "execution_count": null,
      "outputs": [
        {
          "output_type": "execute_result",
          "data": {
            "text/plain": [
              "array(['Sepsis', 'Respiratory', 'Metabolic', 'Cardiovascular', 'Trauma',\n",
              "       'Neurological', 'Gastrointestinal', 'Genitourinary', nan,\n",
              "       'Hematological', 'Musculoskeletal/Skin', 'Gynecological'],\n",
              "      dtype=object)"
            ]
          },
          "metadata": {},
          "execution_count": 6
        }
      ]
    },
    {
      "cell_type": "code",
      "source": [
        "df['apache_2_bodysystem'].unique()"
      ],
      "metadata": {
        "colab": {
          "base_uri": "https://localhost:8080/"
        },
        "id": "b6afm4u4nw-2",
        "outputId": "5ddf0b5a-1a0e-4b77-8108-941a49ba73fe"
      },
      "execution_count": null,
      "outputs": [
        {
          "output_type": "execute_result",
          "data": {
            "text/plain": [
              "array(['Cardiovascular', 'Respiratory', 'Metabolic', 'Trauma',\n",
              "       'Neurologic', 'Gastrointestinal', 'Renal/Genitourinary', nan,\n",
              "       'Undefined diagnoses', 'Haematologic', 'Undefined Diagnoses'],\n",
              "      dtype=object)"
            ]
          },
          "metadata": {},
          "execution_count": 7
        }
      ]
    },
    {
      "cell_type": "markdown",
      "source": [
        "# Research Objective\n",
        "\n",
        "**Machine Learning Prediction of In-Hospital Mortality in ICU Patients with Cardiovascular Disease and Concurrent Renal Impairment: A Multicenter Analysis**\n",
        "\n",
        "*Acute deteriorations in renal function, previously referred to as worsening renal function but now as acute kidney injury (AKI), and defined as a rise in serum creatinine by more than 26.5 μmol/L (0.3 mg/dL) is observed in 20–40% of patients hospitalised with acute decompensated heart failure.*"
      ],
      "metadata": {
        "id": "lSaoT0eKaUbH"
      }
    },
    {
      "cell_type": "markdown",
      "source": [
        "The Acute Physiology and Chronic Health Evaluation (APACHE) II and APACHE III are scoring systems that being used to predict outcome and identify predictive factors for survival for patients in ICU unit beased on physiologic assessments during the first 24 hrs in ICU.\n",
        "\n",
        "Since APACHE III is a more recent and detailed version with higher discriminative power, we will filter data according to APACHE III, i.e., the column `apache_3j_bodysystem`."
      ],
      "metadata": {
        "id": "w2YmcuYRbp5t"
      }
    },
    {
      "cell_type": "code",
      "source": [
        "# Filter out the target population\n",
        "card_df = df[df['apache_3j_bodysystem'] == 'Cardiovascular']"
      ],
      "metadata": {
        "id": "qqRQMX1woEkz"
      },
      "execution_count": 89,
      "outputs": []
    },
    {
      "cell_type": "code",
      "source": [
        "# Drop columns indicating APACHE score\n",
        "# Remove diagnosis because observations all with cardivascular disease\n",
        "card_df = card_df.drop(['apache_2_diagnosis','apache_3j_diagnosis',\n",
        "                        'apache_2_bodysystem', 'apache_3j_bodysystem'],\n",
        "              axis = 1)"
      ],
      "metadata": {
        "id": "QEUas7RFmcIX"
      },
      "execution_count": 90,
      "outputs": []
    },
    {
      "cell_type": "code",
      "source": [
        "card_df.shape"
      ],
      "metadata": {
        "colab": {
          "base_uri": "https://localhost:8080/"
        },
        "id": "XFFFzL9boo-x",
        "outputId": "7eddaa43-ab40-404d-bd09-d6a732c7f183"
      },
      "execution_count": 91,
      "outputs": [
        {
          "output_type": "execute_result",
          "data": {
            "text/plain": [
              "(29999, 182)"
            ]
          },
          "metadata": {},
          "execution_count": 91
        }
      ]
    },
    {
      "cell_type": "markdown",
      "source": [
        "### Check Uniqueness\n",
        "\n",
        "Ensure that each identifier is unique and remove duplicates if exist."
      ],
      "metadata": {
        "id": "ZdsOXPcA3eMm"
      }
    },
    {
      "cell_type": "code",
      "source": [
        "# Checking for uniqueness in 'encounter_id', 'hospital_id', and 'patient_id'\n",
        "unique_encounter_id = card_df['encounter_id'].is_unique\n",
        "unique_patient_id = card_df['patient_id'].is_unique\n",
        "\n",
        "print(f\"Is 'encounter_id' unique for each record? {unique_encounter_id}\")\n",
        "print(f\"Is 'patient_id' unique for each record? {unique_patient_id}\")\n"
      ],
      "metadata": {
        "id": "SmqxRTxp4SUw",
        "colab": {
          "base_uri": "https://localhost:8080/"
        },
        "outputId": "85439149-9727-4f38-ab4c-a48c7fbe098e"
      },
      "execution_count": null,
      "outputs": [
        {
          "output_type": "stream",
          "name": "stdout",
          "text": [
            "Is 'encounter_id' unique for each record? True\n",
            "Is 'patient_id' unique for each record? True\n"
          ]
        }
      ]
    },
    {
      "cell_type": "markdown",
      "source": [
        "The results suggest that each encounter in the ICU is distincly recorded and each patient is uniquely identified in the dataset."
      ],
      "metadata": {
        "id": "YR6ir-em4HVt"
      }
    },
    {
      "cell_type": "markdown",
      "source": [
        "# Conceptual Predictor Variables\n",
        "\n",
        "The APACHE III scoring system appears to have a higher discriminative power compared to the APACHE II scoring system. On multiple occasions, the APACHE II system under-predicted the actual in-hospital mortality rate.Therefore we should conceptualize our model with variables that were used to predict the highest possible APACHE III score.\n",
        "\n",
        "Variables that would be interesting to include is ***wbc_apache - The white blood cell count measured during the first 24 hours which results in the highest APACHE III score*** as this has been an indicator for in-hospital mortality and has been used as a predictor in many clinical studies.\n",
        "\n",
        "Additionally, all the ***APACHE comorbidity variables***, as shown in the bottom of the data dictionary, may be useful to include as predictors in our model as there have been individual indices used in clinical research specifically to predict the risk of death in patients with specific comorbid conditions."
      ],
      "metadata": {
        "id": "1md1FEW36qyb"
      }
    },
    {
      "cell_type": "markdown",
      "source": [
        "# Data Preprocessing\n",
        "\n",
        "[Handling missing values, normalizing/standardizing numerical variables, encoding categorical variables, etc.]"
      ],
      "metadata": {
        "id": "NQyrelWGyi6m"
      }
    },
    {
      "cell_type": "markdown",
      "source": [
        "## Data Cleaning"
      ],
      "metadata": {
        "id": "Ui2UiS9auqF1"
      }
    },
    {
      "cell_type": "markdown",
      "source": [
        "### Features with over 65% missig values"
      ],
      "metadata": {
        "id": "rZHK8CTWgh85"
      }
    },
    {
      "cell_type": "code",
      "source": [
        "# Calculate the percentage of missing\n",
        "missing_perc = card_df.isnull().mean()*100\n",
        "\n",
        "# Print columns with missing percentage >= 65% in descending order\n",
        "print(missing_perc[missing_perc >= 65].sort_values(ascending=False))"
      ],
      "metadata": {
        "colab": {
          "base_uri": "https://localhost:8080/"
        },
        "id": "vWe2m5M_gj8Q",
        "outputId": "202261cd-c1bd-47bf-fe33-061b7a3fe226"
      },
      "execution_count": 92,
      "outputs": [
        {
          "output_type": "stream",
          "name": "stdout",
          "text": [
            "h1_lactate_min            93.493116\n",
            "h1_lactate_max            93.493116\n",
            "h1_bilirubin_max          92.253075\n",
            "h1_bilirubin_min          92.253075\n",
            "h1_albumin_max            91.383046\n",
            "h1_albumin_min            91.383046\n",
            "d1_lactate_min            83.259442\n",
            "d1_lactate_max            83.259442\n",
            "h1_pao2fio2ratio_min      80.892696\n",
            "h1_pao2fio2ratio_max      80.892696\n",
            "h1_hco3_max               78.212607\n",
            "h1_hco3_min               78.212607\n",
            "h1_calcium_max            77.805927\n",
            "h1_calcium_min            77.805927\n",
            "h1_bun_min                76.899230\n",
            "h1_bun_max                76.899230\n",
            "h1_creatinine_max         76.672556\n",
            "h1_creatinine_min         76.672556\n",
            "h1_arterial_ph_min        75.942531\n",
            "h1_arterial_ph_max        75.942531\n",
            "h1_arterial_po2_min       75.252508\n",
            "h1_arterial_po2_max       75.252508\n",
            "h1_arterial_pco2_min      75.232508\n",
            "h1_arterial_pco2_max      75.232508\n",
            "h1_wbc_min                74.639155\n",
            "h1_wbc_max                74.639155\n",
            "pao2_apache               73.992466\n",
            "paco2_for_ph_apache       73.992466\n",
            "paco2_apache              73.992466\n",
            "ph_apache                 73.992466\n",
            "fio2_apache               73.992466\n",
            "h1_platelets_min          73.675789\n",
            "h1_platelets_max          73.675789\n",
            "h1_sodium_min             72.079069\n",
            "h1_sodium_max             72.079069\n",
            "h1_hematocrit_max         70.715691\n",
            "h1_hematocrit_min         70.715691\n",
            "h1_hemaglobin_min         70.535685\n",
            "h1_hemaglobin_max         70.535685\n",
            "h1_potassium_max          70.322344\n",
            "h1_potassium_min          70.322344\n",
            "bilirubin_apache          69.812327\n",
            "d1_pao2fio2ratio_min      68.512284\n",
            "d1_pao2fio2ratio_max      68.512284\n",
            "albumin_apache            66.252208\n",
            "h1_diasbp_invasive_max    66.205540\n",
            "h1_diasbp_invasive_min    66.205540\n",
            "h1_sysbp_invasive_max     66.185540\n",
            "h1_sysbp_invasive_min     66.185540\n",
            "h1_mbp_invasive_max       66.132204\n",
            "h1_mbp_invasive_min       66.132204\n",
            "d1_bilirubin_max          65.348845\n",
            "d1_bilirubin_min          65.348845\n",
            "dtype: float64\n"
          ]
        }
      ]
    },
    {
      "cell_type": "markdown",
      "source": [
        "#### Arterial Blood Gas (ABG) Variables\n",
        "\n",
        "- `fio2_apache`:  The fraction of inspired oxygen from the arterial blood gas taken during the first 24 hours of unit admission which produces the highest APACHE III score for oxygenation\n",
        "- `paco2_apache`:  The partial pressure of carbon dioxide from the arterial blood gas taken during the first 24 hours of unit admission which produces the highest APACHE III score for oxygenation\n",
        "- `paco2_for_ph_apache`:  The partial pressure of carbon dioxide from the arterial blood gas taken during the first 24 hours of unit admission which produces the highest APACHE III score for acid-base disturbance.  \n",
        "- `pao2_apache`:  The partial pressure of oxygen from the arterial blood gas taken during the first 24 hours of unit admission which produces the highest APACHE III score for oxygenation.\n",
        "- `ph_apache`: The pH from the arterial blood gas taken during the first 24 hours of unit admission which produces the highest APACHE III score for acid-base disturbance.  \n",
        "\n",
        "All the above mentioned columns have 74% missing values, suggesting that the majority of the observation did not receive any of the measurement during the first 24 hours of unit admission. Therefore, we will create a binary variable indicating whether or not arterial blood gas being measured during the first 24 hours of unit admission and remove the above mentioned columns."
      ],
      "metadata": {
        "id": "Jr3sXGm_OKeE"
      }
    },
    {
      "cell_type": "code",
      "source": [
        "# List of Arterial Blood Gas Variables\n",
        "abg_variables = ['fio2_apache', 'paco2_apache', 'paco2_for_ph_apache',\n",
        "                 'pao2_apache', 'ph_apache']\n",
        "\n",
        "# Check if rows with a missing value in one ABG variable also have missing values in others\n",
        "missing_in_all_abg = card_df[abg_variables].isnull().all(axis=1).sum()\n",
        "missing_in_any_abg = card_df[abg_variables].isnull().any(axis=1).sum()\n",
        "\n",
        "print(f\"Number of rows missing in all ABG variables: {missing_in_all_abg}\")\n",
        "print(f\"Number of rows missing in any ABG variable: {missing_in_any_abg}\")"
      ],
      "metadata": {
        "colab": {
          "base_uri": "https://localhost:8080/"
        },
        "id": "MNdo8oJ4QQ9x",
        "outputId": "81da9391-1fbd-4f7b-e993-0f821c93463b"
      },
      "execution_count": 93,
      "outputs": [
        {
          "output_type": "stream",
          "name": "stdout",
          "text": [
            "Number of rows missing in all ABG variables: 22197\n",
            "Number of rows missing in any ABG variable: 22197\n"
          ]
        }
      ]
    },
    {
      "cell_type": "markdown",
      "source": [
        "It seems like the missingness in the Arterial Blood Gas (ABG) variables is completely overlapping - that is, whenever one of these variables is missing, all of them are missing. Therefore, we can consider to create ONE indicator variable to represent whether any ABG measurements were taken."
      ],
      "metadata": {
        "id": "8W-kGOYpQ-QM"
      }
    },
    {
      "cell_type": "code",
      "source": [
        "# Create a single binary indicator variable\n",
        "card_df['abg_measured'] = card_df[abg_variables].notnull().all(axis=1).astype(int)\n",
        "\n",
        "# Check unique values in 'abg_measured'\n",
        "print(\"Unique values in 'abg_measured':\", card_df['abg_measured'].unique())"
      ],
      "metadata": {
        "colab": {
          "base_uri": "https://localhost:8080/"
        },
        "id": "ivD70EqoQ8b5",
        "outputId": "baba47a9-ab9a-4906-ad89-c499b373bacd"
      },
      "execution_count": 94,
      "outputs": [
        {
          "output_type": "stream",
          "name": "stdout",
          "text": [
            "Unique values in 'abg_measured': [1 0]\n"
          ]
        }
      ]
    },
    {
      "cell_type": "markdown",
      "source": [
        "#### Remove Features with over 65% missings"
      ],
      "metadata": {
        "id": "Zqe5YCW6o5RF"
      }
    },
    {
      "cell_type": "code",
      "source": [
        "# Find the indices of columns with over 65% missing values\n",
        "columns_to_drop = missing_perc[missing_perc>=65].index\n",
        "\n",
        "# Remove these columns\n",
        "data = card_df.drop(columns = columns_to_drop)\n",
        "\n",
        "# Drop columns representing labels\n",
        "columns_to_drop = ['hospital_admit_source','icu_admit_source','icu_id',\n",
        "                   'encounter_id','patient_id','hospital_id']\n",
        "data.drop(columns_to_drop, axis = 1, inplace=True)\n",
        "\n",
        "data.shape"
      ],
      "metadata": {
        "id": "3nZoyMe_iGKu",
        "colab": {
          "base_uri": "https://localhost:8080/"
        },
        "outputId": "b6b6f505-4545-413c-bdc5-b1680c2b4355"
      },
      "execution_count": 115,
      "outputs": [
        {
          "output_type": "execute_result",
          "data": {
            "text/plain": [
              "(29999, 124)"
            ]
          },
          "metadata": {},
          "execution_count": 115
        }
      ]
    },
    {
      "cell_type": "markdown",
      "source": [
        "58 columns with over 65% missing values and 6 columns representing identifiers were dropped. The dataset left with 124 columns.\n",
        "\n",
        "Since our goal is to build a predictive model, we need to exclude `apache_4a_hospital_death_prob` and `apache_4a_icu_death_prob` from our dataframe because they are estimates of the risk of death based on APACHE IV model."
      ],
      "metadata": {
        "id": "IQKb6hEdiv_l"
      }
    },
    {
      "cell_type": "code",
      "source": [
        "# Remove predicted probabilities based on APACHE IV\n",
        "data.drop(['apache_4a_hospital_death_prob', 'apache_4a_icu_death_prob'],\n",
        "              axis = 1, inplace=True)"
      ],
      "metadata": {
        "id": "RcSMVDAgx__J"
      },
      "execution_count": 116,
      "outputs": []
    },
    {
      "cell_type": "code",
      "source": [
        "# uncomment the line below to check columns in current dataframe\n",
        "data.columns.tolist()"
      ],
      "metadata": {
        "colab": {
          "base_uri": "https://localhost:8080/"
        },
        "id": "1bheOObqi86t",
        "outputId": "a7921ac5-c370-4653-82c4-b26a5f62abf3"
      },
      "execution_count": 117,
      "outputs": [
        {
          "output_type": "execute_result",
          "data": {
            "text/plain": [
              "['hospital_death',\n",
              " 'age',\n",
              " 'bmi',\n",
              " 'elective_surgery',\n",
              " 'ethnicity',\n",
              " 'gender',\n",
              " 'height',\n",
              " 'icu_stay_type',\n",
              " 'icu_type',\n",
              " 'pre_icu_los_days',\n",
              " 'readmission_status',\n",
              " 'weight',\n",
              " 'apache_post_operative',\n",
              " 'arf_apache',\n",
              " 'bun_apache',\n",
              " 'creatinine_apache',\n",
              " 'gcs_eyes_apache',\n",
              " 'gcs_motor_apache',\n",
              " 'gcs_unable_apache',\n",
              " 'gcs_verbal_apache',\n",
              " 'glucose_apache',\n",
              " 'heart_rate_apache',\n",
              " 'hematocrit_apache',\n",
              " 'intubated_apache',\n",
              " 'map_apache',\n",
              " 'resprate_apache',\n",
              " 'sodium_apache',\n",
              " 'temp_apache',\n",
              " 'urineoutput_apache',\n",
              " 'ventilated_apache',\n",
              " 'wbc_apache',\n",
              " 'd1_diasbp_invasive_max',\n",
              " 'd1_diasbp_invasive_min',\n",
              " 'd1_diasbp_max',\n",
              " 'd1_diasbp_min',\n",
              " 'd1_diasbp_noninvasive_max',\n",
              " 'd1_diasbp_noninvasive_min',\n",
              " 'd1_heartrate_max',\n",
              " 'd1_heartrate_min',\n",
              " 'd1_mbp_invasive_max',\n",
              " 'd1_mbp_invasive_min',\n",
              " 'd1_mbp_max',\n",
              " 'd1_mbp_min',\n",
              " 'd1_mbp_noninvasive_max',\n",
              " 'd1_mbp_noninvasive_min',\n",
              " 'd1_resprate_max',\n",
              " 'd1_resprate_min',\n",
              " 'd1_spo2_max',\n",
              " 'd1_spo2_min',\n",
              " 'd1_sysbp_invasive_max',\n",
              " 'd1_sysbp_invasive_min',\n",
              " 'd1_sysbp_max',\n",
              " 'd1_sysbp_min',\n",
              " 'd1_sysbp_noninvasive_max',\n",
              " 'd1_sysbp_noninvasive_min',\n",
              " 'd1_temp_max',\n",
              " 'd1_temp_min',\n",
              " 'h1_diasbp_max',\n",
              " 'h1_diasbp_min',\n",
              " 'h1_diasbp_noninvasive_max',\n",
              " 'h1_diasbp_noninvasive_min',\n",
              " 'h1_heartrate_max',\n",
              " 'h1_heartrate_min',\n",
              " 'h1_mbp_max',\n",
              " 'h1_mbp_min',\n",
              " 'h1_mbp_noninvasive_max',\n",
              " 'h1_mbp_noninvasive_min',\n",
              " 'h1_resprate_max',\n",
              " 'h1_resprate_min',\n",
              " 'h1_spo2_max',\n",
              " 'h1_spo2_min',\n",
              " 'h1_sysbp_max',\n",
              " 'h1_sysbp_min',\n",
              " 'h1_sysbp_noninvasive_max',\n",
              " 'h1_sysbp_noninvasive_min',\n",
              " 'h1_temp_max',\n",
              " 'h1_temp_min',\n",
              " 'd1_albumin_max',\n",
              " 'd1_albumin_min',\n",
              " 'd1_bun_max',\n",
              " 'd1_bun_min',\n",
              " 'd1_calcium_max',\n",
              " 'd1_calcium_min',\n",
              " 'd1_creatinine_max',\n",
              " 'd1_creatinine_min',\n",
              " 'd1_glucose_max',\n",
              " 'd1_glucose_min',\n",
              " 'd1_hco3_max',\n",
              " 'd1_hco3_min',\n",
              " 'd1_hemaglobin_max',\n",
              " 'd1_hemaglobin_min',\n",
              " 'd1_hematocrit_max',\n",
              " 'd1_hematocrit_min',\n",
              " 'd1_inr_max',\n",
              " 'd1_inr_min',\n",
              " 'd1_platelets_max',\n",
              " 'd1_platelets_min',\n",
              " 'd1_potassium_max',\n",
              " 'd1_potassium_min',\n",
              " 'd1_sodium_max',\n",
              " 'd1_sodium_min',\n",
              " 'd1_wbc_max',\n",
              " 'd1_wbc_min',\n",
              " 'h1_glucose_max',\n",
              " 'h1_glucose_min',\n",
              " 'h1_inr_max',\n",
              " 'h1_inr_min',\n",
              " 'd1_arterial_pco2_max',\n",
              " 'd1_arterial_pco2_min',\n",
              " 'd1_arterial_ph_max',\n",
              " 'd1_arterial_ph_min',\n",
              " 'd1_arterial_po2_max',\n",
              " 'd1_arterial_po2_min',\n",
              " 'aids',\n",
              " 'cirrhosis',\n",
              " 'diabetes_mellitus',\n",
              " 'hepatic_failure',\n",
              " 'immunosuppression',\n",
              " 'leukemia',\n",
              " 'lymphoma',\n",
              " 'solid_tumor_with_metastasis',\n",
              " 'abg_measured']"
            ]
          },
          "metadata": {},
          "execution_count": 117
        }
      ]
    },
    {
      "cell_type": "markdown",
      "source": [
        "## Selection of the Features by Clinical Importance\n",
        "\n",
        "In the context of ICU data, common outcomes include:\n",
        "\n",
        "*   **Mortality**: Whether the patient survives the ICU stay or the hospital stay. This is often the primary outcome of interest.\n",
        "*   **Length of stay**: This is usually the secondary outcome, but it can be very informative about resources utilization and patient recovery.\n",
        "*   **Readmission**: Whether the patient was readmitted to the ICU after discharge, which can be a sign of premature discharge or complications.\n",
        "\n",
        "Therefore, our **outcome variable** is `hospital_death` which indicates whether the patient died during this hospitalization.  \n",
        "\n",
        "**Demographic Features**\n",
        "\n",
        "- **BMI**: Since BMI is calculated based on height and weight, we will remove height and weight after the calculation of BMI for missingness.  \n",
        "  - We can encode BMI into binary variable to indicate obesity or not.  \n",
        "- **age**: Age is a significant predictor of mortality in ICU patiients.  \n",
        "- **gender**: Gender may influence the ooutcome.  \n",
        "- **ethnicity**: Ethnic background can be relevant for risk stratification.\n",
        "\n",
        "**Clinical Interventioons and ICU Information**\n",
        "\n",
        "- **apache_post_operative**: Indicates if the ICU admission was post-surgical.\n",
        "- **arf_apache**: Acute renal failure as identified by the APACHE system.\n",
        "\n",
        "**Cardiovascular-Related Variables**:\n",
        "- `heart_rate_apach`: Heart rate abnormalities can indicate cardiac stress or dysfunction.\n",
        "map_apache: Mean arterial pressure is a critical parameter for assessing cardiovascular function.  \n",
        "- `apache_post_operative`: Indicates if the ICU admission was post-surgical, which can be relevant for cardiovascular patients.\n",
        "\n",
        "**Renal-Related Variables**:  \n",
        "- `bun_apache`: Blood Urea Nitrogen levels.\n",
        "- `creatinine_apache`: Serum creatinine levels.  \n",
        "- `urineoutput_apache`: Total urine output, which can indicate kidney function.\n",
        "\n",
        "**Laboratory Results**:  \n",
        "* `heart_rate_apache`, `map_apache`, `resprate_apache`: Vital signs that are critical in assessing patient status.\n",
        "* `hematocrit_apache`, `wbc_apache`: Blood cell counts can indicate various acute and chronic conditions.\n",
        "* `sodium_apache`: Electrolyte balance is crucial, especially in renal and cardiovascular diseases.\n",
        "* `ventilated_apache`: Mechanical ventilation status is a marker of severity.\n",
        "\n",
        "**Comorbidity Indicators**:  \n",
        "- `diabetes_mellitus`, `hepatic_failure`, `immunosuppression`, `leukemia`, `lymphoma`, `solid_tumor_with_metastasis`: Comorbid conditions can significantly affect mortality risk.\n",
        "\n",
        "**Demographics**:\n",
        "`age (in bins), gender, ethnicity, bmi`: Basic demographic information can be relevant for risk adjustment.  \n",
        "\n",
        "**Treatment Variables**:  \n",
        "- `arf_apache`: Acute renal failure as identified by the APACHE system.\n",
        "\n",
        "\n"
      ],
      "metadata": {
        "id": "SQt2mxF3smt-"
      }
    },
    {
      "cell_type": "code",
      "source": [
        "selected_features = ['hospital_death', 'age', 'gender', 'ethnicity', 'bmi',\n",
        "                     'apache_post_operative', 'arf_apache', 'bun_apache',\n",
        "                     'creatinine_apache', 'urineoutput_apache',\n",
        "                     'heart_rate_apache', 'map_apache', 'resprate_apache',\n",
        "                     'hematocrit_apache', 'wbc_apache', 'sodium_apache',\n",
        "                     'ventilated_apache', 'diabetes_mellitus', 'hepatic_failure',\n",
        "                     'solid_tumor_with_metastasis', 'arf_apache']\n",
        "\n",
        "data = data[selected_features]"
      ],
      "metadata": {
        "id": "pw2KLZTkSDM9"
      },
      "execution_count": 118,
      "outputs": []
    },
    {
      "cell_type": "markdown",
      "source": [
        "### Calculate BMI"
      ],
      "metadata": {
        "id": "cZGRMswKqP7e"
      }
    },
    {
      "cell_type": "code",
      "source": [
        "# Function to calculate BMI\n",
        "def calculate_bmi(weight, height):\n",
        "  if height > 0:\n",
        "    height_in_meters = height/100 # convert height to meters\n",
        "    bmi = weight / (height_in_meters ** 2)\n",
        "    return bmi\n",
        "  else:\n",
        "    return None\n",
        "\n",
        "# Impute BMI where height and weight are available\n",
        "data.loc[card_df['bmi'].isnull(), 'bmi'] = card_df.apply(\n",
        "    lambda row: calculate_bmi(row['weight'], row['height'])\n",
        "    if pd.notnull(row['weight']) and pd.notnull(row['height'])\n",
        "    else None,\n",
        "    axis=1\n",
        ")\n",
        "\n",
        "# Check missings in BMI\n",
        "data['bmi'].isnull().sum()"
      ],
      "metadata": {
        "colab": {
          "base_uri": "https://localhost:8080/"
        },
        "id": "y2AsipzoB5r_",
        "outputId": "fb9fd50d-a33c-49b1-f931-2066259ad771"
      },
      "execution_count": 119,
      "outputs": [
        {
          "output_type": "execute_result",
          "data": {
            "text/plain": [
              "1166"
            ]
          },
          "metadata": {},
          "execution_count": 119
        }
      ]
    },
    {
      "cell_type": "markdown",
      "source": [
        "There are still 1166 missing values in BMI after the imputation of calculated value based on height and weight, we will impute these missing later with the pipeline."
      ],
      "metadata": {
        "id": "K5WDdnEyqjbl"
      }
    },
    {
      "cell_type": "markdown",
      "source": [
        "## Demographic Variables"
      ],
      "metadata": {
        "id": "wrTAVlKevSvO"
      }
    },
    {
      "cell_type": "code",
      "source": [
        "# Checking for missing values\n",
        "missing_values = data.isnull().sum()\n",
        "print(\"Missing values:\\n\", missing_values)"
      ],
      "metadata": {
        "colab": {
          "base_uri": "https://localhost:8080/"
        },
        "id": "ylvlqpoc5MEX",
        "outputId": "eefd55f9-8c28-488a-9a46-d7782db81c08"
      },
      "execution_count": 126,
      "outputs": [
        {
          "output_type": "stream",
          "name": "stdout",
          "text": [
            "Missing values:\n",
            " hospital_death                     0\n",
            "age                             1047\n",
            "gender                             9\n",
            "ethnicity                          0\n",
            "bmi                             1166\n",
            "apache_post_operative              0\n",
            "arf_apache                         0\n",
            "bun_apache                      6709\n",
            "creatinine_apache               6386\n",
            "urineoutput_apache             16033\n",
            "heart_rate_apache                 41\n",
            "map_apache                        75\n",
            "resprate_apache                  210\n",
            "hematocrit_apache               6384\n",
            "wbc_apache                      7109\n",
            "sodium_apache                   6444\n",
            "ventilated_apache                  0\n",
            "diabetes_mellitus                  0\n",
            "hepatic_failure                    0\n",
            "solid_tumor_with_metastasis        0\n",
            "arf_apache                         0\n",
            "dtype: int64\n"
          ]
        }
      ]
    },
    {
      "cell_type": "markdown",
      "source": [
        "For columns representing demographic information, several of them exhibit missing values:\n",
        "\n",
        "- `age` has 1,047 missing entires. Consider the significance of age in health-related outcomes, we would impute missing age using median value.  \n",
        "- `bmi` contains 1,166 missing records.\n",
        "- `ethnicity` has 551 missing values. Considering that the size of missing is relatively small compared to the size of the dataset, we will remove these observations directly.\n",
        "- `gender` has the least number of missing values, with only 9 absent entries, which is relatively minor given the size of the dataset. Therefore, we will consider to remove these observations directly."
      ],
      "metadata": {
        "id": "eRFOSG5p60fF"
      }
    },
    {
      "cell_type": "code",
      "source": [
        "data['ethnicity'].unique()"
      ],
      "metadata": {
        "colab": {
          "base_uri": "https://localhost:8080/"
        },
        "id": "5ybR3TRv7XKN",
        "outputId": "eaf6485d-f1b7-4e24-9f86-6f04ce2e4466"
      },
      "execution_count": 106,
      "outputs": [
        {
          "output_type": "execute_result",
          "data": {
            "text/plain": [
              "array(['Caucasian', 'Others', 'African American', 'Hispanic', 'Asian',\n",
              "       'Native American'], dtype=object)"
            ]
          },
          "metadata": {},
          "execution_count": 106
        }
      ]
    },
    {
      "cell_type": "code",
      "source": [
        "data['gender'].unique()"
      ],
      "metadata": {
        "colab": {
          "base_uri": "https://localhost:8080/"
        },
        "id": "CV5E4NTL7tZh",
        "outputId": "a0750465-9b70-49fa-fd0a-805ce0654b5f"
      },
      "execution_count": 71,
      "outputs": [
        {
          "output_type": "execute_result",
          "data": {
            "text/plain": [
              "array(['F', 'M', nan], dtype=object)"
            ]
          },
          "metadata": {},
          "execution_count": 71
        }
      ]
    },
    {
      "cell_type": "markdown",
      "source": [
        "To tidy up our data\n",
        "\n",
        "1. Replace \"Other/Unknown\" in the `ethnicity` column with \"Others\" values to indicate missing data.  \n",
        "2. Fill missing values in ethnicity by \"Others\"."
      ],
      "metadata": {
        "id": "MdzgqokN8tm3"
      }
    },
    {
      "cell_type": "code",
      "source": [
        "# Ethnicity\n",
        "data[\"ethnicity\"].replace({\"Other/Unknown\": \"Others\"}, inplace = True)\n",
        "data[\"ethnicity\"].fillna(\"Others\", inplace = True)"
      ],
      "metadata": {
        "id": "4fe_U7Ma_k_j"
      },
      "execution_count": 121,
      "outputs": []
    },
    {
      "cell_type": "markdown",
      "source": [
        "### Distribution of Classses"
      ],
      "metadata": {
        "id": "sW1GC-N6ENlF"
      }
    },
    {
      "cell_type": "code",
      "source": [
        "import plotly.express as px\n",
        "\n",
        "counts = data['hospital_death'].value_counts()\n",
        "\n",
        "# Define your color sequence\n",
        "colors = ['#1c3a73', '#7cb1c2']\n",
        "\n",
        "fig = px.pie(\n",
        "    names=counts.index,\n",
        "    values=counts.values,\n",
        "    hole=0.5,  # size of the hole, 0.5 means 50%\n",
        "    title='Distribution of Classes in Hospital Death',\n",
        "    color_discrete_sequence=colors  # apply your colors here\n",
        ")\n",
        "\n",
        "# Update layout for better appearance\n",
        "fig.update_layout(\n",
        "    margin=dict(t=50, b=0, l=0, r=0),  # Adjust top margin to make room for title\n",
        "    legend=dict(\n",
        "        orientation=\"v\",\n",
        "        yanchor=\"top\",\n",
        "        y=0.5,\n",
        "        xanchor=\"left\",\n",
        "        x=1.05,\n",
        "        title='Hospital Death'\n",
        "    ),\n",
        "    title=dict(\n",
        "        text='Distribution of Classes in Hospital Death',\n",
        "        x=0.45,  # Centering the title\n",
        "        xanchor='center',\n",
        "        y=0.95,  # Adjusting y position to place title above chart\n",
        "        yanchor='top',\n",
        "        font=dict(size=16)\n",
        "    ),\n",
        "    width=500,\n",
        "    height=350\n",
        ")\n",
        "\n",
        "fig.show()"
      ],
      "metadata": {
        "colab": {
          "base_uri": "https://localhost:8080/",
          "height": 367
        },
        "id": "yuvyTjU_EM8i",
        "outputId": "6d8df61e-9377-474b-f6dc-d75840419d48"
      },
      "execution_count": 122,
      "outputs": [
        {
          "output_type": "display_data",
          "data": {
            "text/html": [
              "<html>\n",
              "<head><meta charset=\"utf-8\" /></head>\n",
              "<body>\n",
              "    <div>            <script src=\"https://cdnjs.cloudflare.com/ajax/libs/mathjax/2.7.5/MathJax.js?config=TeX-AMS-MML_SVG\"></script><script type=\"text/javascript\">if (window.MathJax && window.MathJax.Hub && window.MathJax.Hub.Config) {window.MathJax.Hub.Config({SVG: {font: \"STIX-Web\"}});}</script>                <script type=\"text/javascript\">window.PlotlyConfig = {MathJaxConfig: 'local'};</script>\n",
              "        <script charset=\"utf-8\" src=\"https://cdn.plot.ly/plotly-2.24.1.min.js\"></script>                <div id=\"f6243f2f-531c-4563-b10e-1118708d4e02\" class=\"plotly-graph-div\" style=\"height:350px; width:500px;\"></div>            <script type=\"text/javascript\">                                    window.PLOTLYENV=window.PLOTLYENV || {};                                    if (document.getElementById(\"f6243f2f-531c-4563-b10e-1118708d4e02\")) {                    Plotly.newPlot(                        \"f6243f2f-531c-4563-b10e-1118708d4e02\",                        [{\"domain\":{\"x\":[0.0,1.0],\"y\":[0.0,1.0]},\"hole\":0.5,\"hovertemplate\":\"label=%{label}\\u003cbr\\u003evalue=%{value}\\u003cextra\\u003e\\u003c\\u002fextra\\u003e\",\"labels\":[0,1],\"legendgroup\":\"\",\"name\":\"\",\"showlegend\":true,\"values\":[27609,2390],\"type\":\"pie\"}],                        {\"template\":{\"data\":{\"histogram2dcontour\":[{\"type\":\"histogram2dcontour\",\"colorbar\":{\"outlinewidth\":0,\"ticks\":\"\"},\"colorscale\":[[0.0,\"#0d0887\"],[0.1111111111111111,\"#46039f\"],[0.2222222222222222,\"#7201a8\"],[0.3333333333333333,\"#9c179e\"],[0.4444444444444444,\"#bd3786\"],[0.5555555555555556,\"#d8576b\"],[0.6666666666666666,\"#ed7953\"],[0.7777777777777778,\"#fb9f3a\"],[0.8888888888888888,\"#fdca26\"],[1.0,\"#f0f921\"]]}],\"choropleth\":[{\"type\":\"choropleth\",\"colorbar\":{\"outlinewidth\":0,\"ticks\":\"\"}}],\"histogram2d\":[{\"type\":\"histogram2d\",\"colorbar\":{\"outlinewidth\":0,\"ticks\":\"\"},\"colorscale\":[[0.0,\"#0d0887\"],[0.1111111111111111,\"#46039f\"],[0.2222222222222222,\"#7201a8\"],[0.3333333333333333,\"#9c179e\"],[0.4444444444444444,\"#bd3786\"],[0.5555555555555556,\"#d8576b\"],[0.6666666666666666,\"#ed7953\"],[0.7777777777777778,\"#fb9f3a\"],[0.8888888888888888,\"#fdca26\"],[1.0,\"#f0f921\"]]}],\"heatmap\":[{\"type\":\"heatmap\",\"colorbar\":{\"outlinewidth\":0,\"ticks\":\"\"},\"colorscale\":[[0.0,\"#0d0887\"],[0.1111111111111111,\"#46039f\"],[0.2222222222222222,\"#7201a8\"],[0.3333333333333333,\"#9c179e\"],[0.4444444444444444,\"#bd3786\"],[0.5555555555555556,\"#d8576b\"],[0.6666666666666666,\"#ed7953\"],[0.7777777777777778,\"#fb9f3a\"],[0.8888888888888888,\"#fdca26\"],[1.0,\"#f0f921\"]]}],\"heatmapgl\":[{\"type\":\"heatmapgl\",\"colorbar\":{\"outlinewidth\":0,\"ticks\":\"\"},\"colorscale\":[[0.0,\"#0d0887\"],[0.1111111111111111,\"#46039f\"],[0.2222222222222222,\"#7201a8\"],[0.3333333333333333,\"#9c179e\"],[0.4444444444444444,\"#bd3786\"],[0.5555555555555556,\"#d8576b\"],[0.6666666666666666,\"#ed7953\"],[0.7777777777777778,\"#fb9f3a\"],[0.8888888888888888,\"#fdca26\"],[1.0,\"#f0f921\"]]}],\"contourcarpet\":[{\"type\":\"contourcarpet\",\"colorbar\":{\"outlinewidth\":0,\"ticks\":\"\"}}],\"contour\":[{\"type\":\"contour\",\"colorbar\":{\"outlinewidth\":0,\"ticks\":\"\"},\"colorscale\":[[0.0,\"#0d0887\"],[0.1111111111111111,\"#46039f\"],[0.2222222222222222,\"#7201a8\"],[0.3333333333333333,\"#9c179e\"],[0.4444444444444444,\"#bd3786\"],[0.5555555555555556,\"#d8576b\"],[0.6666666666666666,\"#ed7953\"],[0.7777777777777778,\"#fb9f3a\"],[0.8888888888888888,\"#fdca26\"],[1.0,\"#f0f921\"]]}],\"surface\":[{\"type\":\"surface\",\"colorbar\":{\"outlinewidth\":0,\"ticks\":\"\"},\"colorscale\":[[0.0,\"#0d0887\"],[0.1111111111111111,\"#46039f\"],[0.2222222222222222,\"#7201a8\"],[0.3333333333333333,\"#9c179e\"],[0.4444444444444444,\"#bd3786\"],[0.5555555555555556,\"#d8576b\"],[0.6666666666666666,\"#ed7953\"],[0.7777777777777778,\"#fb9f3a\"],[0.8888888888888888,\"#fdca26\"],[1.0,\"#f0f921\"]]}],\"mesh3d\":[{\"type\":\"mesh3d\",\"colorbar\":{\"outlinewidth\":0,\"ticks\":\"\"}}],\"scatter\":[{\"fillpattern\":{\"fillmode\":\"overlay\",\"size\":10,\"solidity\":0.2},\"type\":\"scatter\"}],\"parcoords\":[{\"type\":\"parcoords\",\"line\":{\"colorbar\":{\"outlinewidth\":0,\"ticks\":\"\"}}}],\"scatterpolargl\":[{\"type\":\"scatterpolargl\",\"marker\":{\"colorbar\":{\"outlinewidth\":0,\"ticks\":\"\"}}}],\"bar\":[{\"error_x\":{\"color\":\"#2a3f5f\"},\"error_y\":{\"color\":\"#2a3f5f\"},\"marker\":{\"line\":{\"color\":\"#E5ECF6\",\"width\":0.5},\"pattern\":{\"fillmode\":\"overlay\",\"size\":10,\"solidity\":0.2}},\"type\":\"bar\"}],\"scattergeo\":[{\"type\":\"scattergeo\",\"marker\":{\"colorbar\":{\"outlinewidth\":0,\"ticks\":\"\"}}}],\"scatterpolar\":[{\"type\":\"scatterpolar\",\"marker\":{\"colorbar\":{\"outlinewidth\":0,\"ticks\":\"\"}}}],\"histogram\":[{\"marker\":{\"pattern\":{\"fillmode\":\"overlay\",\"size\":10,\"solidity\":0.2}},\"type\":\"histogram\"}],\"scattergl\":[{\"type\":\"scattergl\",\"marker\":{\"colorbar\":{\"outlinewidth\":0,\"ticks\":\"\"}}}],\"scatter3d\":[{\"type\":\"scatter3d\",\"line\":{\"colorbar\":{\"outlinewidth\":0,\"ticks\":\"\"}},\"marker\":{\"colorbar\":{\"outlinewidth\":0,\"ticks\":\"\"}}}],\"scattermapbox\":[{\"type\":\"scattermapbox\",\"marker\":{\"colorbar\":{\"outlinewidth\":0,\"ticks\":\"\"}}}],\"scatterternary\":[{\"type\":\"scatterternary\",\"marker\":{\"colorbar\":{\"outlinewidth\":0,\"ticks\":\"\"}}}],\"scattercarpet\":[{\"type\":\"scattercarpet\",\"marker\":{\"colorbar\":{\"outlinewidth\":0,\"ticks\":\"\"}}}],\"carpet\":[{\"aaxis\":{\"endlinecolor\":\"#2a3f5f\",\"gridcolor\":\"white\",\"linecolor\":\"white\",\"minorgridcolor\":\"white\",\"startlinecolor\":\"#2a3f5f\"},\"baxis\":{\"endlinecolor\":\"#2a3f5f\",\"gridcolor\":\"white\",\"linecolor\":\"white\",\"minorgridcolor\":\"white\",\"startlinecolor\":\"#2a3f5f\"},\"type\":\"carpet\"}],\"table\":[{\"cells\":{\"fill\":{\"color\":\"#EBF0F8\"},\"line\":{\"color\":\"white\"}},\"header\":{\"fill\":{\"color\":\"#C8D4E3\"},\"line\":{\"color\":\"white\"}},\"type\":\"table\"}],\"barpolar\":[{\"marker\":{\"line\":{\"color\":\"#E5ECF6\",\"width\":0.5},\"pattern\":{\"fillmode\":\"overlay\",\"size\":10,\"solidity\":0.2}},\"type\":\"barpolar\"}],\"pie\":[{\"automargin\":true,\"type\":\"pie\"}]},\"layout\":{\"autotypenumbers\":\"strict\",\"colorway\":[\"#636efa\",\"#EF553B\",\"#00cc96\",\"#ab63fa\",\"#FFA15A\",\"#19d3f3\",\"#FF6692\",\"#B6E880\",\"#FF97FF\",\"#FECB52\"],\"font\":{\"color\":\"#2a3f5f\"},\"hovermode\":\"closest\",\"hoverlabel\":{\"align\":\"left\"},\"paper_bgcolor\":\"white\",\"plot_bgcolor\":\"#E5ECF6\",\"polar\":{\"bgcolor\":\"#E5ECF6\",\"angularaxis\":{\"gridcolor\":\"white\",\"linecolor\":\"white\",\"ticks\":\"\"},\"radialaxis\":{\"gridcolor\":\"white\",\"linecolor\":\"white\",\"ticks\":\"\"}},\"ternary\":{\"bgcolor\":\"#E5ECF6\",\"aaxis\":{\"gridcolor\":\"white\",\"linecolor\":\"white\",\"ticks\":\"\"},\"baxis\":{\"gridcolor\":\"white\",\"linecolor\":\"white\",\"ticks\":\"\"},\"caxis\":{\"gridcolor\":\"white\",\"linecolor\":\"white\",\"ticks\":\"\"}},\"coloraxis\":{\"colorbar\":{\"outlinewidth\":0,\"ticks\":\"\"}},\"colorscale\":{\"sequential\":[[0.0,\"#0d0887\"],[0.1111111111111111,\"#46039f\"],[0.2222222222222222,\"#7201a8\"],[0.3333333333333333,\"#9c179e\"],[0.4444444444444444,\"#bd3786\"],[0.5555555555555556,\"#d8576b\"],[0.6666666666666666,\"#ed7953\"],[0.7777777777777778,\"#fb9f3a\"],[0.8888888888888888,\"#fdca26\"],[1.0,\"#f0f921\"]],\"sequentialminus\":[[0.0,\"#0d0887\"],[0.1111111111111111,\"#46039f\"],[0.2222222222222222,\"#7201a8\"],[0.3333333333333333,\"#9c179e\"],[0.4444444444444444,\"#bd3786\"],[0.5555555555555556,\"#d8576b\"],[0.6666666666666666,\"#ed7953\"],[0.7777777777777778,\"#fb9f3a\"],[0.8888888888888888,\"#fdca26\"],[1.0,\"#f0f921\"]],\"diverging\":[[0,\"#8e0152\"],[0.1,\"#c51b7d\"],[0.2,\"#de77ae\"],[0.3,\"#f1b6da\"],[0.4,\"#fde0ef\"],[0.5,\"#f7f7f7\"],[0.6,\"#e6f5d0\"],[0.7,\"#b8e186\"],[0.8,\"#7fbc41\"],[0.9,\"#4d9221\"],[1,\"#276419\"]]},\"xaxis\":{\"gridcolor\":\"white\",\"linecolor\":\"white\",\"ticks\":\"\",\"title\":{\"standoff\":15},\"zerolinecolor\":\"white\",\"automargin\":true,\"zerolinewidth\":2},\"yaxis\":{\"gridcolor\":\"white\",\"linecolor\":\"white\",\"ticks\":\"\",\"title\":{\"standoff\":15},\"zerolinecolor\":\"white\",\"automargin\":true,\"zerolinewidth\":2},\"scene\":{\"xaxis\":{\"backgroundcolor\":\"#E5ECF6\",\"gridcolor\":\"white\",\"linecolor\":\"white\",\"showbackground\":true,\"ticks\":\"\",\"zerolinecolor\":\"white\",\"gridwidth\":2},\"yaxis\":{\"backgroundcolor\":\"#E5ECF6\",\"gridcolor\":\"white\",\"linecolor\":\"white\",\"showbackground\":true,\"ticks\":\"\",\"zerolinecolor\":\"white\",\"gridwidth\":2},\"zaxis\":{\"backgroundcolor\":\"#E5ECF6\",\"gridcolor\":\"white\",\"linecolor\":\"white\",\"showbackground\":true,\"ticks\":\"\",\"zerolinecolor\":\"white\",\"gridwidth\":2}},\"shapedefaults\":{\"line\":{\"color\":\"#2a3f5f\"}},\"annotationdefaults\":{\"arrowcolor\":\"#2a3f5f\",\"arrowhead\":0,\"arrowwidth\":1},\"geo\":{\"bgcolor\":\"white\",\"landcolor\":\"#E5ECF6\",\"subunitcolor\":\"white\",\"showland\":true,\"showlakes\":true,\"lakecolor\":\"white\"},\"title\":{\"x\":0.05},\"mapbox\":{\"style\":\"light\"}}},\"legend\":{\"tracegroupgap\":0,\"orientation\":\"v\",\"yanchor\":\"top\",\"y\":0.5,\"xanchor\":\"left\",\"x\":1.05,\"title\":{\"text\":\"Hospital Death\"}},\"title\":{\"text\":\"Distribution of Classes in Hospital Death\",\"font\":{\"size\":16},\"x\":0.45,\"xanchor\":\"center\",\"y\":0.95,\"yanchor\":\"top\"},\"piecolorway\":[\"#1c3a73\",\"#7cb1c2\"],\"margin\":{\"t\":50,\"b\":0,\"l\":0,\"r\":0},\"width\":500,\"height\":350},                        {\"responsive\": true}                    ).then(function(){\n",
              "                            \n",
              "var gd = document.getElementById('f6243f2f-531c-4563-b10e-1118708d4e02');\n",
              "var x = new MutationObserver(function (mutations, observer) {{\n",
              "        var display = window.getComputedStyle(gd).display;\n",
              "        if (!display || display === 'none') {{\n",
              "            console.log([gd, 'removed!']);\n",
              "            Plotly.purge(gd);\n",
              "            observer.disconnect();\n",
              "        }}\n",
              "}});\n",
              "\n",
              "// Listen for the removal of the full notebook cells\n",
              "var notebookContainer = gd.closest('#notebook-container');\n",
              "if (notebookContainer) {{\n",
              "    x.observe(notebookContainer, {childList: true});\n",
              "}}\n",
              "\n",
              "// Listen for the clearing of the current output cell\n",
              "var outputEl = gd.closest('.output');\n",
              "if (outputEl) {{\n",
              "    x.observe(outputEl, {childList: true});\n",
              "}}\n",
              "\n",
              "                        })                };                            </script>        </div>\n",
              "</body>\n",
              "</html>"
            ]
          },
          "metadata": {}
        }
      ]
    },
    {
      "cell_type": "markdown",
      "source": [
        "An 92-8 split suggests that there is severe clasas imbalance in the dataset, with the death population representing 8% of the data and the other 92%."
      ],
      "metadata": {
        "id": "W8YZPbTCExSu"
      }
    },
    {
      "cell_type": "markdown",
      "source": [
        "### Age"
      ],
      "metadata": {
        "id": "fglwobypFbQ-"
      }
    },
    {
      "cell_type": "code",
      "source": [
        "print('Oldest individual in the dataset was of:', data['age'].max(), 'Years')\n",
        "print('Youngest individual in the dataset was of:', data['age'].min(), 'Years')\n",
        "print('Average age in the dataset:', data['age'].mean(), 'Years')"
      ],
      "metadata": {
        "colab": {
          "base_uri": "https://localhost:8080/"
        },
        "id": "L5aSGQn7FUGz",
        "outputId": "1f972d80-8c4e-44c9-c1c5-71a7d80649e1"
      },
      "execution_count": 123,
      "outputs": [
        {
          "output_type": "stream",
          "name": "stdout",
          "text": [
            "Oldest individual in the dataset was of: 89.0 Years\n",
            "Youngest individual in the dataset was of: 17.0 Years\n",
            "Average age in the dataset: 65.74785852445427 Years\n"
          ]
        }
      ]
    },
    {
      "cell_type": "code",
      "source": [
        "plt.figure(figsize=(6, 5))\n",
        "sns.violinplot(x=\"gender\", y=\"age\", hue=\"hospital_death\",\n",
        "               data=data, split=True, palette=['#1c3a73', '#7cb1c2'])\n",
        "plt.title('Pclass and Age vs Survived')\n",
        "plt.yticks(range(0, 110, 10))\n",
        "plt.show()"
      ],
      "metadata": {
        "colab": {
          "base_uri": "https://localhost:8080/",
          "height": 487
        },
        "id": "TG5Z0uVDF2CQ",
        "outputId": "da1ca289-515c-48de-8114-a3547fb6ff5f"
      },
      "execution_count": 124,
      "outputs": [
        {
          "output_type": "display_data",
          "data": {
            "text/plain": [
              "<Figure size 600x500 with 1 Axes>"
            ],
            "image/png": "[encoded data removed]"
          },
          "metadata": {}
        }
      ]
    },
    {
      "cell_type": "markdown",
      "source": [
        "### `bun_apache` and `creaatinine_apache` imputation"
      ],
      "metadata": {
        "id": "0JGFl-S-T-fi"
      }
    },
    {
      "cell_type": "code",
      "source": [
        "# Create an IterativeImputer object\n",
        "mice_imputer = IterativeImputer()\n",
        "\n",
        "# Impute bun_apache and creatinine_apache using multiple imputation\n",
        "columns_to_impute = ['bun_apache', 'creatinine_apache']\n",
        "\n",
        "# Perform the imputation\n",
        "data[columns_to_impute] = mice_imputer.fit_transform(data[columns_to_impute])\n",
        "data[columns_to_impute].isnull().sum()"
      ],
      "metadata": {
        "colab": {
          "base_uri": "https://localhost:8080/"
        },
        "id": "Q3Xbh6q1StK8",
        "outputId": "85f75a6a-4689-4d7f-dd71-a1af592b4f6f"
      },
      "execution_count": 127,
      "outputs": [
        {
          "output_type": "execute_result",
          "data": {
            "text/plain": [
              "bun_apache           0\n",
              "creatinine_apache    0\n",
              "dtype: int64"
            ]
          },
          "metadata": {},
          "execution_count": 127
        }
      ]
    },
    {
      "cell_type": "code",
      "source": [
        "data.dtypes"
      ],
      "metadata": {
        "colab": {
          "base_uri": "https://localhost:8080/"
        },
        "id": "IA_ZsvaYWTr4",
        "outputId": "2ce2188b-e1fe-406c-a183-e775608135d9"
      },
      "execution_count": 129,
      "outputs": [
        {
          "output_type": "execute_result",
          "data": {
            "text/plain": [
              "hospital_death                   int64\n",
              "age                            float64\n",
              "gender                          object\n",
              "ethnicity                       object\n",
              "bmi                            float64\n",
              "apache_post_operative            int64\n",
              "arf_apache                     float64\n",
              "bun_apache                     float64\n",
              "creatinine_apache              float64\n",
              "urineoutput_apache             float64\n",
              "heart_rate_apache              float64\n",
              "map_apache                     float64\n",
              "resprate_apache                float64\n",
              "hematocrit_apache              float64\n",
              "wbc_apache                     float64\n",
              "sodium_apache                  float64\n",
              "ventilated_apache              float64\n",
              "diabetes_mellitus              float64\n",
              "hepatic_failure                float64\n",
              "solid_tumor_with_metastasis    float64\n",
              "arf_apache                     float64\n",
              "dtype: object"
            ]
          },
          "metadata": {},
          "execution_count": 129
        }
      ]
    },
    {
      "cell_type": "markdown",
      "source": [
        "## Data Transformation"
      ],
      "metadata": {
        "id": "k8t6fp0KUYdz"
      }
    },
    {
      "cell_type": "code",
      "source": [
        "import category_encoders as ce\n",
        "\n",
        "# Define a function to preprocess and transform input data\n",
        "def fit_transform(input_df):\n",
        "    # Initialize transformers and imputers\n",
        "    ethnicity_transformer = ce.TargetEncoder()\n",
        "    imputer = IterativeImputer(max_iter=10, random_state=0)\n",
        "    st_x = StandardScaler()\n",
        "\n",
        "    # Create a copy of the input DataFrame to avoid modifying the original data\n",
        "    df = input_df.copy()\n",
        "\n",
        "    # Encode 'ethnicity' column if it exists\n",
        "    if 'ethnicity' in df.columns:\n",
        "        df['ethnicity'] = ethnicity_transformer.fit_transform(\n",
        "            df['ethnicity'].to_numpy().reshape(-1, 1), df['hospital_death'].to_numpy()\n",
        "        )\n",
        "\n",
        "    # Perform imputation and standardization on the feature matrix\n",
        "    X = imputer.fit_transform(df.drop('hospital_death', axis=1).to_numpy())\n",
        "    X = st_x.fit_transform(X)\n",
        "\n",
        "    # Extract the target variable 'Class/ASD'\n",
        "    Y = df['hospital_death'].to_numpy()\n",
        "\n",
        "    # Return the preprocessed feature matrix, target variable, and transformers/imputers\n",
        "    return X, Y, ethnicity_transformer, imputer, st_x\n",
        "\n",
        "# Define a function to transform new data using pre-trained transformers and imputers\n",
        "def transform(input_df, ethnicity_transformer, imputer, st_x):\n",
        "    # Create a copy of the input DataFrame to avoid modifying the original data\n",
        "    df = input_df.copy()\n",
        "\n",
        "    # Encode 'ethnicity' column if it exists\n",
        "    if 'ethnicity' in df.columns:\n",
        "        df['ethnicity'] = ethnicity_transformer.transform(\n",
        "            df['ethnicity'].to_numpy().reshape(-1, 1)\n",
        "        )\n",
        "\n",
        "    # Perform imputation and standardization on the feature matrix\n",
        "    X = imputer.transform(df.drop('hospital_death', axis=1).to_numpy())\n",
        "    X = st_x.transform(X)\n",
        "\n",
        "    # Return the transformed feature matrix\n",
        "    return X"
      ],
      "metadata": {
        "id": "V7BBccKnUYLZ"
      },
      "execution_count": 139,
      "outputs": []
    },
    {
      "cell_type": "code",
      "source": [
        "# Define a function to compute various scores for model evaluation\n",
        "def get_scores(Y_pred, Y):\n",
        "    # Calculate confusion matrix, classification report, ROC AUC, and accuracy\n",
        "    conf_matrix = confusion_matrix(Y_pred, Y)\n",
        "    class_report = classification_report(Y_pred, Y)\n",
        "    auc = roc_auc_score(Y_pred, Y)\n",
        "    acc = accuracy_score(Y_pred, Y)\n",
        "\n",
        "    # Return the computed scores\n",
        "    return conf_matrix, class_report, auc, acc\n",
        "\n",
        "# Define a function to print the computed scores\n",
        "def print_scores(conf_matrix, class_report, auc, acc):\n",
        "    print('AUC : ', auc)\n",
        "    print('Accuracy : ', acc)\n",
        "    print(\"Confusion Matrix:\")\n",
        "    print(conf_matrix)\n",
        "    print(\"\\nClassification Report:\")\n",
        "    print(class_report)\n"
      ],
      "metadata": {
        "id": "VIixLiKoW7JD"
      },
      "execution_count": 140,
      "outputs": []
    },
    {
      "cell_type": "markdown",
      "source": [
        "# Feature Selection\n",
        "\n",
        "[Determining which variables (demographics, vitals, lab results, APACHE scores, comorbidities) to include in the model.]\n",
        "\n",
        "Vasoactive management considerations and rationale:\n",
        "1. blood pressure\n",
        "2. beats per minute\n",
        "3. cardiogenic shock\n",
        "4. heart rate\n",
        "5. diastolic pressure\n",
        "6. pulmonary artery catheter\n",
        "7. pulmonary vascular resistance\n",
        "8. systemic vascular resistance\n"
      ],
      "metadata": {
        "id": "0oU72_8RyoC_"
      }
    },
    {
      "cell_type": "code",
      "source": [
        "# create list of numerical, categorical, multinomial features\n",
        "target_column = 'hospital_death'\n",
        "numerical_columns = ['d1_diasbp_invasive_max', 'd1_diasbp_invasive_min', 'd1_diasbp_max', 'd1_diasbp_min', 'd1_diasbp_noninvasive_max', 'd1_diasbp_noninvasive_min',\n",
        "                     'd1_heartrate_max', 'd1_heartrate_min', 'd1_mbp_invasive_max', 'd1_mbp_invasive_min', 'd1_mbp_max', 'd1_mbp_min', 'd1_mbp_noninvasive_max',\n",
        "                     'd1_mbp_noninvasive_min', 'd1_sysbp_invasive_max', 'd1_sysbp_invasive_min', 'd1_sysbp_max', 'd1_sysbp_min', 'd1_sysbp_noninvasive_max',\n",
        "                     'd1_sysbp_noninvasive_min']"
      ],
      "metadata": {
        "id": "_3q1r_hLyr_8"
      },
      "execution_count": null,
      "outputs": []
    },
    {
      "cell_type": "markdown",
      "source": [
        "# Model Building"
      ],
      "metadata": {
        "id": "xO7tvB0zysdC"
      }
    },
    {
      "cell_type": "code",
      "source": [
        "from sklearn.linear_model import LogisticRegression\n",
        "\n",
        "data['gender'].replace({'F' : 1, 'M' : 0}, inplace=True)\n",
        "\n",
        "# Splitting the dataset into training and test sets\n",
        "train = data.sample(frac=0.7, random_state=10)  # 70% for training\n",
        "test = data.drop(train.index)  # Remaining data for testing\n",
        "\n",
        "# Feature engineering and preprocessing on the training set\n",
        "X_train, Y_train, ethnicity_transformer, imputer, st_x = fit_transform(train)\n",
        "\n",
        "# Preprocess and transform the test set\n",
        "X_test = transform(test, ethnicity_transformer, imputer, st_x)\n",
        "Y_test = test['hospital_death'].to_numpy()\n",
        "\n",
        "# Initialize and train a logistic regression model\n",
        "model = LogisticRegression()\n",
        "model.fit(X_train, Y_train)\n",
        "\n",
        "# Make predictions on the test and training sets\n",
        "y_pred_test = model.predict(X_test)\n",
        "y_pred_train = model.predict(X_train)\n",
        "\n",
        "# Calculate evaluation metrics and scores for the test and training sets\n",
        "conf_matrix_test, class_report_test, auc_test, acc_test = get_scores(y_pred_test, Y_test)\n",
        "conf_matrix_train, class_report_train, auc_train, acc_train = get_scores(y_pred_train, Y_train)\n",
        "\n",
        "# Print scores and evaluation metrics for the training set\n",
        "print('======== Training Set ==========')\n",
        "print_scores(conf_matrix_train, class_report_train, auc_train, acc_train)\n",
        "\n",
        "# Print scores and evaluation metrics for the test set\n",
        "print('======== Test Set ==========')\n",
        "print_scores(conf_matrix_test, class_report_test, auc_test, acc_test)\n",
        "\n",
        "# Plot the ROC curve for the training set\n",
        "fpr, tpr, thresholds = roc_curve(y_pred_train, Y_train)\n",
        "roc_auc = auc(fpr, tpr)\n",
        "display = RocCurveDisplay(fpr=fpr, tpr=tpr, roc_auc=roc_auc, estimator_name='Logistic Regression')\n",
        "display.plot()"
      ],
      "metadata": {
        "id": "jUCyweXLyykI",
        "colab": {
          "base_uri": "https://localhost:8080/",
          "height": 1000
        },
        "outputId": "83c6e596-9bc6-4a03-fee8-adc89ba3dac4"
      },
      "execution_count": 142,
      "outputs": [
        {
          "output_type": "stream",
          "name": "stdout",
          "text": [
            "======== Training Set ==========\n",
            "AUC :  0.7501663109402625\n",
            "Accuracy :  0.923853516834135\n",
            "Confusion Matrix:\n",
            "[[19134  1397]\n",
            " [  202   266]]\n",
            "\n",
            "Classification Report:\n",
            "              precision    recall  f1-score   support\n",
            "\n",
            "           0       0.99      0.93      0.96     20531\n",
            "           1       0.16      0.57      0.25       468\n",
            "\n",
            "    accuracy                           0.92     20999\n",
            "   macro avg       0.57      0.75      0.60     20999\n",
            "weighted avg       0.97      0.92      0.94     20999\n",
            "\n",
            "======== Test Set ==========\n",
            "AUC :  0.7354128488302794\n",
            "Accuracy :  0.9211111111111111\n",
            "Confusion Matrix:\n",
            "[[8177  614]\n",
            " [  96  113]]\n",
            "\n",
            "Classification Report:\n",
            "              precision    recall  f1-score   support\n",
            "\n",
            "           0       0.99      0.93      0.96      8791\n",
            "           1       0.16      0.54      0.24       209\n",
            "\n",
            "    accuracy                           0.92      9000\n",
            "   macro avg       0.57      0.74      0.60      9000\n",
            "weighted avg       0.97      0.92      0.94      9000\n",
            "\n"
          ]
        },
        {
          "output_type": "execute_result",
          "data": {
            "text/plain": [
              "<sklearn.metrics._plot.roc_curve.RocCurveDisplay at 0x7b5b36d0fb80>"
            ]
          },
          "metadata": {},
          "execution_count": 142
        },
        {
          "output_type": "display_data",
          "data": {
            "text/plain": [
              "<Figure size 640x480 with 1 Axes>"
            ],
            "image/png": "[encoded data removed]"
          },
          "metadata": {}
        }
      ]
    },
    {
      "cell_type": "markdown",
      "source": [
        "# Model Evaluation"
      ],
      "metadata": {
        "id": "d2WyHHqRyywR"
      }
    },
    {
      "cell_type": "code",
      "source": [],
      "metadata": {
        "id": "h14EtzYRy2Hu"
      },
      "execution_count": null,
      "outputs": []
    }
  ]
}