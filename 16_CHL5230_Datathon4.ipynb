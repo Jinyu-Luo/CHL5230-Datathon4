{
  "nbformat": 4,
  "nbformat_minor": 0,
  "metadata": {
    "colab": {
      "provenance": [],
      "toc_visible": true,
      "include_colab_link": true
    },
    "kernelspec": {
      "name": "python3",
      "display_name": "Python 3"
    },
    "language_info": {
      "name": "python"
    }
  },
  "cells": [
    {
      "cell_type": "markdown",
      "metadata": {
        "id": "view-in-github",
        "colab_type": "text"
      },
      "source": [
        "<a href=\"https://colab.research.google.com/github/Jinyu-Luo/CHL5230-Datathon4/blob/main/16_CHL5230_Datathon4.ipynb\" target=\"_parent\"><img src=\"https://colab.research.google.com/assets/colab-badge.svg\" alt=\"Open In Colab\"/></a>"
      ]
    },
    {
      "cell_type": "markdown",
      "source": [
        "# Next Step:\n",
        "\n",
        "- Determine features to be included.\n",
        "\n",
        "- Remove all the columns with over 60% of missing values.\n",
        "\n",
        "- Do EDA separately.\n",
        "\n"
      ],
      "metadata": {
        "id": "r0O33vBfpDcP"
      }
    },
    {
      "cell_type": "code",
      "source": [
        "!pip install torch\n",
        "!pip install statsmodels\n",
        "!pip install category_encoders\n",
        "!pip install klib"
      ],
      "metadata": {
        "id": "rWODOWsM3Mxh",
        "colab": {
          "base_uri": "https://localhost:8080/"
        },
        "outputId": "015be88d-f66f-404f-8661-b6ab5a2e7af0"
      },
      "execution_count": null,
      "outputs": [
        {
          "output_type": "stream",
          "name": "stdout",
          "text": [
            "Requirement already satisfied: torch in /usr/local/lib/python3.10/dist-packages (2.1.0+cu118)\n",
            "Requirement already satisfied: filelock in /usr/local/lib/python3.10/dist-packages (from torch) (3.13.1)\n",
            "Requirement already satisfied: typing-extensions in /usr/local/lib/python3.10/dist-packages (from torch) (4.5.0)\n",
            "Requirement already satisfied: sympy in /usr/local/lib/python3.10/dist-packages (from torch) (1.12)\n",
            "Requirement already satisfied: networkx in /usr/local/lib/python3.10/dist-packages (from torch) (3.2.1)\n",
            "Requirement already satisfied: jinja2 in /usr/local/lib/python3.10/dist-packages (from torch) (3.1.2)\n",
            "Requirement already satisfied: fsspec in /usr/local/lib/python3.10/dist-packages (from torch) (2023.6.0)\n",
            "Requirement already satisfied: triton==2.1.0 in /usr/local/lib/python3.10/dist-packages (from torch) (2.1.0)\n",
            "Requirement already satisfied: MarkupSafe>=2.0 in /usr/local/lib/python3.10/dist-packages (from jinja2->torch) (2.1.3)\n",
            "Requirement already satisfied: mpmath>=0.19 in /usr/local/lib/python3.10/dist-packages (from sympy->torch) (1.3.0)\n",
            "Requirement already satisfied: statsmodels in /usr/local/lib/python3.10/dist-packages (0.14.0)\n",
            "Requirement already satisfied: numpy>=1.18 in /usr/local/lib/python3.10/dist-packages (from statsmodels) (1.23.5)\n",
            "Requirement already satisfied: scipy!=1.9.2,>=1.4 in /usr/local/lib/python3.10/dist-packages (from statsmodels) (1.11.3)\n",
            "Requirement already satisfied: pandas>=1.0 in /usr/local/lib/python3.10/dist-packages (from statsmodels) (1.5.3)\n",
            "Requirement already satisfied: patsy>=0.5.2 in /usr/local/lib/python3.10/dist-packages (from statsmodels) (0.5.3)\n",
            "Requirement already satisfied: packaging>=21.3 in /usr/local/lib/python3.10/dist-packages (from statsmodels) (23.2)\n",
            "Requirement already satisfied: python-dateutil>=2.8.1 in /usr/local/lib/python3.10/dist-packages (from pandas>=1.0->statsmodels) (2.8.2)\n",
            "Requirement already satisfied: pytz>=2020.1 in /usr/local/lib/python3.10/dist-packages (from pandas>=1.0->statsmodels) (2023.3.post1)\n",
            "Requirement already satisfied: six in /usr/local/lib/python3.10/dist-packages (from patsy>=0.5.2->statsmodels) (1.16.0)\n",
            "Collecting category_encoders\n",
            "  Downloading category_encoders-2.6.3-py2.py3-none-any.whl (81 kB)\n",
            "\u001b[2K     \u001b[90m━━━━━━━━━━━━━━━━━━━━━━━━━━━━━━━━━━━━━━━━\u001b[0m \u001b[32m81.9/81.9 kB\u001b[0m \u001b[31m2.0 MB/s\u001b[0m eta \u001b[36m0:00:00\u001b[0m\n",
            "\u001b[?25hRequirement already satisfied: numpy>=1.14.0 in /usr/local/lib/python3.10/dist-packages (from category_encoders) (1.23.5)\n",
            "Requirement already satisfied: scikit-learn>=0.20.0 in /usr/local/lib/python3.10/dist-packages (from category_encoders) (1.2.2)\n",
            "Requirement already satisfied: scipy>=1.0.0 in /usr/local/lib/python3.10/dist-packages (from category_encoders) (1.11.3)\n",
            "Requirement already satisfied: statsmodels>=0.9.0 in /usr/local/lib/python3.10/dist-packages (from category_encoders) (0.14.0)\n",
            "Requirement already satisfied: pandas>=1.0.5 in /usr/local/lib/python3.10/dist-packages (from category_encoders) (1.5.3)\n",
            "Requirement already satisfied: patsy>=0.5.1 in /usr/local/lib/python3.10/dist-packages (from category_encoders) (0.5.3)\n",
            "Requirement already satisfied: python-dateutil>=2.8.1 in /usr/local/lib/python3.10/dist-packages (from pandas>=1.0.5->category_encoders) (2.8.2)\n",
            "Requirement already satisfied: pytz>=2020.1 in /usr/local/lib/python3.10/dist-packages (from pandas>=1.0.5->category_encoders) (2023.3.post1)\n",
            "Requirement already satisfied: six in /usr/local/lib/python3.10/dist-packages (from patsy>=0.5.1->category_encoders) (1.16.0)\n",
            "Requirement already satisfied: joblib>=1.1.1 in /usr/local/lib/python3.10/dist-packages (from scikit-learn>=0.20.0->category_encoders) (1.3.2)\n",
            "Requirement already satisfied: threadpoolctl>=2.0.0 in /usr/local/lib/python3.10/dist-packages (from scikit-learn>=0.20.0->category_encoders) (3.2.0)\n",
            "Requirement already satisfied: packaging>=21.3 in /usr/local/lib/python3.10/dist-packages (from statsmodels>=0.9.0->category_encoders) (23.2)\n",
            "Installing collected packages: category_encoders\n",
            "Successfully installed category_encoders-2.6.3\n",
            "Collecting klib\n",
            "  Downloading klib-1.1.2-py3-none-any.whl (22 kB)\n",
            "Requirement already satisfied: Jinja2<4.0.0,>=3.0.3 in /usr/local/lib/python3.10/dist-packages (from klib) (3.1.2)\n",
            "Requirement already satisfied: matplotlib<4.0.0,>=3.0.3 in /usr/local/lib/python3.10/dist-packages (from klib) (3.7.1)\n",
            "Requirement already satisfied: numpy<2.0.0,>=1.16.3 in /usr/local/lib/python3.10/dist-packages (from klib) (1.23.5)\n",
            "Requirement already satisfied: pandas<3.0,>=1.2 in /usr/local/lib/python3.10/dist-packages (from klib) (1.5.3)\n",
            "Requirement already satisfied: plotly<6.0.0,>=5.2.2 in /usr/local/lib/python3.10/dist-packages (from klib) (5.15.0)\n",
            "Requirement already satisfied: scipy<2.0.0,>=1.1.0 in /usr/local/lib/python3.10/dist-packages (from klib) (1.11.3)\n",
            "Collecting screeninfo<0.9.0,>=0.8.1 (from klib)\n",
            "  Downloading screeninfo-0.8.1-py3-none-any.whl (12 kB)\n",
            "Requirement already satisfied: seaborn>=0.11.2 in /usr/local/lib/python3.10/dist-packages (from klib) (0.12.2)\n",
            "Requirement already satisfied: MarkupSafe>=2.0 in /usr/local/lib/python3.10/dist-packages (from Jinja2<4.0.0,>=3.0.3->klib) (2.1.3)\n",
            "Requirement already satisfied: contourpy>=1.0.1 in /usr/local/lib/python3.10/dist-packages (from matplotlib<4.0.0,>=3.0.3->klib) (1.2.0)\n",
            "Requirement already satisfied: cycler>=0.10 in /usr/local/lib/python3.10/dist-packages (from matplotlib<4.0.0,>=3.0.3->klib) (0.12.1)\n",
            "Requirement already satisfied: fonttools>=4.22.0 in /usr/local/lib/python3.10/dist-packages (from matplotlib<4.0.0,>=3.0.3->klib) (4.44.0)\n",
            "Requirement already satisfied: kiwisolver>=1.0.1 in /usr/local/lib/python3.10/dist-packages (from matplotlib<4.0.0,>=3.0.3->klib) (1.4.5)\n",
            "Requirement already satisfied: packaging>=20.0 in /usr/local/lib/python3.10/dist-packages (from matplotlib<4.0.0,>=3.0.3->klib) (23.2)\n",
            "Requirement already satisfied: pillow>=6.2.0 in /usr/local/lib/python3.10/dist-packages (from matplotlib<4.0.0,>=3.0.3->klib) (9.4.0)\n",
            "Requirement already satisfied: pyparsing>=2.3.1 in /usr/local/lib/python3.10/dist-packages (from matplotlib<4.0.0,>=3.0.3->klib) (3.1.1)\n",
            "Requirement already satisfied: python-dateutil>=2.7 in /usr/local/lib/python3.10/dist-packages (from matplotlib<4.0.0,>=3.0.3->klib) (2.8.2)\n",
            "Requirement already satisfied: pytz>=2020.1 in /usr/local/lib/python3.10/dist-packages (from pandas<3.0,>=1.2->klib) (2023.3.post1)\n",
            "Requirement already satisfied: tenacity>=6.2.0 in /usr/local/lib/python3.10/dist-packages (from plotly<6.0.0,>=5.2.2->klib) (8.2.3)\n",
            "Requirement already satisfied: six>=1.5 in /usr/local/lib/python3.10/dist-packages (from python-dateutil>=2.7->matplotlib<4.0.0,>=3.0.3->klib) (1.16.0)\n",
            "Installing collected packages: screeninfo, klib\n",
            "Successfully installed klib-1.1.2 screeninfo-0.8.1\n"
          ]
        }
      ]
    },
    {
      "cell_type": "code",
      "execution_count": null,
      "metadata": {
        "id": "WRqpm_PY291M"
      },
      "outputs": [],
      "source": [
        "# importing PyTorch library as 't' for convenience\n",
        "import torch as t\n",
        "\n",
        "# importing other necessary libraries\n",
        "import numpy as np\n",
        "from torch.nn.functional import sigmoid, relu, tanh\n",
        "from torch.optim import Adam\n",
        "import matplotlib.pyplot as plt\n",
        "import pandas as pd\n",
        "from sklearn.preprocessing import StandardScaler\n",
        "from sklearn.metrics import classification_report, confusion_matrix, roc_curve, auc, RocCurveDisplay\n",
        "from torch.utils.data import TensorDataset, DataLoader\n",
        "from sklearn.metrics import roc_auc_score, accuracy_score\n",
        "\n",
        "# importing PyTorch modules for building neural networks\n",
        "from torch.nn import Tanh, Linear, Sequential, Sigmoid, Dropout\n",
        "\n",
        "import io\n",
        "import seaborn as sns\n",
        "\n",
        "from statsmodels.imputation import mice\n",
        "import statsmodels.api as sm\n",
        "from sklearn.impute import SimpleImputer\n",
        "from sklearn.experimental import enable_iterative_imputer\n",
        "from sklearn.impute import IterativeImputer\n",
        "import klib\n",
        "import warnings\n",
        "warnings.filterwarnings('ignore')"
      ]
    },
    {
      "cell_type": "code",
      "source": [
        "# upload the data\n",
        "from google.colab import files\n",
        "uploaded = files.upload()"
      ],
      "metadata": {
        "colab": {
          "base_uri": "https://localhost:8080/",
          "height": 74
        },
        "id": "2DukcEAs3hNn",
        "outputId": "3b263746-d3dc-4a27-fd1f-c5904eafea3a"
      },
      "execution_count": null,
      "outputs": [
        {
          "output_type": "display_data",
          "data": {
            "text/plain": [
              "<IPython.core.display.HTML object>"
            ],
            "text/html": [
              "\n",
              "     <input type=\"file\" id=\"files-4004db1e-4fb7-4aaf-9b75-3c89d56174a6\" name=\"files[]\" multiple disabled\n",
              "        style=\"border:none\" />\n",
              "     <output id=\"result-4004db1e-4fb7-4aaf-9b75-3c89d56174a6\">\n",
              "      Upload widget is only available when the cell has been executed in the\n",
              "      current browser session. Please rerun this cell to enable.\n",
              "      </output>\n",
              "      <script>// Copyright 2017 Google LLC\n",
              "//\n",
              "// Licensed under the Apache License, Version 2.0 (the \"License\");\n",
              "// you may not use this file except in compliance with the License.\n",
              "// You may obtain a copy of the License at\n",
              "//\n",
              "//      http://www.apache.org/licenses/LICENSE-2.0\n",
              "//\n",
              "// Unless required by applicable law or agreed to in writing, software\n",
              "// distributed under the License is distributed on an \"AS IS\" BASIS,\n",
              "// WITHOUT WARRANTIES OR CONDITIONS OF ANY KIND, either express or implied.\n",
              "// See the License for the specific language governing permissions and\n",
              "// limitations under the License.\n",
              "\n",
              "/**\n",
              " * @fileoverview Helpers for google.colab Python module.\n",
              " */\n",
              "(function(scope) {\n",
              "function span(text, styleAttributes = {}) {\n",
              "  const element = document.createElement('span');\n",
              "  element.textContent = text;\n",
              "  for (const key of Object.keys(styleAttributes)) {\n",
              "    element.style[key] = styleAttributes[key];\n",
              "  }\n",
              "  return element;\n",
              "}\n",
              "\n",
              "// Max number of bytes which will be uploaded at a time.\n",
              "const MAX_PAYLOAD_SIZE = 100 * 1024;\n",
              "\n",
              "function _uploadFiles(inputId, outputId) {\n",
              "  const steps = uploadFilesStep(inputId, outputId);\n",
              "  const outputElement = document.getElementById(outputId);\n",
              "  // Cache steps on the outputElement to make it available for the next call\n",
              "  // to uploadFilesContinue from Python.\n",
              "  outputElement.steps = steps;\n",
              "\n",
              "  return _uploadFilesContinue(outputId);\n",
              "}\n",
              "\n",
              "// This is roughly an async generator (not supported in the browser yet),\n",
              "// where there are multiple asynchronous steps and the Python side is going\n",
              "// to poll for completion of each step.\n",
              "// This uses a Promise to block the python side on completion of each step,\n",
              "// then passes the result of the previous step as the input to the next step.\n",
              "function _uploadFilesContinue(outputId) {\n",
              "  const outputElement = document.getElementById(outputId);\n",
              "  const steps = outputElement.steps;\n",
              "\n",
              "  const next = steps.next(outputElement.lastPromiseValue);\n",
              "  return Promise.resolve(next.value.promise).then((value) => {\n",
              "    // Cache the last promise value to make it available to the next\n",
              "    // step of the generator.\n",
              "    outputElement.lastPromiseValue = value;\n",
              "    return next.value.response;\n",
              "  });\n",
              "}\n",
              "\n",
              "/**\n",
              " * Generator function which is called between each async step of the upload\n",
              " * process.\n",
              " * @param {string} inputId Element ID of the input file picker element.\n",
              " * @param {string} outputId Element ID of the output display.\n",
              " * @return {!Iterable<!Object>} Iterable of next steps.\n",
              " */\n",
              "function* uploadFilesStep(inputId, outputId) {\n",
              "  const inputElement = document.getElementById(inputId);\n",
              "  inputElement.disabled = false;\n",
              "\n",
              "  const outputElement = document.getElementById(outputId);\n",
              "  outputElement.innerHTML = '';\n",
              "\n",
              "  const pickedPromise = new Promise((resolve) => {\n",
              "    inputElement.addEventListener('change', (e) => {\n",
              "      resolve(e.target.files);\n",
              "    });\n",
              "  });\n",
              "\n",
              "  const cancel = document.createElement('button');\n",
              "  inputElement.parentElement.appendChild(cancel);\n",
              "  cancel.textContent = 'Cancel upload';\n",
              "  const cancelPromise = new Promise((resolve) => {\n",
              "    cancel.onclick = () => {\n",
              "      resolve(null);\n",
              "    };\n",
              "  });\n",
              "\n",
              "  // Wait for the user to pick the files.\n",
              "  const files = yield {\n",
              "    promise: Promise.race([pickedPromise, cancelPromise]),\n",
              "    response: {\n",
              "      action: 'starting',\n",
              "    }\n",
              "  };\n",
              "\n",
              "  cancel.remove();\n",
              "\n",
              "  // Disable the input element since further picks are not allowed.\n",
              "  inputElement.disabled = true;\n",
              "\n",
              "  if (!files) {\n",
              "    return {\n",
              "      response: {\n",
              "        action: 'complete',\n",
              "      }\n",
              "    };\n",
              "  }\n",
              "\n",
              "  for (const file of files) {\n",
              "    const li = document.createElement('li');\n",
              "    li.append(span(file.name, {fontWeight: 'bold'}));\n",
              "    li.append(span(\n",
              "        `(${file.type || 'n/a'}) - ${file.size} bytes, ` +\n",
              "        `last modified: ${\n",
              "            file.lastModifiedDate ? file.lastModifiedDate.toLocaleDateString() :\n",
              "                                    'n/a'} - `));\n",
              "    const percent = span('0% done');\n",
              "    li.appendChild(percent);\n",
              "\n",
              "    outputElement.appendChild(li);\n",
              "\n",
              "    const fileDataPromise = new Promise((resolve) => {\n",
              "      const reader = new FileReader();\n",
              "      reader.onload = (e) => {\n",
              "        resolve(e.target.result);\n",
              "      };\n",
              "      reader.readAsArrayBuffer(file);\n",
              "    });\n",
              "    // Wait for the data to be ready.\n",
              "    let fileData = yield {\n",
              "      promise: fileDataPromise,\n",
              "      response: {\n",
              "        action: 'continue',\n",
              "      }\n",
              "    };\n",
              "\n",
              "    // Use a chunked sending to avoid message size limits. See b/62115660.\n",
              "    let position = 0;\n",
              "    do {\n",
              "      const length = Math.min(fileData.byteLength - position, MAX_PAYLOAD_SIZE);\n",
              "      const chunk = new Uint8Array(fileData, position, length);\n",
              "      position += length;\n",
              "\n",
              "      const base64 = btoa(String.fromCharCode.apply(null, chunk));\n",
              "      yield {\n",
              "        response: {\n",
              "          action: 'append',\n",
              "          file: file.name,\n",
              "          data: base64,\n",
              "        },\n",
              "      };\n",
              "\n",
              "      let percentDone = fileData.byteLength === 0 ?\n",
              "          100 :\n",
              "          Math.round((position / fileData.byteLength) * 100);\n",
              "      percent.textContent = `${percentDone}% done`;\n",
              "\n",
              "    } while (position < fileData.byteLength);\n",
              "  }\n",
              "\n",
              "  // All done.\n",
              "  yield {\n",
              "    response: {\n",
              "      action: 'complete',\n",
              "    }\n",
              "  };\n",
              "}\n",
              "\n",
              "scope.google = scope.google || {};\n",
              "scope.google.colab = scope.google.colab || {};\n",
              "scope.google.colab._files = {\n",
              "  _uploadFiles,\n",
              "  _uploadFilesContinue,\n",
              "};\n",
              "})(self);\n",
              "</script> "
            ]
          },
          "metadata": {}
        },
        {
          "output_type": "stream",
          "name": "stdout",
          "text": [
            "Saving datathon4.csv to datathon4 (1).csv\n"
          ]
        }
      ]
    },
    {
      "cell_type": "code",
      "source": [
        "df = pd.read_csv(io.BytesIO(uploaded['datathon4 (1).csv']))\n",
        "df.head()"
      ],
      "metadata": {
        "colab": {
          "base_uri": "https://localhost:8080/",
          "height": 256
        },
        "id": "rfYzcoIu3yfO",
        "outputId": "f20645bf-1c47-42b7-a5bc-8a7e3220d725"
      },
      "execution_count": null,
      "outputs": [
        {
          "output_type": "execute_result",
          "data": {
            "text/plain": [
              "   encounter_id  patient_id  hospital_id  hospital_death   age    bmi  \\\n",
              "0         66154       25312          118               0  68.0  22.73   \n",
              "1        114252       59342           81               0  77.0  27.42   \n",
              "2        119783       50777          118               0  25.0  31.95   \n",
              "3         79267       46918          118               0  81.0  22.64   \n",
              "4         92056       34377           33               0  19.0    NaN   \n",
              "\n",
              "   elective_surgery  ethnicity gender  height  ... aids cirrhosis  \\\n",
              "0                 0  Caucasian      M   180.3  ...  0.0       0.0   \n",
              "1                 0  Caucasian      F   160.0  ...  0.0       0.0   \n",
              "2                 0  Caucasian      F   172.7  ...  0.0       0.0   \n",
              "3                 1  Caucasian      F   165.1  ...  0.0       0.0   \n",
              "4                 0  Caucasian      M   188.0  ...  0.0       0.0   \n",
              "\n",
              "   diabetes_mellitus hepatic_failure immunosuppression  leukemia  lymphoma  \\\n",
              "0                1.0             0.0               0.0       0.0       0.0   \n",
              "1                1.0             0.0               0.0       0.0       0.0   \n",
              "2                0.0             0.0               0.0       0.0       0.0   \n",
              "3                0.0             0.0               0.0       0.0       0.0   \n",
              "4                0.0             0.0               0.0       0.0       0.0   \n",
              "\n",
              "   solid_tumor_with_metastasis  apache_3j_bodysystem  apache_2_bodysystem  \n",
              "0                          0.0                Sepsis       Cardiovascular  \n",
              "1                          0.0           Respiratory          Respiratory  \n",
              "2                          0.0             Metabolic            Metabolic  \n",
              "3                          0.0        Cardiovascular       Cardiovascular  \n",
              "4                          0.0                Trauma               Trauma  \n",
              "\n",
              "[5 rows x 186 columns]"
            ],
            "text/html": [
              "\n",
              "  <div id=\"df-715a4e0b-0ef3-4b65-ae3e-7f9e49a24304\" class=\"colab-df-container\">\n",
              "    <div>\n",
              "<style scoped>\n",
              "    .dataframe tbody tr th:only-of-type {\n",
              "        vertical-align: middle;\n",
              "    }\n",
              "\n",
              "    .dataframe tbody tr th {\n",
              "        vertical-align: top;\n",
              "    }\n",
              "\n",
              "    .dataframe thead th {\n",
              "        text-align: right;\n",
              "    }\n",
              "</style>\n",
              "<table border=\"1\" class=\"dataframe\">\n",
              "  <thead>\n",
              "    <tr style=\"text-align: right;\">\n",
              "      <th></th>\n",
              "      <th>encounter_id</th>\n",
              "      <th>patient_id</th>\n",
              "      <th>hospital_id</th>\n",
              "      <th>hospital_death</th>\n",
              "      <th>age</th>\n",
              "      <th>bmi</th>\n",
              "      <th>elective_surgery</th>\n",
              "      <th>ethnicity</th>\n",
              "      <th>gender</th>\n",
              "      <th>height</th>\n",
              "      <th>...</th>\n",
              "      <th>aids</th>\n",
              "      <th>cirrhosis</th>\n",
              "      <th>diabetes_mellitus</th>\n",
              "      <th>hepatic_failure</th>\n",
              "      <th>immunosuppression</th>\n",
              "      <th>leukemia</th>\n",
              "      <th>lymphoma</th>\n",
              "      <th>solid_tumor_with_metastasis</th>\n",
              "      <th>apache_3j_bodysystem</th>\n",
              "      <th>apache_2_bodysystem</th>\n",
              "    </tr>\n",
              "  </thead>\n",
              "  <tbody>\n",
              "    <tr>\n",
              "      <th>0</th>\n",
              "      <td>66154</td>\n",
              "      <td>25312</td>\n",
              "      <td>118</td>\n",
              "      <td>0</td>\n",
              "      <td>68.0</td>\n",
              "      <td>22.73</td>\n",
              "      <td>0</td>\n",
              "      <td>Caucasian</td>\n",
              "      <td>M</td>\n",
              "      <td>180.3</td>\n",
              "      <td>...</td>\n",
              "      <td>0.0</td>\n",
              "      <td>0.0</td>\n",
              "      <td>1.0</td>\n",
              "      <td>0.0</td>\n",
              "      <td>0.0</td>\n",
              "      <td>0.0</td>\n",
              "      <td>0.0</td>\n",
              "      <td>0.0</td>\n",
              "      <td>Sepsis</td>\n",
              "      <td>Cardiovascular</td>\n",
              "    </tr>\n",
              "    <tr>\n",
              "      <th>1</th>\n",
              "      <td>114252</td>\n",
              "      <td>59342</td>\n",
              "      <td>81</td>\n",
              "      <td>0</td>\n",
              "      <td>77.0</td>\n",
              "      <td>27.42</td>\n",
              "      <td>0</td>\n",
              "      <td>Caucasian</td>\n",
              "      <td>F</td>\n",
              "      <td>160.0</td>\n",
              "      <td>...</td>\n",
              "      <td>0.0</td>\n",
              "      <td>0.0</td>\n",
              "      <td>1.0</td>\n",
              "      <td>0.0</td>\n",
              "      <td>0.0</td>\n",
              "      <td>0.0</td>\n",
              "      <td>0.0</td>\n",
              "      <td>0.0</td>\n",
              "      <td>Respiratory</td>\n",
              "      <td>Respiratory</td>\n",
              "    </tr>\n",
              "    <tr>\n",
              "      <th>2</th>\n",
              "      <td>119783</td>\n",
              "      <td>50777</td>\n",
              "      <td>118</td>\n",
              "      <td>0</td>\n",
              "      <td>25.0</td>\n",
              "      <td>31.95</td>\n",
              "      <td>0</td>\n",
              "      <td>Caucasian</td>\n",
              "      <td>F</td>\n",
              "      <td>172.7</td>\n",
              "      <td>...</td>\n",
              "      <td>0.0</td>\n",
              "      <td>0.0</td>\n",
              "      <td>0.0</td>\n",
              "      <td>0.0</td>\n",
              "      <td>0.0</td>\n",
              "      <td>0.0</td>\n",
              "      <td>0.0</td>\n",
              "      <td>0.0</td>\n",
              "      <td>Metabolic</td>\n",
              "      <td>Metabolic</td>\n",
              "    </tr>\n",
              "    <tr>\n",
              "      <th>3</th>\n",
              "      <td>79267</td>\n",
              "      <td>46918</td>\n",
              "      <td>118</td>\n",
              "      <td>0</td>\n",
              "      <td>81.0</td>\n",
              "      <td>22.64</td>\n",
              "      <td>1</td>\n",
              "      <td>Caucasian</td>\n",
              "      <td>F</td>\n",
              "      <td>165.1</td>\n",
              "      <td>...</td>\n",
              "      <td>0.0</td>\n",
              "      <td>0.0</td>\n",
              "      <td>0.0</td>\n",
              "      <td>0.0</td>\n",
              "      <td>0.0</td>\n",
              "      <td>0.0</td>\n",
              "      <td>0.0</td>\n",
              "      <td>0.0</td>\n",
              "      <td>Cardiovascular</td>\n",
              "      <td>Cardiovascular</td>\n",
              "    </tr>\n",
              "    <tr>\n",
              "      <th>4</th>\n",
              "      <td>92056</td>\n",
              "      <td>34377</td>\n",
              "      <td>33</td>\n",
              "      <td>0</td>\n",
              "      <td>19.0</td>\n",
              "      <td>NaN</td>\n",
              "      <td>0</td>\n",
              "      <td>Caucasian</td>\n",
              "      <td>M</td>\n",
              "      <td>188.0</td>\n",
              "      <td>...</td>\n",
              "      <td>0.0</td>\n",
              "      <td>0.0</td>\n",
              "      <td>0.0</td>\n",
              "      <td>0.0</td>\n",
              "      <td>0.0</td>\n",
              "      <td>0.0</td>\n",
              "      <td>0.0</td>\n",
              "      <td>0.0</td>\n",
              "      <td>Trauma</td>\n",
              "      <td>Trauma</td>\n",
              "    </tr>\n",
              "  </tbody>\n",
              "</table>\n",
              "<p>5 rows × 186 columns</p>\n",
              "</div>\n",
              "    <div class=\"colab-df-buttons\">\n",
              "\n",
              "  <div class=\"colab-df-container\">\n",
              "    <button class=\"colab-df-convert\" onclick=\"convertToInteractive('df-715a4e0b-0ef3-4b65-ae3e-7f9e49a24304')\"\n",
              "            title=\"Convert this dataframe to an interactive table.\"\n",
              "            style=\"display:none;\">\n",
              "\n",
              "  <svg xmlns=\"http://www.w3.org/2000/svg\" height=\"24px\" viewBox=\"0 -960 960 960\">\n",
              "    <path d=\"M120-120v-720h720v720H120Zm60-500h600v-160H180v160Zm220 220h160v-160H400v160Zm0 220h160v-160H400v160ZM180-400h160v-160H180v160Zm440 0h160v-160H620v160ZM180-180h160v-160H180v160Zm440 0h160v-160H620v160Z\"/>\n",
              "  </svg>\n",
              "    </button>\n",
              "\n",
              "  <style>\n",
              "    .colab-df-container {\n",
              "      display:flex;\n",
              "      gap: 12px;\n",
              "    }\n",
              "\n",
              "    .colab-df-convert {\n",
              "      background-color: #E8F0FE;\n",
              "      border: none;\n",
              "      border-radius: 50%;\n",
              "      cursor: pointer;\n",
              "      display: none;\n",
              "      fill: #1967D2;\n",
              "      height: 32px;\n",
              "      padding: 0 0 0 0;\n",
              "      width: 32px;\n",
              "    }\n",
              "\n",
              "    .colab-df-convert:hover {\n",
              "      background-color: #E2EBFA;\n",
              "      box-shadow: 0px 1px 2px rgba(60, 64, 67, 0.3), 0px 1px 3px 1px rgba(60, 64, 67, 0.15);\n",
              "      fill: #174EA6;\n",
              "    }\n",
              "\n",
              "    .colab-df-buttons div {\n",
              "      margin-bottom: 4px;\n",
              "    }\n",
              "\n",
              "    [theme=dark] .colab-df-convert {\n",
              "      background-color: #3B4455;\n",
              "      fill: #D2E3FC;\n",
              "    }\n",
              "\n",
              "    [theme=dark] .colab-df-convert:hover {\n",
              "      background-color: #434B5C;\n",
              "      box-shadow: 0px 1px 3px 1px rgba(0, 0, 0, 0.15);\n",
              "      filter: drop-shadow(0px 1px 2px rgba(0, 0, 0, 0.3));\n",
              "      fill: #FFFFFF;\n",
              "    }\n",
              "  </style>\n",
              "\n",
              "    <script>\n",
              "      const buttonEl =\n",
              "        document.querySelector('#df-715a4e0b-0ef3-4b65-ae3e-7f9e49a24304 button.colab-df-convert');\n",
              "      buttonEl.style.display =\n",
              "        google.colab.kernel.accessAllowed ? 'block' : 'none';\n",
              "\n",
              "      async function convertToInteractive(key) {\n",
              "        const element = document.querySelector('#df-715a4e0b-0ef3-4b65-ae3e-7f9e49a24304');\n",
              "        const dataTable =\n",
              "          await google.colab.kernel.invokeFunction('convertToInteractive',\n",
              "                                                    [key], {});\n",
              "        if (!dataTable) return;\n",
              "\n",
              "        const docLinkHtml = 'Like what you see? Visit the ' +\n",
              "          '<a target=\"_blank\" href=https://colab.research.google.com/notebooks/data_table.ipynb>data table notebook</a>'\n",
              "          + ' to learn more about interactive tables.';\n",
              "        element.innerHTML = '';\n",
              "        dataTable['output_type'] = 'display_data';\n",
              "        await google.colab.output.renderOutput(dataTable, element);\n",
              "        const docLink = document.createElement('div');\n",
              "        docLink.innerHTML = docLinkHtml;\n",
              "        element.appendChild(docLink);\n",
              "      }\n",
              "    </script>\n",
              "  </div>\n",
              "\n",
              "\n",
              "<div id=\"df-1cda027c-e897-4019-82cf-f5d99387f420\">\n",
              "  <button class=\"colab-df-quickchart\" onclick=\"quickchart('df-1cda027c-e897-4019-82cf-f5d99387f420')\"\n",
              "            title=\"Suggest charts\"\n",
              "            style=\"display:none;\">\n",
              "\n",
              "<svg xmlns=\"http://www.w3.org/2000/svg\" height=\"24px\"viewBox=\"0 0 24 24\"\n",
              "     width=\"24px\">\n",
              "    <g>\n",
              "        <path d=\"M19 3H5c-1.1 0-2 .9-2 2v14c0 1.1.9 2 2 2h14c1.1 0 2-.9 2-2V5c0-1.1-.9-2-2-2zM9 17H7v-7h2v7zm4 0h-2V7h2v10zm4 0h-2v-4h2v4z\"/>\n",
              "    </g>\n",
              "</svg>\n",
              "  </button>\n",
              "\n",
              "<style>\n",
              "  .colab-df-quickchart {\n",
              "      --bg-color: #E8F0FE;\n",
              "      --fill-color: #1967D2;\n",
              "      --hover-bg-color: #E2EBFA;\n",
              "      --hover-fill-color: #174EA6;\n",
              "      --disabled-fill-color: #AAA;\n",
              "      --disabled-bg-color: #DDD;\n",
              "  }\n",
              "\n",
              "  [theme=dark] .colab-df-quickchart {\n",
              "      --bg-color: #3B4455;\n",
              "      --fill-color: #D2E3FC;\n",
              "      --hover-bg-color: #434B5C;\n",
              "      --hover-fill-color: #FFFFFF;\n",
              "      --disabled-bg-color: #3B4455;\n",
              "      --disabled-fill-color: #666;\n",
              "  }\n",
              "\n",
              "  .colab-df-quickchart {\n",
              "    background-color: var(--bg-color);\n",
              "    border: none;\n",
              "    border-radius: 50%;\n",
              "    cursor: pointer;\n",
              "    display: none;\n",
              "    fill: var(--fill-color);\n",
              "    height: 32px;\n",
              "    padding: 0;\n",
              "    width: 32px;\n",
              "  }\n",
              "\n",
              "  .colab-df-quickchart:hover {\n",
              "    background-color: var(--hover-bg-color);\n",
              "    box-shadow: 0 1px 2px rgba(60, 64, 67, 0.3), 0 1px 3px 1px rgba(60, 64, 67, 0.15);\n",
              "    fill: var(--button-hover-fill-color);\n",
              "  }\n",
              "\n",
              "  .colab-df-quickchart-complete:disabled,\n",
              "  .colab-df-quickchart-complete:disabled:hover {\n",
              "    background-color: var(--disabled-bg-color);\n",
              "    fill: var(--disabled-fill-color);\n",
              "    box-shadow: none;\n",
              "  }\n",
              "\n",
              "  .colab-df-spinner {\n",
              "    border: 2px solid var(--fill-color);\n",
              "    border-color: transparent;\n",
              "    border-bottom-color: var(--fill-color);\n",
              "    animation:\n",
              "      spin 1s steps(1) infinite;\n",
              "  }\n",
              "\n",
              "  @keyframes spin {\n",
              "    0% {\n",
              "      border-color: transparent;\n",
              "      border-bottom-color: var(--fill-color);\n",
              "      border-left-color: var(--fill-color);\n",
              "    }\n",
              "    20% {\n",
              "      border-color: transparent;\n",
              "      border-left-color: var(--fill-color);\n",
              "      border-top-color: var(--fill-color);\n",
              "    }\n",
              "    30% {\n",
              "      border-color: transparent;\n",
              "      border-left-color: var(--fill-color);\n",
              "      border-top-color: var(--fill-color);\n",
              "      border-right-color: var(--fill-color);\n",
              "    }\n",
              "    40% {\n",
              "      border-color: transparent;\n",
              "      border-right-color: var(--fill-color);\n",
              "      border-top-color: var(--fill-color);\n",
              "    }\n",
              "    60% {\n",
              "      border-color: transparent;\n",
              "      border-right-color: var(--fill-color);\n",
              "    }\n",
              "    80% {\n",
              "      border-color: transparent;\n",
              "      border-right-color: var(--fill-color);\n",
              "      border-bottom-color: var(--fill-color);\n",
              "    }\n",
              "    90% {\n",
              "      border-color: transparent;\n",
              "      border-bottom-color: var(--fill-color);\n",
              "    }\n",
              "  }\n",
              "</style>\n",
              "\n",
              "  <script>\n",
              "    async function quickchart(key) {\n",
              "      const quickchartButtonEl =\n",
              "        document.querySelector('#' + key + ' button');\n",
              "      quickchartButtonEl.disabled = true;  // To prevent multiple clicks.\n",
              "      quickchartButtonEl.classList.add('colab-df-spinner');\n",
              "      try {\n",
              "        const charts = await google.colab.kernel.invokeFunction(\n",
              "            'suggestCharts', [key], {});\n",
              "      } catch (error) {\n",
              "        console.error('Error during call to suggestCharts:', error);\n",
              "      }\n",
              "      quickchartButtonEl.classList.remove('colab-df-spinner');\n",
              "      quickchartButtonEl.classList.add('colab-df-quickchart-complete');\n",
              "    }\n",
              "    (() => {\n",
              "      let quickchartButtonEl =\n",
              "        document.querySelector('#df-1cda027c-e897-4019-82cf-f5d99387f420 button');\n",
              "      quickchartButtonEl.style.display =\n",
              "        google.colab.kernel.accessAllowed ? 'block' : 'none';\n",
              "    })();\n",
              "  </script>\n",
              "</div>\n",
              "    </div>\n",
              "  </div>\n"
            ]
          },
          "metadata": {},
          "execution_count": 7
        }
      ]
    },
    {
      "cell_type": "code",
      "source": [
        "# Removes duplicate and empty row/col\n",
        "df = klib.data_cleaning(df)\n",
        "print(df.info())"
      ],
      "metadata": {
        "id": "luEOcCYXNVkg",
        "outputId": "56945f8c-667b-45d2-a250-a9bb90915a0a",
        "colab": {
          "base_uri": "https://localhost:8080/"
        }
      },
      "execution_count": null,
      "outputs": [
        {
          "output_type": "stream",
          "name": "stdout",
          "text": [
            "Shape of cleaned data: (91712, 179) - Remaining NAs: 5237705\n",
            "\n",
            "\n",
            "Dropped rows: 1\n",
            "     of which 0 duplicates. (Rows (first 150 shown): [])\n",
            "\n",
            "Dropped columns: 7\n",
            "     of which 1 single valued.     Columns: ['readmission_status']\n",
            "Dropped missing values: 505787\n",
            "Reduced memory by at least: 70.76 MB (-54.37%)\n",
            "\n",
            "<class 'pandas.core.frame.DataFrame'>\n",
            "RangeIndex: 91712 entries, 0 to 91711\n",
            "Columns: 179 entries, encounter_id to apache_2_bodysystem\n",
            "dtypes: category(8), float32(164), int16(2), int32(2), int8(3)\n",
            "memory usage: 59.4 MB\n",
            "None\n"
          ]
        }
      ]
    },
    {
      "cell_type": "code",
      "source": [
        "df.describe()"
      ],
      "metadata": {
        "id": "_hsVitskNXFZ",
        "outputId": "bc5955bb-564a-4794-b10b-a3cc1124eb01",
        "colab": {
          "base_uri": "https://localhost:8080/",
          "height": 350
        }
      },
      "execution_count": null,
      "outputs": [
        {
          "output_type": "execute_result",
          "data": {
            "text/plain": [
              "        encounter_id     patient_id   hospital_id  hospital_death  \\\n",
              "count   91712.000000   91712.000000  91712.000000    91712.000000   \n",
              "mean    65605.949625   65537.475227    105.669574        0.086303   \n",
              "std     37795.274197   37811.315008     62.854678        0.280812   \n",
              "min         1.000000       1.000000      2.000000        0.000000   \n",
              "25%     32851.750000   32829.750000     47.000000        0.000000   \n",
              "50%     65664.500000   65413.500000    109.000000        0.000000   \n",
              "75%     98342.250000   98298.250000    161.000000        0.000000   \n",
              "max    131051.000000  131051.000000    204.000000        1.000000   \n",
              "\n",
              "                age           bmi  elective_surgery        height  \\\n",
              "count  87485.000000  88283.000000      91712.000000  90378.000000   \n",
              "mean      62.309517     29.185871          0.183738    169.641556   \n",
              "std       16.775118      8.275176          0.387273     10.795433   \n",
              "min       16.000000     14.844926          0.000000    137.199997   \n",
              "25%       52.000000     23.641975          0.000000    162.500000   \n",
              "50%       65.000000     27.654655          0.000000    170.100006   \n",
              "75%       75.000000     32.930260          0.000000    177.800003   \n",
              "max       89.000000     67.814987          1.000000    195.589996   \n",
              "\n",
              "             icu_id  pre_icu_los_days  ...  apache_4a_hospital_death_prob  \\\n",
              "count  91712.000000      91712.000000  ...                   83766.000000   \n",
              "mean     508.362003          0.835770  ...                       0.086787   \n",
              "std      228.987188          2.487770  ...                       0.247569   \n",
              "min       82.000000        -24.947222  ...                      -1.000000   \n",
              "25%      369.000000          0.035417  ...                       0.020000   \n",
              "50%      504.000000          0.138889  ...                       0.050000   \n",
              "75%      679.000000          0.409028  ...                       0.130000   \n",
              "max      927.000000        159.090973  ...                       0.990000   \n",
              "\n",
              "       apache_4a_icu_death_prob          aids     cirrhosis  \\\n",
              "count              83766.000000  90998.000000  90998.000000   \n",
              "mean                   0.043955      0.000857      0.015693   \n",
              "std                    0.217341      0.029265      0.124284   \n",
              "min                   -1.000000      0.000000      0.000000   \n",
              "25%                    0.010000      0.000000      0.000000   \n",
              "50%                    0.020000      0.000000      0.000000   \n",
              "75%                    0.060000      0.000000      0.000000   \n",
              "max                    0.970000      1.000000      1.000000   \n",
              "\n",
              "       diabetes_mellitus  hepatic_failure  immunosuppression      leukemia  \\\n",
              "count       90998.000000     90998.000000       90998.000000  90998.000000   \n",
              "mean            0.225192         0.012989           0.026165      0.007066   \n",
              "std             0.417711         0.113229           0.159628      0.083763   \n",
              "min             0.000000         0.000000           0.000000      0.000000   \n",
              "25%             0.000000         0.000000           0.000000      0.000000   \n",
              "50%             0.000000         0.000000           0.000000      0.000000   \n",
              "75%             0.000000         0.000000           0.000000      0.000000   \n",
              "max             1.000000         1.000000           1.000000      1.000000   \n",
              "\n",
              "           lymphoma  solid_tumor_with_metastasis  \n",
              "count  90998.000000                 90998.000000  \n",
              "mean       0.004132                     0.020638  \n",
              "std        0.064148                     0.142169  \n",
              "min        0.000000                     0.000000  \n",
              "25%        0.000000                     0.000000  \n",
              "50%        0.000000                     0.000000  \n",
              "75%        0.000000                     0.000000  \n",
              "max        1.000000                     1.000000  \n",
              "\n",
              "[8 rows x 171 columns]"
            ],
            "text/html": [
              "\n",
              "  <div id=\"df-c0296536-8fa0-4186-8d65-1ebee822d91c\" class=\"colab-df-container\">\n",
              "    <div>\n",
              "<style scoped>\n",
              "    .dataframe tbody tr th:only-of-type {\n",
              "        vertical-align: middle;\n",
              "    }\n",
              "\n",
              "    .dataframe tbody tr th {\n",
              "        vertical-align: top;\n",
              "    }\n",
              "\n",
              "    .dataframe thead th {\n",
              "        text-align: right;\n",
              "    }\n",
              "</style>\n",
              "<table border=\"1\" class=\"dataframe\">\n",
              "  <thead>\n",
              "    <tr style=\"text-align: right;\">\n",
              "      <th></th>\n",
              "      <th>encounter_id</th>\n",
              "      <th>patient_id</th>\n",
              "      <th>hospital_id</th>\n",
              "      <th>hospital_death</th>\n",
              "      <th>age</th>\n",
              "      <th>bmi</th>\n",
              "      <th>elective_surgery</th>\n",
              "      <th>height</th>\n",
              "      <th>icu_id</th>\n",
              "      <th>pre_icu_los_days</th>\n",
              "      <th>...</th>\n",
              "      <th>apache_4a_hospital_death_prob</th>\n",
              "      <th>apache_4a_icu_death_prob</th>\n",
              "      <th>aids</th>\n",
              "      <th>cirrhosis</th>\n",
              "      <th>diabetes_mellitus</th>\n",
              "      <th>hepatic_failure</th>\n",
              "      <th>immunosuppression</th>\n",
              "      <th>leukemia</th>\n",
              "      <th>lymphoma</th>\n",
              "      <th>solid_tumor_with_metastasis</th>\n",
              "    </tr>\n",
              "  </thead>\n",
              "  <tbody>\n",
              "    <tr>\n",
              "      <th>count</th>\n",
              "      <td>91712.000000</td>\n",
              "      <td>91712.000000</td>\n",
              "      <td>91712.000000</td>\n",
              "      <td>91712.000000</td>\n",
              "      <td>87485.000000</td>\n",
              "      <td>88283.000000</td>\n",
              "      <td>91712.000000</td>\n",
              "      <td>90378.000000</td>\n",
              "      <td>91712.000000</td>\n",
              "      <td>91712.000000</td>\n",
              "      <td>...</td>\n",
              "      <td>83766.000000</td>\n",
              "      <td>83766.000000</td>\n",
              "      <td>90998.000000</td>\n",
              "      <td>90998.000000</td>\n",
              "      <td>90998.000000</td>\n",
              "      <td>90998.000000</td>\n",
              "      <td>90998.000000</td>\n",
              "      <td>90998.000000</td>\n",
              "      <td>90998.000000</td>\n",
              "      <td>90998.000000</td>\n",
              "    </tr>\n",
              "    <tr>\n",
              "      <th>mean</th>\n",
              "      <td>65605.949625</td>\n",
              "      <td>65537.475227</td>\n",
              "      <td>105.669574</td>\n",
              "      <td>0.086303</td>\n",
              "      <td>62.309517</td>\n",
              "      <td>29.185871</td>\n",
              "      <td>0.183738</td>\n",
              "      <td>169.641556</td>\n",
              "      <td>508.362003</td>\n",
              "      <td>0.835770</td>\n",
              "      <td>...</td>\n",
              "      <td>0.086787</td>\n",
              "      <td>0.043955</td>\n",
              "      <td>0.000857</td>\n",
              "      <td>0.015693</td>\n",
              "      <td>0.225192</td>\n",
              "      <td>0.012989</td>\n",
              "      <td>0.026165</td>\n",
              "      <td>0.007066</td>\n",
              "      <td>0.004132</td>\n",
              "      <td>0.020638</td>\n",
              "    </tr>\n",
              "    <tr>\n",
              "      <th>std</th>\n",
              "      <td>37795.274197</td>\n",
              "      <td>37811.315008</td>\n",
              "      <td>62.854678</td>\n",
              "      <td>0.280812</td>\n",
              "      <td>16.775118</td>\n",
              "      <td>8.275176</td>\n",
              "      <td>0.387273</td>\n",
              "      <td>10.795433</td>\n",
              "      <td>228.987188</td>\n",
              "      <td>2.487770</td>\n",
              "      <td>...</td>\n",
              "      <td>0.247569</td>\n",
              "      <td>0.217341</td>\n",
              "      <td>0.029265</td>\n",
              "      <td>0.124284</td>\n",
              "      <td>0.417711</td>\n",
              "      <td>0.113229</td>\n",
              "      <td>0.159628</td>\n",
              "      <td>0.083763</td>\n",
              "      <td>0.064148</td>\n",
              "      <td>0.142169</td>\n",
              "    </tr>\n",
              "    <tr>\n",
              "      <th>min</th>\n",
              "      <td>1.000000</td>\n",
              "      <td>1.000000</td>\n",
              "      <td>2.000000</td>\n",
              "      <td>0.000000</td>\n",
              "      <td>16.000000</td>\n",
              "      <td>14.844926</td>\n",
              "      <td>0.000000</td>\n",
              "      <td>137.199997</td>\n",
              "      <td>82.000000</td>\n",
              "      <td>-24.947222</td>\n",
              "      <td>...</td>\n",
              "      <td>-1.000000</td>\n",
              "      <td>-1.000000</td>\n",
              "      <td>0.000000</td>\n",
              "      <td>0.000000</td>\n",
              "      <td>0.000000</td>\n",
              "      <td>0.000000</td>\n",
              "      <td>0.000000</td>\n",
              "      <td>0.000000</td>\n",
              "      <td>0.000000</td>\n",
              "      <td>0.000000</td>\n",
              "    </tr>\n",
              "    <tr>\n",
              "      <th>25%</th>\n",
              "      <td>32851.750000</td>\n",
              "      <td>32829.750000</td>\n",
              "      <td>47.000000</td>\n",
              "      <td>0.000000</td>\n",
              "      <td>52.000000</td>\n",
              "      <td>23.641975</td>\n",
              "      <td>0.000000</td>\n",
              "      <td>162.500000</td>\n",
              "      <td>369.000000</td>\n",
              "      <td>0.035417</td>\n",
              "      <td>...</td>\n",
              "      <td>0.020000</td>\n",
              "      <td>0.010000</td>\n",
              "      <td>0.000000</td>\n",
              "      <td>0.000000</td>\n",
              "      <td>0.000000</td>\n",
              "      <td>0.000000</td>\n",
              "      <td>0.000000</td>\n",
              "      <td>0.000000</td>\n",
              "      <td>0.000000</td>\n",
              "      <td>0.000000</td>\n",
              "    </tr>\n",
              "    <tr>\n",
              "      <th>50%</th>\n",
              "      <td>65664.500000</td>\n",
              "      <td>65413.500000</td>\n",
              "      <td>109.000000</td>\n",
              "      <td>0.000000</td>\n",
              "      <td>65.000000</td>\n",
              "      <td>27.654655</td>\n",
              "      <td>0.000000</td>\n",
              "      <td>170.100006</td>\n",
              "      <td>504.000000</td>\n",
              "      <td>0.138889</td>\n",
              "      <td>...</td>\n",
              "      <td>0.050000</td>\n",
              "      <td>0.020000</td>\n",
              "      <td>0.000000</td>\n",
              "      <td>0.000000</td>\n",
              "      <td>0.000000</td>\n",
              "      <td>0.000000</td>\n",
              "      <td>0.000000</td>\n",
              "      <td>0.000000</td>\n",
              "      <td>0.000000</td>\n",
              "      <td>0.000000</td>\n",
              "    </tr>\n",
              "    <tr>\n",
              "      <th>75%</th>\n",
              "      <td>98342.250000</td>\n",
              "      <td>98298.250000</td>\n",
              "      <td>161.000000</td>\n",
              "      <td>0.000000</td>\n",
              "      <td>75.000000</td>\n",
              "      <td>32.930260</td>\n",
              "      <td>0.000000</td>\n",
              "      <td>177.800003</td>\n",
              "      <td>679.000000</td>\n",
              "      <td>0.409028</td>\n",
              "      <td>...</td>\n",
              "      <td>0.130000</td>\n",
              "      <td>0.060000</td>\n",
              "      <td>0.000000</td>\n",
              "      <td>0.000000</td>\n",
              "      <td>0.000000</td>\n",
              "      <td>0.000000</td>\n",
              "      <td>0.000000</td>\n",
              "      <td>0.000000</td>\n",
              "      <td>0.000000</td>\n",
              "      <td>0.000000</td>\n",
              "    </tr>\n",
              "    <tr>\n",
              "      <th>max</th>\n",
              "      <td>131051.000000</td>\n",
              "      <td>131051.000000</td>\n",
              "      <td>204.000000</td>\n",
              "      <td>1.000000</td>\n",
              "      <td>89.000000</td>\n",
              "      <td>67.814987</td>\n",
              "      <td>1.000000</td>\n",
              "      <td>195.589996</td>\n",
              "      <td>927.000000</td>\n",
              "      <td>159.090973</td>\n",
              "      <td>...</td>\n",
              "      <td>0.990000</td>\n",
              "      <td>0.970000</td>\n",
              "      <td>1.000000</td>\n",
              "      <td>1.000000</td>\n",
              "      <td>1.000000</td>\n",
              "      <td>1.000000</td>\n",
              "      <td>1.000000</td>\n",
              "      <td>1.000000</td>\n",
              "      <td>1.000000</td>\n",
              "      <td>1.000000</td>\n",
              "    </tr>\n",
              "  </tbody>\n",
              "</table>\n",
              "<p>8 rows × 171 columns</p>\n",
              "</div>\n",
              "    <div class=\"colab-df-buttons\">\n",
              "\n",
              "  <div class=\"colab-df-container\">\n",
              "    <button class=\"colab-df-convert\" onclick=\"convertToInteractive('df-c0296536-8fa0-4186-8d65-1ebee822d91c')\"\n",
              "            title=\"Convert this dataframe to an interactive table.\"\n",
              "            style=\"display:none;\">\n",
              "\n",
              "  <svg xmlns=\"http://www.w3.org/2000/svg\" height=\"24px\" viewBox=\"0 -960 960 960\">\n",
              "    <path d=\"M120-120v-720h720v720H120Zm60-500h600v-160H180v160Zm220 220h160v-160H400v160Zm0 220h160v-160H400v160ZM180-400h160v-160H180v160Zm440 0h160v-160H620v160ZM180-180h160v-160H180v160Zm440 0h160v-160H620v160Z\"/>\n",
              "  </svg>\n",
              "    </button>\n",
              "\n",
              "  <style>\n",
              "    .colab-df-container {\n",
              "      display:flex;\n",
              "      gap: 12px;\n",
              "    }\n",
              "\n",
              "    .colab-df-convert {\n",
              "      background-color: #E8F0FE;\n",
              "      border: none;\n",
              "      border-radius: 50%;\n",
              "      cursor: pointer;\n",
              "      display: none;\n",
              "      fill: #1967D2;\n",
              "      height: 32px;\n",
              "      padding: 0 0 0 0;\n",
              "      width: 32px;\n",
              "    }\n",
              "\n",
              "    .colab-df-convert:hover {\n",
              "      background-color: #E2EBFA;\n",
              "      box-shadow: 0px 1px 2px rgba(60, 64, 67, 0.3), 0px 1px 3px 1px rgba(60, 64, 67, 0.15);\n",
              "      fill: #174EA6;\n",
              "    }\n",
              "\n",
              "    .colab-df-buttons div {\n",
              "      margin-bottom: 4px;\n",
              "    }\n",
              "\n",
              "    [theme=dark] .colab-df-convert {\n",
              "      background-color: #3B4455;\n",
              "      fill: #D2E3FC;\n",
              "    }\n",
              "\n",
              "    [theme=dark] .colab-df-convert:hover {\n",
              "      background-color: #434B5C;\n",
              "      box-shadow: 0px 1px 3px 1px rgba(0, 0, 0, 0.15);\n",
              "      filter: drop-shadow(0px 1px 2px rgba(0, 0, 0, 0.3));\n",
              "      fill: #FFFFFF;\n",
              "    }\n",
              "  </style>\n",
              "\n",
              "    <script>\n",
              "      const buttonEl =\n",
              "        document.querySelector('#df-c0296536-8fa0-4186-8d65-1ebee822d91c button.colab-df-convert');\n",
              "      buttonEl.style.display =\n",
              "        google.colab.kernel.accessAllowed ? 'block' : 'none';\n",
              "\n",
              "      async function convertToInteractive(key) {\n",
              "        const element = document.querySelector('#df-c0296536-8fa0-4186-8d65-1ebee822d91c');\n",
              "        const dataTable =\n",
              "          await google.colab.kernel.invokeFunction('convertToInteractive',\n",
              "                                                    [key], {});\n",
              "        if (!dataTable) return;\n",
              "\n",
              "        const docLinkHtml = 'Like what you see? Visit the ' +\n",
              "          '<a target=\"_blank\" href=https://colab.research.google.com/notebooks/data_table.ipynb>data table notebook</a>'\n",
              "          + ' to learn more about interactive tables.';\n",
              "        element.innerHTML = '';\n",
              "        dataTable['output_type'] = 'display_data';\n",
              "        await google.colab.output.renderOutput(dataTable, element);\n",
              "        const docLink = document.createElement('div');\n",
              "        docLink.innerHTML = docLinkHtml;\n",
              "        element.appendChild(docLink);\n",
              "      }\n",
              "    </script>\n",
              "  </div>\n",
              "\n",
              "\n",
              "<div id=\"df-89829741-1b02-4fa4-9b88-22da7f8a2e2f\">\n",
              "  <button class=\"colab-df-quickchart\" onclick=\"quickchart('df-89829741-1b02-4fa4-9b88-22da7f8a2e2f')\"\n",
              "            title=\"Suggest charts\"\n",
              "            style=\"display:none;\">\n",
              "\n",
              "<svg xmlns=\"http://www.w3.org/2000/svg\" height=\"24px\"viewBox=\"0 0 24 24\"\n",
              "     width=\"24px\">\n",
              "    <g>\n",
              "        <path d=\"M19 3H5c-1.1 0-2 .9-2 2v14c0 1.1.9 2 2 2h14c1.1 0 2-.9 2-2V5c0-1.1-.9-2-2-2zM9 17H7v-7h2v7zm4 0h-2V7h2v10zm4 0h-2v-4h2v4z\"/>\n",
              "    </g>\n",
              "</svg>\n",
              "  </button>\n",
              "\n",
              "<style>\n",
              "  .colab-df-quickchart {\n",
              "      --bg-color: #E8F0FE;\n",
              "      --fill-color: #1967D2;\n",
              "      --hover-bg-color: #E2EBFA;\n",
              "      --hover-fill-color: #174EA6;\n",
              "      --disabled-fill-color: #AAA;\n",
              "      --disabled-bg-color: #DDD;\n",
              "  }\n",
              "\n",
              "  [theme=dark] .colab-df-quickchart {\n",
              "      --bg-color: #3B4455;\n",
              "      --fill-color: #D2E3FC;\n",
              "      --hover-bg-color: #434B5C;\n",
              "      --hover-fill-color: #FFFFFF;\n",
              "      --disabled-bg-color: #3B4455;\n",
              "      --disabled-fill-color: #666;\n",
              "  }\n",
              "\n",
              "  .colab-df-quickchart {\n",
              "    background-color: var(--bg-color);\n",
              "    border: none;\n",
              "    border-radius: 50%;\n",
              "    cursor: pointer;\n",
              "    display: none;\n",
              "    fill: var(--fill-color);\n",
              "    height: 32px;\n",
              "    padding: 0;\n",
              "    width: 32px;\n",
              "  }\n",
              "\n",
              "  .colab-df-quickchart:hover {\n",
              "    background-color: var(--hover-bg-color);\n",
              "    box-shadow: 0 1px 2px rgba(60, 64, 67, 0.3), 0 1px 3px 1px rgba(60, 64, 67, 0.15);\n",
              "    fill: var(--button-hover-fill-color);\n",
              "  }\n",
              "\n",
              "  .colab-df-quickchart-complete:disabled,\n",
              "  .colab-df-quickchart-complete:disabled:hover {\n",
              "    background-color: var(--disabled-bg-color);\n",
              "    fill: var(--disabled-fill-color);\n",
              "    box-shadow: none;\n",
              "  }\n",
              "\n",
              "  .colab-df-spinner {\n",
              "    border: 2px solid var(--fill-color);\n",
              "    border-color: transparent;\n",
              "    border-bottom-color: var(--fill-color);\n",
              "    animation:\n",
              "      spin 1s steps(1) infinite;\n",
              "  }\n",
              "\n",
              "  @keyframes spin {\n",
              "    0% {\n",
              "      border-color: transparent;\n",
              "      border-bottom-color: var(--fill-color);\n",
              "      border-left-color: var(--fill-color);\n",
              "    }\n",
              "    20% {\n",
              "      border-color: transparent;\n",
              "      border-left-color: var(--fill-color);\n",
              "      border-top-color: var(--fill-color);\n",
              "    }\n",
              "    30% {\n",
              "      border-color: transparent;\n",
              "      border-left-color: var(--fill-color);\n",
              "      border-top-color: var(--fill-color);\n",
              "      border-right-color: var(--fill-color);\n",
              "    }\n",
              "    40% {\n",
              "      border-color: transparent;\n",
              "      border-right-color: var(--fill-color);\n",
              "      border-top-color: var(--fill-color);\n",
              "    }\n",
              "    60% {\n",
              "      border-color: transparent;\n",
              "      border-right-color: var(--fill-color);\n",
              "    }\n",
              "    80% {\n",
              "      border-color: transparent;\n",
              "      border-right-color: var(--fill-color);\n",
              "      border-bottom-color: var(--fill-color);\n",
              "    }\n",
              "    90% {\n",
              "      border-color: transparent;\n",
              "      border-bottom-color: var(--fill-color);\n",
              "    }\n",
              "  }\n",
              "</style>\n",
              "\n",
              "  <script>\n",
              "    async function quickchart(key) {\n",
              "      const quickchartButtonEl =\n",
              "        document.querySelector('#' + key + ' button');\n",
              "      quickchartButtonEl.disabled = true;  // To prevent multiple clicks.\n",
              "      quickchartButtonEl.classList.add('colab-df-spinner');\n",
              "      try {\n",
              "        const charts = await google.colab.kernel.invokeFunction(\n",
              "            'suggestCharts', [key], {});\n",
              "      } catch (error) {\n",
              "        console.error('Error during call to suggestCharts:', error);\n",
              "      }\n",
              "      quickchartButtonEl.classList.remove('colab-df-spinner');\n",
              "      quickchartButtonEl.classList.add('colab-df-quickchart-complete');\n",
              "    }\n",
              "    (() => {\n",
              "      let quickchartButtonEl =\n",
              "        document.querySelector('#df-89829741-1b02-4fa4-9b88-22da7f8a2e2f button');\n",
              "      quickchartButtonEl.style.display =\n",
              "        google.colab.kernel.accessAllowed ? 'block' : 'none';\n",
              "    })();\n",
              "  </script>\n",
              "</div>\n",
              "    </div>\n",
              "  </div>\n"
            ]
          },
          "metadata": {},
          "execution_count": 9
        }
      ]
    },
    {
      "cell_type": "markdown",
      "source": [
        "**Variable of Interest**"
      ],
      "metadata": {
        "id": "YDlp9i1rwUkR"
      }
    },
    {
      "cell_type": "code",
      "source": [
        "df['hospital_death'].mean()"
      ],
      "metadata": {
        "colab": {
          "base_uri": "https://localhost:8080/"
        },
        "id": "qypn8JcAS6Gs",
        "outputId": "461378a0-cf14-467e-d6d4-4ad51474f7c3"
      },
      "execution_count": null,
      "outputs": [
        {
          "output_type": "execute_result",
          "data": {
            "text/plain": [
              "0.08630277390090718"
            ]
          },
          "metadata": {},
          "execution_count": 10
        }
      ]
    },
    {
      "cell_type": "markdown",
      "source": [
        "Only 8% death events."
      ],
      "metadata": {
        "id": "sMaABnYgVZUd"
      }
    },
    {
      "cell_type": "code",
      "source": [
        "print(df['apache_3j_bodysystem'].unique().tolist())"
      ],
      "metadata": {
        "colab": {
          "base_uri": "https://localhost:8080/"
        },
        "id": "A2o7DnCdnOD2",
        "outputId": "aefd0ade-1867-4757-c256-7ab92e70782e"
      },
      "execution_count": null,
      "outputs": [
        {
          "output_type": "stream",
          "name": "stdout",
          "text": [
            "['Sepsis', 'Respiratory', 'Metabolic', 'Cardiovascular', 'Trauma', 'Neurological', 'Gastrointestinal', 'Genitourinary', nan, 'Hematological', 'Musculoskeletal/Skin', 'Gynecological']\n"
          ]
        }
      ]
    },
    {
      "cell_type": "code",
      "source": [
        "print(df['apache_2_bodysystem'].unique().tolist())"
      ],
      "metadata": {
        "colab": {
          "base_uri": "https://localhost:8080/"
        },
        "id": "Krb_AmRH2Ldw",
        "outputId": "c260dc0e-cd2b-47b9-d1f8-92285aa8abb9"
      },
      "execution_count": null,
      "outputs": [
        {
          "output_type": "stream",
          "name": "stdout",
          "text": [
            "['Cardiovascular', 'Respiratory', 'Metabolic', 'Trauma', 'Neurologic', 'Gastrointestinal', 'Renal/Genitourinary', nan, 'Undefined diagnoses', 'Haematologic', 'Undefined Diagnoses']\n"
          ]
        }
      ]
    },
    {
      "cell_type": "code",
      "source": [
        "bodysystem = ['apache_3j_bodysystem', 'apache_2_bodysystem']\n",
        "plt.figure(figsize = (15, 14))\n",
        "\n",
        "for i, variable in enumerate(bodysystem, 1):\n",
        "  plt.subplot(2, 1, i)\n",
        "  sns.countplot(data=df, y=variable, palette=\"colorblind\")\n",
        "  plt.xticks(fontsize=12)\n",
        "  plt.yticks(fontsize=12)\n",
        "  plt.title(variable.title(), fontsize=14)\n",
        "  plt.xlabel('')\n",
        "  plt.ylabel('')\n",
        "\n",
        "plt.tight_layout()\n",
        "plt.show()  # Show the plot"
      ],
      "metadata": {
        "colab": {
          "base_uri": "https://localhost:8080/",
          "height": 669
        },
        "id": "b6afm4u4nw-2",
        "outputId": "a3f7bc28-45ac-439b-b077-9c39d6ff095f"
      },
      "execution_count": null,
      "outputs": [
        {
          "output_type": "display_data",
          "data": {
            "text/plain": [
              "<Figure size 1500x1400 with 2 Axes>"
            ],
            "image/png": "[encoded data removed]"
          },
          "metadata": {}
        }
      ]
    },
    {
      "cell_type": "markdown",
      "source": [
        "The column `apache_3j_bodysystem` is the primary reason for ICU admission into different body systems according to the APACHE III-J methodology. Each category represents the primary body system affected or the primary system that the illness is associated with.\n",
        "\n",
        "We see that the majority patients who admitted to ICU had the illness mainly appear in cardiovascular system."
      ],
      "metadata": {
        "id": "wgpUD67n3MIB"
      }
    },
    {
      "cell_type": "markdown",
      "source": [
        "# Research Objective\n",
        "Predict the mortality of patients admitted to the ICU with primary diagnoses related to the cardiovascular system, with a particular focus on those exhibiting renel impairment.  \n",
        "\n",
        "[Reference]\n",
        "\n",
        "*Acute deteriorations in renal function, previously referred to as worsening renal function but now as acute kidney injury (AKI), and defined as a rise in serum creatinine by more than 26.5 μmol/L (0.3 mg/dL) is observed in 20–40% of patients hospitalised with acute decompensated heart failure.*"
      ],
      "metadata": {
        "id": "lSaoT0eKaUbH"
      }
    },
    {
      "cell_type": "markdown",
      "source": [
        "The Acute Physiology and Chronic Health Evaluation (APACHE) II and APACHE III are scoring systems that being used to predict outcome and identify predictive factors for survival for patients in ICU unit beased on physiologic assessments during the first 24 hrs in ICU.\n",
        "\n",
        "Since APACHE III is a more recent and detailed version with higher discriminative power, we will filter data according to APACHE III, i.e., the column `apache_3j_bodysystem`."
      ],
      "metadata": {
        "id": "w2YmcuYRbp5t"
      }
    },
    {
      "cell_type": "code",
      "source": [
        "# Filter out the target population\n",
        "card_df = df[df['apache_3j_bodysystem'] == 'Cardiovascular']"
      ],
      "metadata": {
        "id": "qqRQMX1woEkz"
      },
      "execution_count": null,
      "outputs": []
    },
    {
      "cell_type": "code",
      "source": [
        "# Drop columns indicating APACHE score\n",
        "card_df = card_df.drop(['apache_2_bodysystem', 'apache_3j_bodysystem'],\n",
        "              axis = 1)"
      ],
      "metadata": {
        "id": "QEUas7RFmcIX"
      },
      "execution_count": null,
      "outputs": []
    },
    {
      "cell_type": "code",
      "source": [
        "card_df.shape"
      ],
      "metadata": {
        "colab": {
          "base_uri": "https://localhost:8080/"
        },
        "id": "XFFFzL9boo-x",
        "outputId": "4f6ee453-1c5d-4c33-ac26-003f347c511d"
      },
      "execution_count": null,
      "outputs": [
        {
          "output_type": "execute_result",
          "data": {
            "text/plain": [
              "(29999, 177)"
            ]
          },
          "metadata": {},
          "execution_count": 16
        }
      ]
    },
    {
      "cell_type": "markdown",
      "source": [
        "### Check Uniqueness\n",
        "\n",
        "Ensure that each identifier is unique and remove duplicates if exist."
      ],
      "metadata": {
        "id": "ZdsOXPcA3eMm"
      }
    },
    {
      "cell_type": "code",
      "source": [
        "# Checking for uniqueness in 'encounter_id', 'hospital_id', and 'patient_id'\n",
        "unique_encounter_id = card_df['encounter_id'].is_unique\n",
        "unique_patient_id = card_df['patient_id'].is_unique\n",
        "\n",
        "print(f\"Is 'encounter_id' unique for each record? {unique_encounter_id}\")\n",
        "print(f\"Is 'patient_id' unique for each record? {unique_patient_id}\")\n"
      ],
      "metadata": {
        "id": "SmqxRTxp4SUw",
        "colab": {
          "base_uri": "https://localhost:8080/"
        },
        "outputId": "1a3be61d-fdff-4efb-ab89-885defe6dcd8"
      },
      "execution_count": null,
      "outputs": [
        {
          "output_type": "stream",
          "name": "stdout",
          "text": [
            "Is 'encounter_id' unique for each record? True\n",
            "Is 'patient_id' unique for each record? True\n"
          ]
        }
      ]
    },
    {
      "cell_type": "markdown",
      "source": [
        "The results suggest that each encounter in the ICU is distincly recorded and each patient is uniquely identified in the dataset."
      ],
      "metadata": {
        "id": "YR6ir-em4HVt"
      }
    },
    {
      "cell_type": "markdown",
      "source": [
        "# Conceptual Predictor Variables\n",
        "\n",
        "The APACHE III scoring system appears to have a higher discriminative power compared to the APACHE II scoring system. On multiple occasions, the APACHE II system under-predicted the actual in-hospital mortality rate.Therefore we should conceptualize our model with variables that were used to predict the highest possible APACHE III score.\n",
        "\n",
        "Variables that would be interesting to include is ***wbc_apache - The white blood cell count measured during the first 24 hours which results in the highest APACHE III score*** as this has been an indicator for in-hospital mortality and has been used as a predictor in many clinical studies.\n",
        "\n",
        "Additionally, all the ***APACHE comorbidity variables***, as shown in the bottom of the data dictionary, may be useful to include as predictors in our model as there have been individual indices used in clinical research specifically to predict the risk of death in patients with specific comorbid conditions."
      ],
      "metadata": {
        "id": "1md1FEW36qyb"
      }
    },
    {
      "cell_type": "markdown",
      "source": [
        "# Data Preprocessing\n",
        "\n",
        "[Handling missing values, normalizing/standardizing numerical variables, encoding categorical variables, etc.]"
      ],
      "metadata": {
        "id": "NQyrelWGyi6m"
      }
    },
    {
      "cell_type": "markdown",
      "source": [
        "## Data Cleaning"
      ],
      "metadata": {
        "id": "Ui2UiS9auqF1"
      }
    },
    {
      "cell_type": "markdown",
      "source": [
        "### Features with over 60% missig values"
      ],
      "metadata": {
        "id": "rZHK8CTWgh85"
      }
    },
    {
      "cell_type": "code",
      "source": [
        "# Calculate the percentage of missing\n",
        "missing_perc = card_df.isnull().mean()*100\n",
        "\n",
        "# Print columns with missing percentage >= 60% in descending order\n",
        "print(missing_perc[missing_perc >= 60].sort_values(ascending=False))"
      ],
      "metadata": {
        "colab": {
          "base_uri": "https://localhost:8080/"
        },
        "id": "vWe2m5M_gj8Q",
        "outputId": "0a41bb4c-f8f0-4fef-d392-2f92d92c7e70"
      },
      "execution_count": null,
      "outputs": [
        {
          "output_type": "stream",
          "name": "stdout",
          "text": [
            "d1_lactate_max            83.259442\n",
            "d1_lactate_min            83.259442\n",
            "h1_pao2fio2ratio_max      80.892696\n",
            "h1_pao2fio2ratio_min      80.892696\n",
            "h1_hco3_max               78.212607\n",
            "h1_hco3_min               78.212607\n",
            "h1_calcium_min            77.805927\n",
            "h1_calcium_max            77.805927\n",
            "h1_bun_min                76.899230\n",
            "h1_bun_max                76.899230\n",
            "h1_creatinine_min         76.672556\n",
            "h1_creatinine_max         76.672556\n",
            "h1_arterial_ph_min        75.942531\n",
            "h1_arterial_ph_max        75.942531\n",
            "h1_arterial_po2_min       75.252508\n",
            "h1_arterial_po2_max       75.252508\n",
            "h1_arterial_pco2_min      75.232508\n",
            "h1_arterial_pco2_max      75.232508\n",
            "h1_wbc_max                74.639155\n",
            "h1_wbc_min                74.639155\n",
            "ph_apache                 73.992466\n",
            "pao2_apache               73.992466\n",
            "paco2_for_ph_apache       73.992466\n",
            "paco2_apache              73.992466\n",
            "fio2_apache               73.992466\n",
            "h1_platelets_max          73.675789\n",
            "h1_platelets_min          73.675789\n",
            "h1_sodium_min             72.079069\n",
            "h1_sodium_max             72.079069\n",
            "h1_hematocrit_max         70.715691\n",
            "h1_hematocrit_min         70.715691\n",
            "h1_hemaglobin_max         70.535685\n",
            "h1_hemaglobin_min         70.535685\n",
            "h1_potassium_max          70.322344\n",
            "h1_potassium_min          70.322344\n",
            "bilirubin_apache          69.812327\n",
            "d1_pao2fio2ratio_min      68.512284\n",
            "d1_pao2fio2ratio_max      68.512284\n",
            "albumin_apache            66.252208\n",
            "h1_diasbp_invasive_min    66.205540\n",
            "h1_diasbp_invasive_max    66.205540\n",
            "h1_sysbp_invasive_min     66.185540\n",
            "h1_sysbp_invasive_max     66.185540\n",
            "h1_mbp_invasive_min       66.132204\n",
            "h1_mbp_invasive_max       66.132204\n",
            "d1_bilirubin_max          65.348845\n",
            "d1_bilirubin_min          65.348845\n",
            "d1_arterial_ph_max        63.138771\n",
            "d1_arterial_ph_min        63.138771\n",
            "d1_arterial_pco2_max      62.185406\n",
            "d1_arterial_pco2_min      62.185406\n",
            "d1_arterial_po2_min       62.185406\n",
            "d1_arterial_po2_max       62.185406\n",
            "d1_albumin_min            60.982033\n",
            "d1_albumin_max            60.982033\n",
            "dtype: float64\n"
          ]
        }
      ]
    },
    {
      "cell_type": "markdown",
      "source": [
        "Count the number of features that is greater than 90%, 80%, 70%, and 60%."
      ],
      "metadata": {
        "id": "qP6toyTHltfY"
      }
    },
    {
      "cell_type": "code",
      "source": [
        "def countMissingCols(data):\n",
        "  dicts = {}\n",
        "  count90 = 0\n",
        "  count80 = 0\n",
        "  count70 = 0\n",
        "  count60 = 0\n",
        "\n",
        "  for column, perc in data.iteritems():\n",
        "    if perc >= 90:\n",
        "      count90+=1\n",
        "    elif 80 <= perc < 90:\n",
        "      count80+=1\n",
        "    elif 70 <= perc < 80:\n",
        "      count70+=1\n",
        "    elif 60 <= perc < 70:\n",
        "      count60+=1\n",
        "  dicts['missing values > 90%: '] = count90\n",
        "  dicts['80% <= missing values < 90%: '] = count80\n",
        "  dicts['70% <= missing values < 80%: '] = count70\n",
        "  dicts['60% <= missing values < 70%: '] = count60\n",
        "  for key, val in dicts.items():\n",
        "    print(key, val)\n",
        "countMissingCols(missing_perc)"
      ],
      "metadata": {
        "colab": {
          "base_uri": "https://localhost:8080/"
        },
        "id": "H7jY4qjOliw3",
        "outputId": "92aed5c5-a463-421f-85a8-058b520a4475"
      },
      "execution_count": null,
      "outputs": [
        {
          "output_type": "stream",
          "name": "stdout",
          "text": [
            "missing values > 90%:  0\n",
            "80% <= missing values < 90%:  4\n",
            "70% <= missing values < 80%:  31\n",
            "60% <= missing values < 70%:  20\n"
          ]
        }
      ]
    },
    {
      "cell_type": "markdown",
      "source": [
        "#### Arterial Blood Gas (ABG) Variables\n",
        "\n",
        "- `fio2_apache`:  The fraction of inspired oxygen from the arterial blood gas taken during the first 24 hours of unit admission which produces the highest APACHE III score for oxygenation\n",
        "- `paco2_apache`:  The partial pressure of carbon dioxide from the arterial blood gas taken during the first 24 hours of unit admission which produces the highest APACHE III score for oxygenation\n",
        "- `paco2_for_ph_apache`:  The partial pressure of carbon dioxide from the arterial blood gas taken during the first 24 hours of unit admission which produces the highest APACHE III score for acid-base disturbance.  \n",
        "- `pao2_apache`:  The partial pressure of oxygen from the arterial blood gas taken during the first 24 hours of unit admission which produces the highest APACHE III score for oxygenation.\n",
        "- `ph_apache`: The pH from the arterial blood gas taken during the first 24 hours of unit admission which produces the highest APACHE III score for acid-base disturbance.  \n",
        "\n",
        "All the above mentioned columns have 74% missing values, suggesting that the majority of the observation did not receive any of the measurement during the first 24 hours of unit admission. Therefore, we will create a binary variable indicating whether or not arterial blood gas being measured during the first 24 hours of unit admission and remove the above mentioned columns."
      ],
      "metadata": {
        "id": "Jr3sXGm_OKeE"
      }
    },
    {
      "cell_type": "code",
      "source": [
        "# List of Arterial Blood Gas Variables\n",
        "abg_variables = ['fio2_apache', 'paco2_apache', 'paco2_for_ph_apache',\n",
        "                 'pao2_apache', 'ph_apache']\n",
        "\n",
        "# Check if rows with a missing value in one ABG variable also have missing values in others\n",
        "missing_in_all_abg = card_df[abg_variables].isnull().all(axis=1).sum()\n",
        "missing_in_any_abg = card_df[abg_variables].isnull().any(axis=1).sum()\n",
        "\n",
        "print(f\"Number of rows missing in all ABG variables: {missing_in_all_abg}\")\n",
        "print(f\"Number of rows missing in any ABG variable: {missing_in_any_abg}\")"
      ],
      "metadata": {
        "colab": {
          "base_uri": "https://localhost:8080/"
        },
        "id": "MNdo8oJ4QQ9x",
        "outputId": "88510e4b-158f-4393-e0ab-ef35a717e0b5"
      },
      "execution_count": null,
      "outputs": [
        {
          "output_type": "stream",
          "name": "stdout",
          "text": [
            "Number of rows missing in all ABG variables: 22197\n",
            "Number of rows missing in any ABG variable: 22197\n"
          ]
        }
      ]
    },
    {
      "cell_type": "markdown",
      "source": [
        "It seems like the missingness in the Arterial Blood Gas (ABG) variables is completely overlapping - that is, whenever one of these variables is missing, all of them are missing. Therefore, we can consider to create ONE indicator variable to represent whether any ABG measurements were taken."
      ],
      "metadata": {
        "id": "8W-kGOYpQ-QM"
      }
    },
    {
      "cell_type": "code",
      "source": [
        "# Create a single binary indicator variable\n",
        "card_df['abg_measured'] = card_df[abg_variables].notnull().all(axis=1).astype(int)\n",
        "\n",
        "# Check unique values in 'abg_measured'\n",
        "print(\"Unique values in 'abg_measured':\", card_df['abg_measured'].unique())"
      ],
      "metadata": {
        "colab": {
          "base_uri": "https://localhost:8080/"
        },
        "id": "ivD70EqoQ8b5",
        "outputId": "9fd9ad46-2857-4846-c796-25a0483202f5"
      },
      "execution_count": null,
      "outputs": [
        {
          "output_type": "stream",
          "name": "stdout",
          "text": [
            "Unique values in 'abg_measured': [1 0]\n"
          ]
        }
      ]
    },
    {
      "cell_type": "markdown",
      "source": [
        "#### Remove Features with over 60% missings"
      ],
      "metadata": {
        "id": "Zqe5YCW6o5RF"
      }
    },
    {
      "cell_type": "code",
      "source": [
        "# Find the indices of columns with over 60% missing values\n",
        "columns_to_drop = missing_perc[missing_perc>=60].index\n",
        "\n",
        "# Remove these columns\n",
        "data = card_df.drop(columns = columns_to_drop)\n",
        "\n",
        "# Drop columns representing labels\n",
        "columns_to_drop = ['hospital_admit_source','icu_admit_source','icu_id',\n",
        "                   'encounter_id','patient_id','hospital_id']\n",
        "data.drop(columns_to_drop, axis = 1, inplace=True)\n",
        "\n",
        "data.shape"
      ],
      "metadata": {
        "id": "3nZoyMe_iGKu",
        "colab": {
          "base_uri": "https://localhost:8080/"
        },
        "outputId": "06034290-be48-4f9c-b9f5-5baacfd5b8df"
      },
      "execution_count": null,
      "outputs": [
        {
          "output_type": "execute_result",
          "data": {
            "text/plain": [
              "(29999, 117)"
            ]
          },
          "metadata": {},
          "execution_count": 22
        }
      ]
    },
    {
      "cell_type": "markdown",
      "source": [
        "58 columns with over 60% missing values and 6 columns representing identifiers were dropped. The dataset left with 124 columns.\n",
        "\n",
        "Since our goal is to build a predictive model, we need to exclude `apache_4a_hospital_death_prob` and `apache_4a_icu_death_prob` from our dataframe because they are estimates of the risk of death based on APACHE IV model."
      ],
      "metadata": {
        "id": "IQKb6hEdiv_l"
      }
    },
    {
      "cell_type": "code",
      "source": [
        "# Remove predicted probabilities based on APACHE IV\n",
        "data.drop(['apache_2_diagnosis','apache_4a_hospital_death_prob',\n",
        "           'apache_4a_icu_death_prob'], axis = 1, inplace=True)"
      ],
      "metadata": {
        "id": "RcSMVDAgx__J"
      },
      "execution_count": null,
      "outputs": []
    },
    {
      "cell_type": "code",
      "source": [
        "# uncomment the line below to check columns in current dataframe\n",
        "data.columns.tolist()"
      ],
      "metadata": {
        "colab": {
          "base_uri": "https://localhost:8080/"
        },
        "id": "1bheOObqi86t",
        "outputId": "4a310163-5161-4dbc-bedc-0c9b0270b30d"
      },
      "execution_count": null,
      "outputs": [
        {
          "output_type": "execute_result",
          "data": {
            "text/plain": [
              "['hospital_death',\n",
              " 'age',\n",
              " 'bmi',\n",
              " 'elective_surgery',\n",
              " 'ethnicity',\n",
              " 'gender',\n",
              " 'height',\n",
              " 'icu_stay_type',\n",
              " 'icu_type',\n",
              " 'pre_icu_los_days',\n",
              " 'weight',\n",
              " 'apache_3j_diagnosis',\n",
              " 'apache_post_operative',\n",
              " 'arf_apache',\n",
              " 'bun_apache',\n",
              " 'creatinine_apache',\n",
              " 'gcs_eyes_apache',\n",
              " 'gcs_motor_apache',\n",
              " 'gcs_unable_apache',\n",
              " 'gcs_verbal_apache',\n",
              " 'glucose_apache',\n",
              " 'heart_rate_apache',\n",
              " 'hematocrit_apache',\n",
              " 'intubated_apache',\n",
              " 'map_apache',\n",
              " 'resprate_apache',\n",
              " 'sodium_apache',\n",
              " 'temp_apache',\n",
              " 'urineoutput_apache',\n",
              " 'ventilated_apache',\n",
              " 'wbc_apache',\n",
              " 'd1_diasbp_invasive_max',\n",
              " 'd1_diasbp_invasive_min',\n",
              " 'd1_diasbp_max',\n",
              " 'd1_diasbp_min',\n",
              " 'd1_diasbp_noninvasive_max',\n",
              " 'd1_diasbp_noninvasive_min',\n",
              " 'd1_heartrate_max',\n",
              " 'd1_heartrate_min',\n",
              " 'd1_mbp_invasive_max',\n",
              " 'd1_mbp_invasive_min',\n",
              " 'd1_mbp_max',\n",
              " 'd1_mbp_min',\n",
              " 'd1_mbp_noninvasive_max',\n",
              " 'd1_mbp_noninvasive_min',\n",
              " 'd1_resprate_max',\n",
              " 'd1_resprate_min',\n",
              " 'd1_spo2_max',\n",
              " 'd1_spo2_min',\n",
              " 'd1_sysbp_invasive_max',\n",
              " 'd1_sysbp_invasive_min',\n",
              " 'd1_sysbp_max',\n",
              " 'd1_sysbp_min',\n",
              " 'd1_sysbp_noninvasive_max',\n",
              " 'd1_sysbp_noninvasive_min',\n",
              " 'd1_temp_max',\n",
              " 'd1_temp_min',\n",
              " 'h1_diasbp_max',\n",
              " 'h1_diasbp_min',\n",
              " 'h1_diasbp_noninvasive_max',\n",
              " 'h1_diasbp_noninvasive_min',\n",
              " 'h1_heartrate_max',\n",
              " 'h1_heartrate_min',\n",
              " 'h1_mbp_max',\n",
              " 'h1_mbp_min',\n",
              " 'h1_mbp_noninvasive_max',\n",
              " 'h1_mbp_noninvasive_min',\n",
              " 'h1_resprate_max',\n",
              " 'h1_resprate_min',\n",
              " 'h1_spo2_max',\n",
              " 'h1_spo2_min',\n",
              " 'h1_sysbp_max',\n",
              " 'h1_sysbp_min',\n",
              " 'h1_sysbp_noninvasive_max',\n",
              " 'h1_sysbp_noninvasive_min',\n",
              " 'h1_temp_max',\n",
              " 'h1_temp_min',\n",
              " 'd1_bun_max',\n",
              " 'd1_bun_min',\n",
              " 'd1_calcium_max',\n",
              " 'd1_calcium_min',\n",
              " 'd1_creatinine_max',\n",
              " 'd1_creatinine_min',\n",
              " 'd1_glucose_max',\n",
              " 'd1_glucose_min',\n",
              " 'd1_hco3_max',\n",
              " 'd1_hco3_min',\n",
              " 'd1_hemaglobin_max',\n",
              " 'd1_hemaglobin_min',\n",
              " 'd1_hematocrit_max',\n",
              " 'd1_hematocrit_min',\n",
              " 'd1_inr_max',\n",
              " 'd1_inr_min',\n",
              " 'd1_platelets_max',\n",
              " 'd1_platelets_min',\n",
              " 'd1_potassium_max',\n",
              " 'd1_potassium_min',\n",
              " 'd1_sodium_max',\n",
              " 'd1_sodium_min',\n",
              " 'd1_wbc_max',\n",
              " 'd1_wbc_min',\n",
              " 'h1_glucose_max',\n",
              " 'h1_glucose_min',\n",
              " 'h1_inr_max',\n",
              " 'h1_inr_min',\n",
              " 'aids',\n",
              " 'cirrhosis',\n",
              " 'diabetes_mellitus',\n",
              " 'hepatic_failure',\n",
              " 'immunosuppression',\n",
              " 'leukemia',\n",
              " 'lymphoma',\n",
              " 'solid_tumor_with_metastasis',\n",
              " 'abg_measured']"
            ]
          },
          "metadata": {},
          "execution_count": 24
        }
      ]
    },
    {
      "cell_type": "code",
      "source": [
        "data.head()"
      ],
      "metadata": {
        "colab": {
          "base_uri": "https://localhost:8080/",
          "height": 308
        },
        "id": "4ezpXcCijcVu",
        "outputId": "31d933a0-032b-4093-894c-5b971ff25163"
      },
      "execution_count": null,
      "outputs": [
        {
          "output_type": "execute_result",
          "data": {
            "text/plain": [
              "    hospital_death   age        bmi  elective_surgery  ethnicity gender  \\\n",
              "3                0  81.0  22.639999                 1  Caucasian      F   \n",
              "8                1  45.0        NaN                 0  Caucasian      M   \n",
              "9                0  50.0  25.709999                 0        NaN      M   \n",
              "16               0  30.0  23.383179                 0  Caucasian      M   \n",
              "19               0  39.0  37.010277                 1        NaN      M   \n",
              "\n",
              "        height icu_stay_type      icu_type  pre_icu_los_days  ...  h1_inr_min  \\\n",
              "3   165.100006         admit         CTICU          0.000694  ...         1.1   \n",
              "8   170.199997         admit     CCU-CTICU          0.009028  ...         1.2   \n",
              "9   175.300003         admit     CCU-CTICU          0.060417  ...         NaN   \n",
              "16  193.000000         admit  Med-Surg ICU          0.240972  ...         1.3   \n",
              "19  177.800003         admit         CTICU          5.163889  ...         1.1   \n",
              "\n",
              "    aids  cirrhosis  diabetes_mellitus  hepatic_failure  immunosuppression  \\\n",
              "3    0.0        0.0                0.0              0.0                0.0   \n",
              "8    0.0        0.0                0.0              0.0                0.0   \n",
              "9    0.0        0.0                0.0              0.0                0.0   \n",
              "16   0.0        0.0                0.0              0.0                0.0   \n",
              "19   0.0        0.0                0.0              0.0                0.0   \n",
              "\n",
              "    leukemia  lymphoma  solid_tumor_with_metastasis  abg_measured  \n",
              "3        0.0       0.0                          0.0             1  \n",
              "8        0.0       0.0                          0.0             1  \n",
              "9        0.0       0.0                          0.0             0  \n",
              "16       0.0       0.0                          0.0             0  \n",
              "19       0.0       0.0                          0.0             1  \n",
              "\n",
              "[5 rows x 114 columns]"
            ],
            "text/html": [
              "\n",
              "  <div id=\"df-7654c56b-6c09-487b-b051-f47d4db443b5\" class=\"colab-df-container\">\n",
              "    <div>\n",
              "<style scoped>\n",
              "    .dataframe tbody tr th:only-of-type {\n",
              "        vertical-align: middle;\n",
              "    }\n",
              "\n",
              "    .dataframe tbody tr th {\n",
              "        vertical-align: top;\n",
              "    }\n",
              "\n",
              "    .dataframe thead th {\n",
              "        text-align: right;\n",
              "    }\n",
              "</style>\n",
              "<table border=\"1\" class=\"dataframe\">\n",
              "  <thead>\n",
              "    <tr style=\"text-align: right;\">\n",
              "      <th></th>\n",
              "      <th>hospital_death</th>\n",
              "      <th>age</th>\n",
              "      <th>bmi</th>\n",
              "      <th>elective_surgery</th>\n",
              "      <th>ethnicity</th>\n",
              "      <th>gender</th>\n",
              "      <th>height</th>\n",
              "      <th>icu_stay_type</th>\n",
              "      <th>icu_type</th>\n",
              "      <th>pre_icu_los_days</th>\n",
              "      <th>...</th>\n",
              "      <th>h1_inr_min</th>\n",
              "      <th>aids</th>\n",
              "      <th>cirrhosis</th>\n",
              "      <th>diabetes_mellitus</th>\n",
              "      <th>hepatic_failure</th>\n",
              "      <th>immunosuppression</th>\n",
              "      <th>leukemia</th>\n",
              "      <th>lymphoma</th>\n",
              "      <th>solid_tumor_with_metastasis</th>\n",
              "      <th>abg_measured</th>\n",
              "    </tr>\n",
              "  </thead>\n",
              "  <tbody>\n",
              "    <tr>\n",
              "      <th>3</th>\n",
              "      <td>0</td>\n",
              "      <td>81.0</td>\n",
              "      <td>22.639999</td>\n",
              "      <td>1</td>\n",
              "      <td>Caucasian</td>\n",
              "      <td>F</td>\n",
              "      <td>165.100006</td>\n",
              "      <td>admit</td>\n",
              "      <td>CTICU</td>\n",
              "      <td>0.000694</td>\n",
              "      <td>...</td>\n",
              "      <td>1.1</td>\n",
              "      <td>0.0</td>\n",
              "      <td>0.0</td>\n",
              "      <td>0.0</td>\n",
              "      <td>0.0</td>\n",
              "      <td>0.0</td>\n",
              "      <td>0.0</td>\n",
              "      <td>0.0</td>\n",
              "      <td>0.0</td>\n",
              "      <td>1</td>\n",
              "    </tr>\n",
              "    <tr>\n",
              "      <th>8</th>\n",
              "      <td>1</td>\n",
              "      <td>45.0</td>\n",
              "      <td>NaN</td>\n",
              "      <td>0</td>\n",
              "      <td>Caucasian</td>\n",
              "      <td>M</td>\n",
              "      <td>170.199997</td>\n",
              "      <td>admit</td>\n",
              "      <td>CCU-CTICU</td>\n",
              "      <td>0.009028</td>\n",
              "      <td>...</td>\n",
              "      <td>1.2</td>\n",
              "      <td>0.0</td>\n",
              "      <td>0.0</td>\n",
              "      <td>0.0</td>\n",
              "      <td>0.0</td>\n",
              "      <td>0.0</td>\n",
              "      <td>0.0</td>\n",
              "      <td>0.0</td>\n",
              "      <td>0.0</td>\n",
              "      <td>1</td>\n",
              "    </tr>\n",
              "    <tr>\n",
              "      <th>9</th>\n",
              "      <td>0</td>\n",
              "      <td>50.0</td>\n",
              "      <td>25.709999</td>\n",
              "      <td>0</td>\n",
              "      <td>NaN</td>\n",
              "      <td>M</td>\n",
              "      <td>175.300003</td>\n",
              "      <td>admit</td>\n",
              "      <td>CCU-CTICU</td>\n",
              "      <td>0.060417</td>\n",
              "      <td>...</td>\n",
              "      <td>NaN</td>\n",
              "      <td>0.0</td>\n",
              "      <td>0.0</td>\n",
              "      <td>0.0</td>\n",
              "      <td>0.0</td>\n",
              "      <td>0.0</td>\n",
              "      <td>0.0</td>\n",
              "      <td>0.0</td>\n",
              "      <td>0.0</td>\n",
              "      <td>0</td>\n",
              "    </tr>\n",
              "    <tr>\n",
              "      <th>16</th>\n",
              "      <td>0</td>\n",
              "      <td>30.0</td>\n",
              "      <td>23.383179</td>\n",
              "      <td>0</td>\n",
              "      <td>Caucasian</td>\n",
              "      <td>M</td>\n",
              "      <td>193.000000</td>\n",
              "      <td>admit</td>\n",
              "      <td>Med-Surg ICU</td>\n",
              "      <td>0.240972</td>\n",
              "      <td>...</td>\n",
              "      <td>1.3</td>\n",
              "      <td>0.0</td>\n",
              "      <td>0.0</td>\n",
              "      <td>0.0</td>\n",
              "      <td>0.0</td>\n",
              "      <td>0.0</td>\n",
              "      <td>0.0</td>\n",
              "      <td>0.0</td>\n",
              "      <td>0.0</td>\n",
              "      <td>0</td>\n",
              "    </tr>\n",
              "    <tr>\n",
              "      <th>19</th>\n",
              "      <td>0</td>\n",
              "      <td>39.0</td>\n",
              "      <td>37.010277</td>\n",
              "      <td>1</td>\n",
              "      <td>NaN</td>\n",
              "      <td>M</td>\n",
              "      <td>177.800003</td>\n",
              "      <td>admit</td>\n",
              "      <td>CTICU</td>\n",
              "      <td>5.163889</td>\n",
              "      <td>...</td>\n",
              "      <td>1.1</td>\n",
              "      <td>0.0</td>\n",
              "      <td>0.0</td>\n",
              "      <td>0.0</td>\n",
              "      <td>0.0</td>\n",
              "      <td>0.0</td>\n",
              "      <td>0.0</td>\n",
              "      <td>0.0</td>\n",
              "      <td>0.0</td>\n",
              "      <td>1</td>\n",
              "    </tr>\n",
              "  </tbody>\n",
              "</table>\n",
              "<p>5 rows × 114 columns</p>\n",
              "</div>\n",
              "    <div class=\"colab-df-buttons\">\n",
              "\n",
              "  <div class=\"colab-df-container\">\n",
              "    <button class=\"colab-df-convert\" onclick=\"convertToInteractive('df-7654c56b-6c09-487b-b051-f47d4db443b5')\"\n",
              "            title=\"Convert this dataframe to an interactive table.\"\n",
              "            style=\"display:none;\">\n",
              "\n",
              "  <svg xmlns=\"http://www.w3.org/2000/svg\" height=\"24px\" viewBox=\"0 -960 960 960\">\n",
              "    <path d=\"M120-120v-720h720v720H120Zm60-500h600v-160H180v160Zm220 220h160v-160H400v160Zm0 220h160v-160H400v160ZM180-400h160v-160H180v160Zm440 0h160v-160H620v160ZM180-180h160v-160H180v160Zm440 0h160v-160H620v160Z\"/>\n",
              "  </svg>\n",
              "    </button>\n",
              "\n",
              "  <style>\n",
              "    .colab-df-container {\n",
              "      display:flex;\n",
              "      gap: 12px;\n",
              "    }\n",
              "\n",
              "    .colab-df-convert {\n",
              "      background-color: #E8F0FE;\n",
              "      border: none;\n",
              "      border-radius: 50%;\n",
              "      cursor: pointer;\n",
              "      display: none;\n",
              "      fill: #1967D2;\n",
              "      height: 32px;\n",
              "      padding: 0 0 0 0;\n",
              "      width: 32px;\n",
              "    }\n",
              "\n",
              "    .colab-df-convert:hover {\n",
              "      background-color: #E2EBFA;\n",
              "      box-shadow: 0px 1px 2px rgba(60, 64, 67, 0.3), 0px 1px 3px 1px rgba(60, 64, 67, 0.15);\n",
              "      fill: #174EA6;\n",
              "    }\n",
              "\n",
              "    .colab-df-buttons div {\n",
              "      margin-bottom: 4px;\n",
              "    }\n",
              "\n",
              "    [theme=dark] .colab-df-convert {\n",
              "      background-color: #3B4455;\n",
              "      fill: #D2E3FC;\n",
              "    }\n",
              "\n",
              "    [theme=dark] .colab-df-convert:hover {\n",
              "      background-color: #434B5C;\n",
              "      box-shadow: 0px 1px 3px 1px rgba(0, 0, 0, 0.15);\n",
              "      filter: drop-shadow(0px 1px 2px rgba(0, 0, 0, 0.3));\n",
              "      fill: #FFFFFF;\n",
              "    }\n",
              "  </style>\n",
              "\n",
              "    <script>\n",
              "      const buttonEl =\n",
              "        document.querySelector('#df-7654c56b-6c09-487b-b051-f47d4db443b5 button.colab-df-convert');\n",
              "      buttonEl.style.display =\n",
              "        google.colab.kernel.accessAllowed ? 'block' : 'none';\n",
              "\n",
              "      async function convertToInteractive(key) {\n",
              "        const element = document.querySelector('#df-7654c56b-6c09-487b-b051-f47d4db443b5');\n",
              "        const dataTable =\n",
              "          await google.colab.kernel.invokeFunction('convertToInteractive',\n",
              "                                                    [key], {});\n",
              "        if (!dataTable) return;\n",
              "\n",
              "        const docLinkHtml = 'Like what you see? Visit the ' +\n",
              "          '<a target=\"_blank\" href=https://colab.research.google.com/notebooks/data_table.ipynb>data table notebook</a>'\n",
              "          + ' to learn more about interactive tables.';\n",
              "        element.innerHTML = '';\n",
              "        dataTable['output_type'] = 'display_data';\n",
              "        await google.colab.output.renderOutput(dataTable, element);\n",
              "        const docLink = document.createElement('div');\n",
              "        docLink.innerHTML = docLinkHtml;\n",
              "        element.appendChild(docLink);\n",
              "      }\n",
              "    </script>\n",
              "  </div>\n",
              "\n",
              "\n",
              "<div id=\"df-6a7e6be1-ae9b-4922-baa8-dfaef3b6a2e8\">\n",
              "  <button class=\"colab-df-quickchart\" onclick=\"quickchart('df-6a7e6be1-ae9b-4922-baa8-dfaef3b6a2e8')\"\n",
              "            title=\"Suggest charts\"\n",
              "            style=\"display:none;\">\n",
              "\n",
              "<svg xmlns=\"http://www.w3.org/2000/svg\" height=\"24px\"viewBox=\"0 0 24 24\"\n",
              "     width=\"24px\">\n",
              "    <g>\n",
              "        <path d=\"M19 3H5c-1.1 0-2 .9-2 2v14c0 1.1.9 2 2 2h14c1.1 0 2-.9 2-2V5c0-1.1-.9-2-2-2zM9 17H7v-7h2v7zm4 0h-2V7h2v10zm4 0h-2v-4h2v4z\"/>\n",
              "    </g>\n",
              "</svg>\n",
              "  </button>\n",
              "\n",
              "<style>\n",
              "  .colab-df-quickchart {\n",
              "      --bg-color: #E8F0FE;\n",
              "      --fill-color: #1967D2;\n",
              "      --hover-bg-color: #E2EBFA;\n",
              "      --hover-fill-color: #174EA6;\n",
              "      --disabled-fill-color: #AAA;\n",
              "      --disabled-bg-color: #DDD;\n",
              "  }\n",
              "\n",
              "  [theme=dark] .colab-df-quickchart {\n",
              "      --bg-color: #3B4455;\n",
              "      --fill-color: #D2E3FC;\n",
              "      --hover-bg-color: #434B5C;\n",
              "      --hover-fill-color: #FFFFFF;\n",
              "      --disabled-bg-color: #3B4455;\n",
              "      --disabled-fill-color: #666;\n",
              "  }\n",
              "\n",
              "  .colab-df-quickchart {\n",
              "    background-color: var(--bg-color);\n",
              "    border: none;\n",
              "    border-radius: 50%;\n",
              "    cursor: pointer;\n",
              "    display: none;\n",
              "    fill: var(--fill-color);\n",
              "    height: 32px;\n",
              "    padding: 0;\n",
              "    width: 32px;\n",
              "  }\n",
              "\n",
              "  .colab-df-quickchart:hover {\n",
              "    background-color: var(--hover-bg-color);\n",
              "    box-shadow: 0 1px 2px rgba(60, 64, 67, 0.3), 0 1px 3px 1px rgba(60, 64, 67, 0.15);\n",
              "    fill: var(--button-hover-fill-color);\n",
              "  }\n",
              "\n",
              "  .colab-df-quickchart-complete:disabled,\n",
              "  .colab-df-quickchart-complete:disabled:hover {\n",
              "    background-color: var(--disabled-bg-color);\n",
              "    fill: var(--disabled-fill-color);\n",
              "    box-shadow: none;\n",
              "  }\n",
              "\n",
              "  .colab-df-spinner {\n",
              "    border: 2px solid var(--fill-color);\n",
              "    border-color: transparent;\n",
              "    border-bottom-color: var(--fill-color);\n",
              "    animation:\n",
              "      spin 1s steps(1) infinite;\n",
              "  }\n",
              "\n",
              "  @keyframes spin {\n",
              "    0% {\n",
              "      border-color: transparent;\n",
              "      border-bottom-color: var(--fill-color);\n",
              "      border-left-color: var(--fill-color);\n",
              "    }\n",
              "    20% {\n",
              "      border-color: transparent;\n",
              "      border-left-color: var(--fill-color);\n",
              "      border-top-color: var(--fill-color);\n",
              "    }\n",
              "    30% {\n",
              "      border-color: transparent;\n",
              "      border-left-color: var(--fill-color);\n",
              "      border-top-color: var(--fill-color);\n",
              "      border-right-color: var(--fill-color);\n",
              "    }\n",
              "    40% {\n",
              "      border-color: transparent;\n",
              "      border-right-color: var(--fill-color);\n",
              "      border-top-color: var(--fill-color);\n",
              "    }\n",
              "    60% {\n",
              "      border-color: transparent;\n",
              "      border-right-color: var(--fill-color);\n",
              "    }\n",
              "    80% {\n",
              "      border-color: transparent;\n",
              "      border-right-color: var(--fill-color);\n",
              "      border-bottom-color: var(--fill-color);\n",
              "    }\n",
              "    90% {\n",
              "      border-color: transparent;\n",
              "      border-bottom-color: var(--fill-color);\n",
              "    }\n",
              "  }\n",
              "</style>\n",
              "\n",
              "  <script>\n",
              "    async function quickchart(key) {\n",
              "      const quickchartButtonEl =\n",
              "        document.querySelector('#' + key + ' button');\n",
              "      quickchartButtonEl.disabled = true;  // To prevent multiple clicks.\n",
              "      quickchartButtonEl.classList.add('colab-df-spinner');\n",
              "      try {\n",
              "        const charts = await google.colab.kernel.invokeFunction(\n",
              "            'suggestCharts', [key], {});\n",
              "      } catch (error) {\n",
              "        console.error('Error during call to suggestCharts:', error);\n",
              "      }\n",
              "      quickchartButtonEl.classList.remove('colab-df-spinner');\n",
              "      quickchartButtonEl.classList.add('colab-df-quickchart-complete');\n",
              "    }\n",
              "    (() => {\n",
              "      let quickchartButtonEl =\n",
              "        document.querySelector('#df-6a7e6be1-ae9b-4922-baa8-dfaef3b6a2e8 button');\n",
              "      quickchartButtonEl.style.display =\n",
              "        google.colab.kernel.accessAllowed ? 'block' : 'none';\n",
              "    })();\n",
              "  </script>\n",
              "</div>\n",
              "    </div>\n",
              "  </div>\n"
            ]
          },
          "metadata": {},
          "execution_count": 25
        }
      ]
    },
    {
      "cell_type": "markdown",
      "source": [
        "## Selection of the Features by Clinical Importance\n",
        "\n",
        "In the context of ICU data, common outcomes include:\n",
        "\n",
        "*   **Mortality**: Whether the patient survives the ICU stay or the hospital stay. This is often the primary outcome of interest.\n",
        "*   **Length of stay**: This is usually the secondary outcome, but it can be very informative about resources utilization and patient recovery.\n",
        "*   **Readmission**: Whether the patient was readmitted to the ICU after discharge, which can be a sign of premature discharge or complications.\n",
        "\n",
        "Therefore, our **outcome variable** is `hospital_death` which indicates whether the patient died during this hospitalization.  \n",
        "\n",
        "**Demographic Features**\n",
        "\n",
        "- **BMI**: Since BMI is calculated based on height and weight, we will remove height and weight after the calculation of BMI for missingness.  \n",
        "  - We can encode BMI into binary variable to indicate obesity or not.  \n",
        "- **age**: Age is a significant predictor of mortality in ICU patiients.  \n",
        "- **gender**: Gender may influence the ooutcome.  \n",
        "- **ethnicity**: Ethnic background can be relevant for risk stratification.\n",
        "\n",
        "**Clinical Interventioons and ICU Information**\n",
        "\n",
        "- **apache_post_operative**: Indicates if the ICU admission was post-surgical.\n",
        "- **arf_apache**: Acute renal failure as identified by the APACHE system.\n",
        "\n",
        "**Cardiovascular-Related Variables**:\n",
        "- `heart_rate_apach`: Heart rate abnormalities can indicate cardiac stress or dysfunction.\n",
        "map_apache: Mean arterial pressure is a critical parameter for assessing cardiovascular function.  \n",
        "- `apache_post_operative`: Indicates if the ICU admission was post-surgical, which can be relevant for cardiovascular patients.\n",
        "\n",
        "**Renal-Related Variables**:  \n",
        "- `bun_apache`: Blood Urea Nitrogen levels.\n",
        "- `creatinine_apache`: Serum creatinine levels.  \n",
        "- `urineoutput_apache`: Total urine output, which can indicate kidney function.\n",
        "\n",
        "**Laboratory Results**:  \n",
        "* `heart_rate_apache`, `map_apache`, `resprate_apache`: Vital signs that are critical in assessing patient status.\n",
        "* `hematocrit_apache`, `wbc_apache`: Blood cell counts can indicate various acute and chronic conditions.\n",
        "* `sodium_apache`: Electrolyte balance is crucial, especially in renal and cardiovascular diseases.\n",
        "* `ventilated_apache`: Mechanical ventilation status is a marker of severity.\n",
        "\n",
        "**Comorbidity Indicators**:  \n",
        "- `diabetes_mellitus`, `hepatic_failure`, `immunosuppression`, `leukemia`, `lymphoma`, `solid_tumor_with_metastasis`: Comorbid conditions can significantly affect mortality risk.\n",
        "\n",
        "**Demographics**:\n",
        "`age (in bins), gender, ethnicity, bmi`: Basic demographic information can be relevant for risk adjustment.  \n",
        "\n",
        "**Treatment Variables**:  \n",
        "- `arf_apache`: Acute renal failure as identified by the APACHE system.\n",
        "\n",
        "\n"
      ],
      "metadata": {
        "id": "SQt2mxF3smt-"
      }
    },
    {
      "cell_type": "markdown",
      "source": [
        "### Calculate BMI"
      ],
      "metadata": {
        "id": "cZGRMswKqP7e"
      }
    },
    {
      "cell_type": "code",
      "source": [
        "# Function to calculate BMI\n",
        "def calculate_bmi(weight, height):\n",
        "  if height > 0:\n",
        "    height_in_meters = height/100 # convert height to meters\n",
        "    bmi = weight / (height_in_meters ** 2)\n",
        "    return bmi\n",
        "  else:\n",
        "    return None\n",
        "\n",
        "# Impute BMI where height and weight are available\n",
        "data.loc[card_df['bmi'].isnull(), 'bmi'] = card_df.apply(\n",
        "    lambda row: calculate_bmi(row['weight'], row['height'])\n",
        "    if pd.notnull(row['weight']) and pd.notnull(row['height'])\n",
        "    else None,\n",
        "    axis=1\n",
        ")\n",
        "\n",
        "# Check missings in BMI\n",
        "data['bmi'].isnull().sum()"
      ],
      "metadata": {
        "colab": {
          "base_uri": "https://localhost:8080/"
        },
        "id": "y2AsipzoB5r_",
        "outputId": "0c35dedf-6c76-4fd1-f324-74c2acbf4bf5"
      },
      "execution_count": null,
      "outputs": [
        {
          "output_type": "execute_result",
          "data": {
            "text/plain": [
              "1166"
            ]
          },
          "metadata": {},
          "execution_count": 26
        }
      ]
    },
    {
      "cell_type": "markdown",
      "source": [
        "There are still 1166 missing values in BMI after the imputation of calculated value based on height and weight, we will impute these missing later with the pipeline."
      ],
      "metadata": {
        "id": "K5WDdnEyqjbl"
      }
    },
    {
      "cell_type": "code",
      "source": [
        "data.drop(['height', 'weight'], axis = 1, inplace = True)"
      ],
      "metadata": {
        "id": "NPlsA1GqeBg4"
      },
      "execution_count": null,
      "outputs": []
    },
    {
      "cell_type": "markdown",
      "source": [
        "## Check Missing and Imputation"
      ],
      "metadata": {
        "id": "wrTAVlKevSvO"
      }
    },
    {
      "cell_type": "code",
      "source": [
        "# Checking for missing values\n",
        "missing_values = data.isnull().sum()\n",
        "print(\"Missing values:\\n\", missing_values)"
      ],
      "metadata": {
        "colab": {
          "base_uri": "https://localhost:8080/"
        },
        "id": "ylvlqpoc5MEX",
        "outputId": "35af1464-56e1-417f-efc5-d3c8dbb6beb3"
      },
      "execution_count": null,
      "outputs": [
        {
          "output_type": "stream",
          "name": "stdout",
          "text": [
            "Missing values:\n",
            " hospital_death                    0\n",
            "age                            1047\n",
            "bmi                            1166\n",
            "elective_surgery                  0\n",
            "ethnicity                       551\n",
            "                               ... \n",
            "immunosuppression                 0\n",
            "leukemia                          0\n",
            "lymphoma                          0\n",
            "solid_tumor_with_metastasis       0\n",
            "abg_measured                      0\n",
            "Length: 112, dtype: int64\n"
          ]
        }
      ]
    },
    {
      "cell_type": "markdown",
      "source": [
        "For columns representing demographic information, several of them exhibit missing values:\n",
        "\n",
        "- `age` has 1,047 missing entires. Consider the significance of age in health-related outcomes, we would impute missing age using median value.  \n",
        "- `bmi` contains 1,166 missing records.\n",
        "- `ethnicity` has 551 missing values. Considering that the size of missing is relatively small compared to the size of the dataset, we will remove these observations directly.\n",
        "- `gender` has the least number of missing values, with only 9 absent entries, which is relatively minor given the size of the dataset. Therefore, we will consider to remove these observations directly."
      ],
      "metadata": {
        "id": "eRFOSG5p60fF"
      }
    },
    {
      "cell_type": "code",
      "source": [
        "data.dropna(subset=['gender'], inplace = True)"
      ],
      "metadata": {
        "id": "oQuFL51H2pS3"
      },
      "execution_count": null,
      "outputs": []
    },
    {
      "cell_type": "code",
      "source": [
        "data['ethnicity'].unique()"
      ],
      "metadata": {
        "colab": {
          "base_uri": "https://localhost:8080/"
        },
        "id": "5ybR3TRv7XKN",
        "outputId": "b2bcb90b-0cc5-4ec2-a598-be614b36792b"
      },
      "execution_count": null,
      "outputs": [
        {
          "output_type": "execute_result",
          "data": {
            "text/plain": [
              "['Caucasian', NaN, 'African American', 'Hispanic', 'Asian', 'Native American', 'Other/Unknown']\n",
              "Categories (6, object): ['African American', 'Asian', 'Caucasian', 'Hispanic', 'Native American',\n",
              "                         'Other/Unknown']"
            ]
          },
          "metadata": {},
          "execution_count": 30
        }
      ]
    },
    {
      "cell_type": "code",
      "source": [
        "data['gender'].unique()"
      ],
      "metadata": {
        "colab": {
          "base_uri": "https://localhost:8080/"
        },
        "id": "CV5E4NTL7tZh",
        "outputId": "06f6b48c-7186-4739-99fb-83656f4da5e5"
      },
      "execution_count": null,
      "outputs": [
        {
          "output_type": "execute_result",
          "data": {
            "text/plain": [
              "['F', 'M']\n",
              "Categories (2, object): ['F', 'M']"
            ]
          },
          "metadata": {},
          "execution_count": 31
        }
      ]
    },
    {
      "cell_type": "markdown",
      "source": [
        "To tidy up our data\n",
        "\n",
        "1. Replace \"Other/Unknown\" in the `ethnicity` column with \"Others\" values to indicate missing data.  \n",
        "2. Fill missing values in ethnicity by \"Others\"."
      ],
      "metadata": {
        "id": "MdzgqokN8tm3"
      }
    },
    {
      "cell_type": "code",
      "source": [
        "# Ethnicity\n",
        "data[\"ethnicity\"].replace({\"Other/Unknown\": \"Others\"}, inplace = True)\n",
        "data[\"ethnicity\"].fillna(\"Others\", inplace = True)"
      ],
      "metadata": {
        "id": "4fe_U7Ma_k_j"
      },
      "execution_count": null,
      "outputs": []
    },
    {
      "cell_type": "markdown",
      "source": [
        "### Distribution of Classes"
      ],
      "metadata": {
        "id": "sW1GC-N6ENlF"
      }
    },
    {
      "cell_type": "code",
      "source": [
        "import plotly.express as px\n",
        "\n",
        "counts = data['hospital_death'].value_counts()\n",
        "\n",
        "# Define your color sequence\n",
        "colors = ['#1c3a73', '#7cb1c2']\n",
        "\n",
        "fig = px.pie(\n",
        "    names=counts.index,\n",
        "    values=counts.values,\n",
        "    hole=0.5,  # size of the hole, 0.5 means 50%\n",
        "    title='Distribution of Classes in Hospital Death',\n",
        "    color_discrete_sequence=colors  # apply your colors here\n",
        ")\n",
        "\n",
        "# Update layout for better appearance\n",
        "fig.update_layout(\n",
        "    margin=dict(t=50, b=0, l=0, r=0),  # Adjust top margin to make room for title\n",
        "    legend=dict(\n",
        "        orientation=\"v\",\n",
        "        yanchor=\"top\",\n",
        "        y=0.5,\n",
        "        xanchor=\"left\",\n",
        "        x=1.05,\n",
        "        title='Hospital Death'\n",
        "    ),\n",
        "    title=dict(\n",
        "        text='Distribution of Classes in Hospital Death',\n",
        "        x=0.45,  # Centering the title\n",
        "        xanchor='center',\n",
        "        y=0.95,  # Adjusting y position to place title above chart\n",
        "        yanchor='top',\n",
        "        font=dict(size=16)\n",
        "    ),\n",
        "    width=500,\n",
        "    height=350\n",
        ")\n",
        "\n",
        "fig.show()"
      ],
      "metadata": {
        "colab": {
          "base_uri": "https://localhost:8080/",
          "height": 367
        },
        "id": "yuvyTjU_EM8i",
        "outputId": "9b80d6d2-fdb1-4b61-efa9-e9949eb3c408"
      },
      "execution_count": null,
      "outputs": [
        {
          "output_type": "display_data",
          "data": {
            "text/html": [
              "<html>\n",
              "<head><meta charset=\"utf-8\" /></head>\n",
              "<body>\n",
              "    <div>            <script src=\"https://cdnjs.cloudflare.com/ajax/libs/mathjax/2.7.5/MathJax.js?config=TeX-AMS-MML_SVG\"></script><script type=\"text/javascript\">if (window.MathJax && window.MathJax.Hub && window.MathJax.Hub.Config) {window.MathJax.Hub.Config({SVG: {font: \"STIX-Web\"}});}</script>                <script type=\"text/javascript\">window.PlotlyConfig = {MathJaxConfig: 'local'};</script>\n",
              "        <script charset=\"utf-8\" src=\"https://cdn.plot.ly/plotly-2.24.1.min.js\"></script>                <div id=\"815d86ab-7b82-4f84-93bb-6f31c0b0647c\" class=\"plotly-graph-div\" style=\"height:350px; width:500px;\"></div>            <script type=\"text/javascript\">                                    window.PLOTLYENV=window.PLOTLYENV || {};                                    if (document.getElementById(\"815d86ab-7b82-4f84-93bb-6f31c0b0647c\")) {                    Plotly.newPlot(                        \"815d86ab-7b82-4f84-93bb-6f31c0b0647c\",                        [{\"domain\":{\"x\":[0.0,1.0],\"y\":[0.0,1.0]},\"hole\":0.5,\"hovertemplate\":\"label=%{label}\\u003cbr\\u003evalue=%{value}\\u003cextra\\u003e\\u003c\\u002fextra\\u003e\",\"labels\":[0,1],\"legendgroup\":\"\",\"name\":\"\",\"showlegend\":true,\"values\":[27604,2386],\"type\":\"pie\"}],                        {\"template\":{\"data\":{\"histogram2dcontour\":[{\"type\":\"histogram2dcontour\",\"colorbar\":{\"outlinewidth\":0,\"ticks\":\"\"},\"colorscale\":[[0.0,\"#0d0887\"],[0.1111111111111111,\"#46039f\"],[0.2222222222222222,\"#7201a8\"],[0.3333333333333333,\"#9c179e\"],[0.4444444444444444,\"#bd3786\"],[0.5555555555555556,\"#d8576b\"],[0.6666666666666666,\"#ed7953\"],[0.7777777777777778,\"#fb9f3a\"],[0.8888888888888888,\"#fdca26\"],[1.0,\"#f0f921\"]]}],\"choropleth\":[{\"type\":\"choropleth\",\"colorbar\":{\"outlinewidth\":0,\"ticks\":\"\"}}],\"histogram2d\":[{\"type\":\"histogram2d\",\"colorbar\":{\"outlinewidth\":0,\"ticks\":\"\"},\"colorscale\":[[0.0,\"#0d0887\"],[0.1111111111111111,\"#46039f\"],[0.2222222222222222,\"#7201a8\"],[0.3333333333333333,\"#9c179e\"],[0.4444444444444444,\"#bd3786\"],[0.5555555555555556,\"#d8576b\"],[0.6666666666666666,\"#ed7953\"],[0.7777777777777778,\"#fb9f3a\"],[0.8888888888888888,\"#fdca26\"],[1.0,\"#f0f921\"]]}],\"heatmap\":[{\"type\":\"heatmap\",\"colorbar\":{\"outlinewidth\":0,\"ticks\":\"\"},\"colorscale\":[[0.0,\"#0d0887\"],[0.1111111111111111,\"#46039f\"],[0.2222222222222222,\"#7201a8\"],[0.3333333333333333,\"#9c179e\"],[0.4444444444444444,\"#bd3786\"],[0.5555555555555556,\"#d8576b\"],[0.6666666666666666,\"#ed7953\"],[0.7777777777777778,\"#fb9f3a\"],[0.8888888888888888,\"#fdca26\"],[1.0,\"#f0f921\"]]}],\"heatmapgl\":[{\"type\":\"heatmapgl\",\"colorbar\":{\"outlinewidth\":0,\"ticks\":\"\"},\"colorscale\":[[0.0,\"#0d0887\"],[0.1111111111111111,\"#46039f\"],[0.2222222222222222,\"#7201a8\"],[0.3333333333333333,\"#9c179e\"],[0.4444444444444444,\"#bd3786\"],[0.5555555555555556,\"#d8576b\"],[0.6666666666666666,\"#ed7953\"],[0.7777777777777778,\"#fb9f3a\"],[0.8888888888888888,\"#fdca26\"],[1.0,\"#f0f921\"]]}],\"contourcarpet\":[{\"type\":\"contourcarpet\",\"colorbar\":{\"outlinewidth\":0,\"ticks\":\"\"}}],\"contour\":[{\"type\":\"contour\",\"colorbar\":{\"outlinewidth\":0,\"ticks\":\"\"},\"colorscale\":[[0.0,\"#0d0887\"],[0.1111111111111111,\"#46039f\"],[0.2222222222222222,\"#7201a8\"],[0.3333333333333333,\"#9c179e\"],[0.4444444444444444,\"#bd3786\"],[0.5555555555555556,\"#d8576b\"],[0.6666666666666666,\"#ed7953\"],[0.7777777777777778,\"#fb9f3a\"],[0.8888888888888888,\"#fdca26\"],[1.0,\"#f0f921\"]]}],\"surface\":[{\"type\":\"surface\",\"colorbar\":{\"outlinewidth\":0,\"ticks\":\"\"},\"colorscale\":[[0.0,\"#0d0887\"],[0.1111111111111111,\"#46039f\"],[0.2222222222222222,\"#7201a8\"],[0.3333333333333333,\"#9c179e\"],[0.4444444444444444,\"#bd3786\"],[0.5555555555555556,\"#d8576b\"],[0.6666666666666666,\"#ed7953\"],[0.7777777777777778,\"#fb9f3a\"],[0.8888888888888888,\"#fdca26\"],[1.0,\"#f0f921\"]]}],\"mesh3d\":[{\"type\":\"mesh3d\",\"colorbar\":{\"outlinewidth\":0,\"ticks\":\"\"}}],\"scatter\":[{\"fillpattern\":{\"fillmode\":\"overlay\",\"size\":10,\"solidity\":0.2},\"type\":\"scatter\"}],\"parcoords\":[{\"type\":\"parcoords\",\"line\":{\"colorbar\":{\"outlinewidth\":0,\"ticks\":\"\"}}}],\"scatterpolargl\":[{\"type\":\"scatterpolargl\",\"marker\":{\"colorbar\":{\"outlinewidth\":0,\"ticks\":\"\"}}}],\"bar\":[{\"error_x\":{\"color\":\"#2a3f5f\"},\"error_y\":{\"color\":\"#2a3f5f\"},\"marker\":{\"line\":{\"color\":\"#E5ECF6\",\"width\":0.5},\"pattern\":{\"fillmode\":\"overlay\",\"size\":10,\"solidity\":0.2}},\"type\":\"bar\"}],\"scattergeo\":[{\"type\":\"scattergeo\",\"marker\":{\"colorbar\":{\"outlinewidth\":0,\"ticks\":\"\"}}}],\"scatterpolar\":[{\"type\":\"scatterpolar\",\"marker\":{\"colorbar\":{\"outlinewidth\":0,\"ticks\":\"\"}}}],\"histogram\":[{\"marker\":{\"pattern\":{\"fillmode\":\"overlay\",\"size\":10,\"solidity\":0.2}},\"type\":\"histogram\"}],\"scattergl\":[{\"type\":\"scattergl\",\"marker\":{\"colorbar\":{\"outlinewidth\":0,\"ticks\":\"\"}}}],\"scatter3d\":[{\"type\":\"scatter3d\",\"line\":{\"colorbar\":{\"outlinewidth\":0,\"ticks\":\"\"}},\"marker\":{\"colorbar\":{\"outlinewidth\":0,\"ticks\":\"\"}}}],\"scattermapbox\":[{\"type\":\"scattermapbox\",\"marker\":{\"colorbar\":{\"outlinewidth\":0,\"ticks\":\"\"}}}],\"scatterternary\":[{\"type\":\"scatterternary\",\"marker\":{\"colorbar\":{\"outlinewidth\":0,\"ticks\":\"\"}}}],\"scattercarpet\":[{\"type\":\"scattercarpet\",\"marker\":{\"colorbar\":{\"outlinewidth\":0,\"ticks\":\"\"}}}],\"carpet\":[{\"aaxis\":{\"endlinecolor\":\"#2a3f5f\",\"gridcolor\":\"white\",\"linecolor\":\"white\",\"minorgridcolor\":\"white\",\"startlinecolor\":\"#2a3f5f\"},\"baxis\":{\"endlinecolor\":\"#2a3f5f\",\"gridcolor\":\"white\",\"linecolor\":\"white\",\"minorgridcolor\":\"white\",\"startlinecolor\":\"#2a3f5f\"},\"type\":\"carpet\"}],\"table\":[{\"cells\":{\"fill\":{\"color\":\"#EBF0F8\"},\"line\":{\"color\":\"white\"}},\"header\":{\"fill\":{\"color\":\"#C8D4E3\"},\"line\":{\"color\":\"white\"}},\"type\":\"table\"}],\"barpolar\":[{\"marker\":{\"line\":{\"color\":\"#E5ECF6\",\"width\":0.5},\"pattern\":{\"fillmode\":\"overlay\",\"size\":10,\"solidity\":0.2}},\"type\":\"barpolar\"}],\"pie\":[{\"automargin\":true,\"type\":\"pie\"}]},\"layout\":{\"autotypenumbers\":\"strict\",\"colorway\":[\"#636efa\",\"#EF553B\",\"#00cc96\",\"#ab63fa\",\"#FFA15A\",\"#19d3f3\",\"#FF6692\",\"#B6E880\",\"#FF97FF\",\"#FECB52\"],\"font\":{\"color\":\"#2a3f5f\"},\"hovermode\":\"closest\",\"hoverlabel\":{\"align\":\"left\"},\"paper_bgcolor\":\"white\",\"plot_bgcolor\":\"#E5ECF6\",\"polar\":{\"bgcolor\":\"#E5ECF6\",\"angularaxis\":{\"gridcolor\":\"white\",\"linecolor\":\"white\",\"ticks\":\"\"},\"radialaxis\":{\"gridcolor\":\"white\",\"linecolor\":\"white\",\"ticks\":\"\"}},\"ternary\":{\"bgcolor\":\"#E5ECF6\",\"aaxis\":{\"gridcolor\":\"white\",\"linecolor\":\"white\",\"ticks\":\"\"},\"baxis\":{\"gridcolor\":\"white\",\"linecolor\":\"white\",\"ticks\":\"\"},\"caxis\":{\"gridcolor\":\"white\",\"linecolor\":\"white\",\"ticks\":\"\"}},\"coloraxis\":{\"colorbar\":{\"outlinewidth\":0,\"ticks\":\"\"}},\"colorscale\":{\"sequential\":[[0.0,\"#0d0887\"],[0.1111111111111111,\"#46039f\"],[0.2222222222222222,\"#7201a8\"],[0.3333333333333333,\"#9c179e\"],[0.4444444444444444,\"#bd3786\"],[0.5555555555555556,\"#d8576b\"],[0.6666666666666666,\"#ed7953\"],[0.7777777777777778,\"#fb9f3a\"],[0.8888888888888888,\"#fdca26\"],[1.0,\"#f0f921\"]],\"sequentialminus\":[[0.0,\"#0d0887\"],[0.1111111111111111,\"#46039f\"],[0.2222222222222222,\"#7201a8\"],[0.3333333333333333,\"#9c179e\"],[0.4444444444444444,\"#bd3786\"],[0.5555555555555556,\"#d8576b\"],[0.6666666666666666,\"#ed7953\"],[0.7777777777777778,\"#fb9f3a\"],[0.8888888888888888,\"#fdca26\"],[1.0,\"#f0f921\"]],\"diverging\":[[0,\"#8e0152\"],[0.1,\"#c51b7d\"],[0.2,\"#de77ae\"],[0.3,\"#f1b6da\"],[0.4,\"#fde0ef\"],[0.5,\"#f7f7f7\"],[0.6,\"#e6f5d0\"],[0.7,\"#b8e186\"],[0.8,\"#7fbc41\"],[0.9,\"#4d9221\"],[1,\"#276419\"]]},\"xaxis\":{\"gridcolor\":\"white\",\"linecolor\":\"white\",\"ticks\":\"\",\"title\":{\"standoff\":15},\"zerolinecolor\":\"white\",\"automargin\":true,\"zerolinewidth\":2},\"yaxis\":{\"gridcolor\":\"white\",\"linecolor\":\"white\",\"ticks\":\"\",\"title\":{\"standoff\":15},\"zerolinecolor\":\"white\",\"automargin\":true,\"zerolinewidth\":2},\"scene\":{\"xaxis\":{\"backgroundcolor\":\"#E5ECF6\",\"gridcolor\":\"white\",\"linecolor\":\"white\",\"showbackground\":true,\"ticks\":\"\",\"zerolinecolor\":\"white\",\"gridwidth\":2},\"yaxis\":{\"backgroundcolor\":\"#E5ECF6\",\"gridcolor\":\"white\",\"linecolor\":\"white\",\"showbackground\":true,\"ticks\":\"\",\"zerolinecolor\":\"white\",\"gridwidth\":2},\"zaxis\":{\"backgroundcolor\":\"#E5ECF6\",\"gridcolor\":\"white\",\"linecolor\":\"white\",\"showbackground\":true,\"ticks\":\"\",\"zerolinecolor\":\"white\",\"gridwidth\":2}},\"shapedefaults\":{\"line\":{\"color\":\"#2a3f5f\"}},\"annotationdefaults\":{\"arrowcolor\":\"#2a3f5f\",\"arrowhead\":0,\"arrowwidth\":1},\"geo\":{\"bgcolor\":\"white\",\"landcolor\":\"#E5ECF6\",\"subunitcolor\":\"white\",\"showland\":true,\"showlakes\":true,\"lakecolor\":\"white\"},\"title\":{\"x\":0.05},\"mapbox\":{\"style\":\"light\"}}},\"legend\":{\"tracegroupgap\":0,\"orientation\":\"v\",\"yanchor\":\"top\",\"y\":0.5,\"xanchor\":\"left\",\"x\":1.05,\"title\":{\"text\":\"Hospital Death\"}},\"title\":{\"text\":\"Distribution of Classes in Hospital Death\",\"font\":{\"size\":16},\"x\":0.45,\"xanchor\":\"center\",\"y\":0.95,\"yanchor\":\"top\"},\"piecolorway\":[\"#1c3a73\",\"#7cb1c2\"],\"margin\":{\"t\":50,\"b\":0,\"l\":0,\"r\":0},\"width\":500,\"height\":350},                        {\"responsive\": true}                    ).then(function(){\n",
              "                            \n",
              "var gd = document.getElementById('815d86ab-7b82-4f84-93bb-6f31c0b0647c');\n",
              "var x = new MutationObserver(function (mutations, observer) {{\n",
              "        var display = window.getComputedStyle(gd).display;\n",
              "        if (!display || display === 'none') {{\n",
              "            console.log([gd, 'removed!']);\n",
              "            Plotly.purge(gd);\n",
              "            observer.disconnect();\n",
              "        }}\n",
              "}});\n",
              "\n",
              "// Listen for the removal of the full notebook cells\n",
              "var notebookContainer = gd.closest('#notebook-container');\n",
              "if (notebookContainer) {{\n",
              "    x.observe(notebookContainer, {childList: true});\n",
              "}}\n",
              "\n",
              "// Listen for the clearing of the current output cell\n",
              "var outputEl = gd.closest('.output');\n",
              "if (outputEl) {{\n",
              "    x.observe(outputEl, {childList: true});\n",
              "}}\n",
              "\n",
              "                        })                };                            </script>        </div>\n",
              "</body>\n",
              "</html>"
            ]
          },
          "metadata": {}
        }
      ]
    },
    {
      "cell_type": "markdown",
      "source": [
        "An 92-8 split suggests that there is severe clasas imbalance in the dataset, with the death population representing approximately 8% of the data and the other 92%."
      ],
      "metadata": {
        "id": "W8YZPbTCExSu"
      }
    },
    {
      "cell_type": "markdown",
      "source": [
        "### `bun_apache` and `creaatinine_apache` imputation"
      ],
      "metadata": {
        "id": "0JGFl-S-T-fi"
      }
    },
    {
      "cell_type": "code",
      "source": [
        "# Create an IterativeImputer object\n",
        "mice_imputer = IterativeImputer()\n",
        "\n",
        "# Impute bun_apache and creatinine_apache using multiple imputation\n",
        "columns_to_impute = ['bun_apache', 'creatinine_apache']\n",
        "\n",
        "# Perform the imputation\n",
        "data[columns_to_impute] = mice_imputer.fit_transform(data[columns_to_impute])\n",
        "data[columns_to_impute].isnull().sum()"
      ],
      "metadata": {
        "colab": {
          "base_uri": "https://localhost:8080/"
        },
        "id": "Q3Xbh6q1StK8",
        "outputId": "3e8bac94-1691-4c4e-d316-830899e78ba7"
      },
      "execution_count": null,
      "outputs": [
        {
          "output_type": "execute_result",
          "data": {
            "text/plain": [
              "bun_apache           0\n",
              "creatinine_apache    0\n",
              "dtype: int64"
            ]
          },
          "metadata": {},
          "execution_count": 34
        }
      ]
    },
    {
      "cell_type": "markdown",
      "source": [
        "### Age"
      ],
      "metadata": {
        "id": "fglwobypFbQ-"
      }
    },
    {
      "cell_type": "code",
      "source": [
        "print('Oldest individual in the dataset was of:', data['age'].max(), 'Years')\n",
        "print('Youngest individual in the dataset was of:', data['age'].min(), 'Years')\n",
        "print('Average age in the dataset:', data['age'].mean(), 'Years')"
      ],
      "metadata": {
        "colab": {
          "base_uri": "https://localhost:8080/"
        },
        "id": "L5aSGQn7FUGz",
        "outputId": "2ff8d154-f4c4-46bf-b4ba-bc31f802fdce"
      },
      "execution_count": null,
      "outputs": [
        {
          "output_type": "stream",
          "name": "stdout",
          "text": [
            "Oldest individual in the dataset was of: 89.0 Years\n",
            "Youngest individual in the dataset was of: 17.0 Years\n",
            "Average age in the dataset: 65.75272 Years\n"
          ]
        }
      ]
    },
    {
      "cell_type": "code",
      "source": [
        "from statistics import mode\n",
        "\n",
        "# Create a subset\n",
        "df_age = data[['age']]\n",
        "\n",
        "# Assigning differently imputed values to different columns\n",
        "df_age['Age_Mean'] = df_age['age'].fillna(df_age['age'].mean())\n",
        "df_age['Age_Median'] = df_age['age'].fillna(df_age['age'].median())\n",
        "df_age['Age_Mode'] = df_age['age'].fillna(mode(df_age['age']))\n",
        "\n",
        "# Obtain summary statistics\n",
        "df_age.describe().T[['mean', 'std', 'min', '50%', 'max']]"
      ],
      "metadata": {
        "colab": {
          "base_uri": "https://localhost:8080/",
          "height": 175
        },
        "id": "ZGuHuaqebhT_",
        "outputId": "f587ab8d-73ae-474d-f72c-f784999a5961"
      },
      "execution_count": null,
      "outputs": [
        {
          "output_type": "execute_result",
          "data": {
            "text/plain": [
              "                 mean        std   min   50%   max\n",
              "age         65.752724  13.868932  17.0  67.0  89.0\n",
              "Age_Mean    65.752716  13.625621  17.0  67.0  89.0\n",
              "Age_Median  65.796097  13.627537  17.0  67.0  89.0\n",
              "Age_Mode    65.796097  13.627537  17.0  67.0  89.0"
            ],
            "text/html": [
              "\n",
              "  <div id=\"df-63046e8d-83ba-4666-bc3a-685315a7ebb4\" class=\"colab-df-container\">\n",
              "    <div>\n",
              "<style scoped>\n",
              "    .dataframe tbody tr th:only-of-type {\n",
              "        vertical-align: middle;\n",
              "    }\n",
              "\n",
              "    .dataframe tbody tr th {\n",
              "        vertical-align: top;\n",
              "    }\n",
              "\n",
              "    .dataframe thead th {\n",
              "        text-align: right;\n",
              "    }\n",
              "</style>\n",
              "<table border=\"1\" class=\"dataframe\">\n",
              "  <thead>\n",
              "    <tr style=\"text-align: right;\">\n",
              "      <th></th>\n",
              "      <th>mean</th>\n",
              "      <th>std</th>\n",
              "      <th>min</th>\n",
              "      <th>50%</th>\n",
              "      <th>max</th>\n",
              "    </tr>\n",
              "  </thead>\n",
              "  <tbody>\n",
              "    <tr>\n",
              "      <th>age</th>\n",
              "      <td>65.752724</td>\n",
              "      <td>13.868932</td>\n",
              "      <td>17.0</td>\n",
              "      <td>67.0</td>\n",
              "      <td>89.0</td>\n",
              "    </tr>\n",
              "    <tr>\n",
              "      <th>Age_Mean</th>\n",
              "      <td>65.752716</td>\n",
              "      <td>13.625621</td>\n",
              "      <td>17.0</td>\n",
              "      <td>67.0</td>\n",
              "      <td>89.0</td>\n",
              "    </tr>\n",
              "    <tr>\n",
              "      <th>Age_Median</th>\n",
              "      <td>65.796097</td>\n",
              "      <td>13.627537</td>\n",
              "      <td>17.0</td>\n",
              "      <td>67.0</td>\n",
              "      <td>89.0</td>\n",
              "    </tr>\n",
              "    <tr>\n",
              "      <th>Age_Mode</th>\n",
              "      <td>65.796097</td>\n",
              "      <td>13.627537</td>\n",
              "      <td>17.0</td>\n",
              "      <td>67.0</td>\n",
              "      <td>89.0</td>\n",
              "    </tr>\n",
              "  </tbody>\n",
              "</table>\n",
              "</div>\n",
              "    <div class=\"colab-df-buttons\">\n",
              "\n",
              "  <div class=\"colab-df-container\">\n",
              "    <button class=\"colab-df-convert\" onclick=\"convertToInteractive('df-63046e8d-83ba-4666-bc3a-685315a7ebb4')\"\n",
              "            title=\"Convert this dataframe to an interactive table.\"\n",
              "            style=\"display:none;\">\n",
              "\n",
              "  <svg xmlns=\"http://www.w3.org/2000/svg\" height=\"24px\" viewBox=\"0 -960 960 960\">\n",
              "    <path d=\"M120-120v-720h720v720H120Zm60-500h600v-160H180v160Zm220 220h160v-160H400v160Zm0 220h160v-160H400v160ZM180-400h160v-160H180v160Zm440 0h160v-160H620v160ZM180-180h160v-160H180v160Zm440 0h160v-160H620v160Z\"/>\n",
              "  </svg>\n",
              "    </button>\n",
              "\n",
              "  <style>\n",
              "    .colab-df-container {\n",
              "      display:flex;\n",
              "      gap: 12px;\n",
              "    }\n",
              "\n",
              "    .colab-df-convert {\n",
              "      background-color: #E8F0FE;\n",
              "      border: none;\n",
              "      border-radius: 50%;\n",
              "      cursor: pointer;\n",
              "      display: none;\n",
              "      fill: #1967D2;\n",
              "      height: 32px;\n",
              "      padding: 0 0 0 0;\n",
              "      width: 32px;\n",
              "    }\n",
              "\n",
              "    .colab-df-convert:hover {\n",
              "      background-color: #E2EBFA;\n",
              "      box-shadow: 0px 1px 2px rgba(60, 64, 67, 0.3), 0px 1px 3px 1px rgba(60, 64, 67, 0.15);\n",
              "      fill: #174EA6;\n",
              "    }\n",
              "\n",
              "    .colab-df-buttons div {\n",
              "      margin-bottom: 4px;\n",
              "    }\n",
              "\n",
              "    [theme=dark] .colab-df-convert {\n",
              "      background-color: #3B4455;\n",
              "      fill: #D2E3FC;\n",
              "    }\n",
              "\n",
              "    [theme=dark] .colab-df-convert:hover {\n",
              "      background-color: #434B5C;\n",
              "      box-shadow: 0px 1px 3px 1px rgba(0, 0, 0, 0.15);\n",
              "      filter: drop-shadow(0px 1px 2px rgba(0, 0, 0, 0.3));\n",
              "      fill: #FFFFFF;\n",
              "    }\n",
              "  </style>\n",
              "\n",
              "    <script>\n",
              "      const buttonEl =\n",
              "        document.querySelector('#df-63046e8d-83ba-4666-bc3a-685315a7ebb4 button.colab-df-convert');\n",
              "      buttonEl.style.display =\n",
              "        google.colab.kernel.accessAllowed ? 'block' : 'none';\n",
              "\n",
              "      async function convertToInteractive(key) {\n",
              "        const element = document.querySelector('#df-63046e8d-83ba-4666-bc3a-685315a7ebb4');\n",
              "        const dataTable =\n",
              "          await google.colab.kernel.invokeFunction('convertToInteractive',\n",
              "                                                    [key], {});\n",
              "        if (!dataTable) return;\n",
              "\n",
              "        const docLinkHtml = 'Like what you see? Visit the ' +\n",
              "          '<a target=\"_blank\" href=https://colab.research.google.com/notebooks/data_table.ipynb>data table notebook</a>'\n",
              "          + ' to learn more about interactive tables.';\n",
              "        element.innerHTML = '';\n",
              "        dataTable['output_type'] = 'display_data';\n",
              "        await google.colab.output.renderOutput(dataTable, element);\n",
              "        const docLink = document.createElement('div');\n",
              "        docLink.innerHTML = docLinkHtml;\n",
              "        element.appendChild(docLink);\n",
              "      }\n",
              "    </script>\n",
              "  </div>\n",
              "\n",
              "\n",
              "<div id=\"df-dc9faec5-946e-4697-8263-72c8179baa69\">\n",
              "  <button class=\"colab-df-quickchart\" onclick=\"quickchart('df-dc9faec5-946e-4697-8263-72c8179baa69')\"\n",
              "            title=\"Suggest charts\"\n",
              "            style=\"display:none;\">\n",
              "\n",
              "<svg xmlns=\"http://www.w3.org/2000/svg\" height=\"24px\"viewBox=\"0 0 24 24\"\n",
              "     width=\"24px\">\n",
              "    <g>\n",
              "        <path d=\"M19 3H5c-1.1 0-2 .9-2 2v14c0 1.1.9 2 2 2h14c1.1 0 2-.9 2-2V5c0-1.1-.9-2-2-2zM9 17H7v-7h2v7zm4 0h-2V7h2v10zm4 0h-2v-4h2v4z\"/>\n",
              "    </g>\n",
              "</svg>\n",
              "  </button>\n",
              "\n",
              "<style>\n",
              "  .colab-df-quickchart {\n",
              "      --bg-color: #E8F0FE;\n",
              "      --fill-color: #1967D2;\n",
              "      --hover-bg-color: #E2EBFA;\n",
              "      --hover-fill-color: #174EA6;\n",
              "      --disabled-fill-color: #AAA;\n",
              "      --disabled-bg-color: #DDD;\n",
              "  }\n",
              "\n",
              "  [theme=dark] .colab-df-quickchart {\n",
              "      --bg-color: #3B4455;\n",
              "      --fill-color: #D2E3FC;\n",
              "      --hover-bg-color: #434B5C;\n",
              "      --hover-fill-color: #FFFFFF;\n",
              "      --disabled-bg-color: #3B4455;\n",
              "      --disabled-fill-color: #666;\n",
              "  }\n",
              "\n",
              "  .colab-df-quickchart {\n",
              "    background-color: var(--bg-color);\n",
              "    border: none;\n",
              "    border-radius: 50%;\n",
              "    cursor: pointer;\n",
              "    display: none;\n",
              "    fill: var(--fill-color);\n",
              "    height: 32px;\n",
              "    padding: 0;\n",
              "    width: 32px;\n",
              "  }\n",
              "\n",
              "  .colab-df-quickchart:hover {\n",
              "    background-color: var(--hover-bg-color);\n",
              "    box-shadow: 0 1px 2px rgba(60, 64, 67, 0.3), 0 1px 3px 1px rgba(60, 64, 67, 0.15);\n",
              "    fill: var(--button-hover-fill-color);\n",
              "  }\n",
              "\n",
              "  .colab-df-quickchart-complete:disabled,\n",
              "  .colab-df-quickchart-complete:disabled:hover {\n",
              "    background-color: var(--disabled-bg-color);\n",
              "    fill: var(--disabled-fill-color);\n",
              "    box-shadow: none;\n",
              "  }\n",
              "\n",
              "  .colab-df-spinner {\n",
              "    border: 2px solid var(--fill-color);\n",
              "    border-color: transparent;\n",
              "    border-bottom-color: var(--fill-color);\n",
              "    animation:\n",
              "      spin 1s steps(1) infinite;\n",
              "  }\n",
              "\n",
              "  @keyframes spin {\n",
              "    0% {\n",
              "      border-color: transparent;\n",
              "      border-bottom-color: var(--fill-color);\n",
              "      border-left-color: var(--fill-color);\n",
              "    }\n",
              "    20% {\n",
              "      border-color: transparent;\n",
              "      border-left-color: var(--fill-color);\n",
              "      border-top-color: var(--fill-color);\n",
              "    }\n",
              "    30% {\n",
              "      border-color: transparent;\n",
              "      border-left-color: var(--fill-color);\n",
              "      border-top-color: var(--fill-color);\n",
              "      border-right-color: var(--fill-color);\n",
              "    }\n",
              "    40% {\n",
              "      border-color: transparent;\n",
              "      border-right-color: var(--fill-color);\n",
              "      border-top-color: var(--fill-color);\n",
              "    }\n",
              "    60% {\n",
              "      border-color: transparent;\n",
              "      border-right-color: var(--fill-color);\n",
              "    }\n",
              "    80% {\n",
              "      border-color: transparent;\n",
              "      border-right-color: var(--fill-color);\n",
              "      border-bottom-color: var(--fill-color);\n",
              "    }\n",
              "    90% {\n",
              "      border-color: transparent;\n",
              "      border-bottom-color: var(--fill-color);\n",
              "    }\n",
              "  }\n",
              "</style>\n",
              "\n",
              "  <script>\n",
              "    async function quickchart(key) {\n",
              "      const quickchartButtonEl =\n",
              "        document.querySelector('#' + key + ' button');\n",
              "      quickchartButtonEl.disabled = true;  // To prevent multiple clicks.\n",
              "      quickchartButtonEl.classList.add('colab-df-spinner');\n",
              "      try {\n",
              "        const charts = await google.colab.kernel.invokeFunction(\n",
              "            'suggestCharts', [key], {});\n",
              "      } catch (error) {\n",
              "        console.error('Error during call to suggestCharts:', error);\n",
              "      }\n",
              "      quickchartButtonEl.classList.remove('colab-df-spinner');\n",
              "      quickchartButtonEl.classList.add('colab-df-quickchart-complete');\n",
              "    }\n",
              "    (() => {\n",
              "      let quickchartButtonEl =\n",
              "        document.querySelector('#df-dc9faec5-946e-4697-8263-72c8179baa69 button');\n",
              "      quickchartButtonEl.style.display =\n",
              "        google.colab.kernel.accessAllowed ? 'block' : 'none';\n",
              "    })();\n",
              "  </script>\n",
              "</div>\n",
              "    </div>\n",
              "  </div>\n"
            ]
          },
          "metadata": {},
          "execution_count": 37
        }
      ]
    },
    {
      "cell_type": "code",
      "source": [
        "# Create a figure and a set of subplots\n",
        "plt.figure(figsize=(10, 6))\n",
        "\n",
        "# Plot density plots for each age column\n",
        "sns.kdeplot(df_age['age'], label='Age Original')\n",
        "sns.kdeplot(df_age['Age_Mean'], label='Mean Imputed')\n",
        "sns.kdeplot(df_age['Age_Median'], label='Median Imputed')\n",
        "sns.kdeplot(df_age['Age_Mode'], label='Mode Imputed')\n",
        "\n",
        "# Add titles and labels\n",
        "plt.title('Density Plot of Age with Different Imputation Methods')\n",
        "plt.xlabel('Age')\n",
        "plt.ylabel('Density')\n",
        "\n",
        "# Show legend\n",
        "plt.legend()\n",
        "\n",
        "# Display the plot\n",
        "plt.show()"
      ],
      "metadata": {
        "colab": {
          "base_uri": "https://localhost:8080/",
          "height": 459
        },
        "id": "ZlX8QYmDcTLo",
        "outputId": "0b590c5d-acda-4250-e16d-c73c446be2dd"
      },
      "execution_count": null,
      "outputs": [
        {
          "output_type": "display_data",
          "data": {
            "text/plain": [
              "<Figure size 1000x600 with 1 Axes>"
            ],
            "image/png": "[encoded data removed]"
          },
          "metadata": {}
        }
      ]
    },
    {
      "cell_type": "markdown",
      "source": [
        "Try to impute Age by KNN imputer"
      ],
      "metadata": {
        "id": "TdEW_Pro3YZM"
      }
    },
    {
      "cell_type": "code",
      "source": [
        "from sklearn.impute import KNNImputer\n",
        "# Select only columns that is helpful in KNN imputation for age\n",
        "age_cols = [\"age\", \"bmi\", \"apache_3j_diagnosis\", \"arf_apache\",\n",
        "            \"bun_apache\", \"creatinine_apache\"]\n",
        "df_age_cols = data[age_cols]\n",
        "\n",
        "# Initialize the KNNImputer\n",
        "imputer = KNNImputer(n_neighbors=5)  # You can adjust the number of neighbors\n",
        "\n",
        "# Fit and transform the dataset\n",
        "df_imputed_age = imputer.fit_transform(df_age_cols)\n",
        "\n",
        "# Convert the imputed data back to a DataFrame\n",
        "df_imputed_age = pd.DataFrame(df_imputed_age, columns=df_age_cols.columns)"
      ],
      "metadata": {
        "id": "aM8guEbQ3Ucn"
      },
      "execution_count": null,
      "outputs": []
    },
    {
      "cell_type": "code",
      "source": [
        "# Plot density plot for the imputed 'Age' column\n",
        "sns.kdeplot(df_age['age'], label='Age Original')\n",
        "sns.kdeplot(df_imputed_age['age'], label='Age (KNN Imputed)')\n",
        "\n",
        "# Add titles and labels\n",
        "plt.title('Density Plot of Age After KNN Imputation')\n",
        "plt.xlabel('Age')\n",
        "plt.ylabel('Density')\n",
        "\n",
        "# Display the plot\n",
        "plt.show()"
      ],
      "metadata": {
        "colab": {
          "base_uri": "https://localhost:8080/",
          "height": 472
        },
        "id": "Ai_xZ2cX4onX",
        "outputId": "fc7aecdb-3d8b-4b3d-f266-159c8c86a5df"
      },
      "execution_count": null,
      "outputs": [
        {
          "output_type": "display_data",
          "data": {
            "text/plain": [
              "<Figure size 640x480 with 1 Axes>"
            ],
            "image/png": "[encoded data removed]"
          },
          "metadata": {}
        }
      ]
    },
    {
      "cell_type": "code",
      "source": [
        "# Replace the 'age' column in the original dataset with the KNN imputed Age\n",
        "data['age'] = df_imputed_age['age']"
      ],
      "metadata": {
        "id": "lrgbyB2Y43E3"
      },
      "execution_count": null,
      "outputs": []
    },
    {
      "cell_type": "code",
      "source": [
        "plt.figure(figsize=(6, 5))\n",
        "sns.violinplot(x=\"gender\", y=\"age\", hue=\"hospital_death\",\n",
        "               data=data, split=True, palette=['#1c3a73', '#7cb1c2'])\n",
        "plt.title('Pclass and Age vs Survived')\n",
        "plt.yticks(range(0, 110, 10))\n",
        "plt.show()"
      ],
      "metadata": {
        "colab": {
          "base_uri": "https://localhost:8080/",
          "height": 487
        },
        "id": "TG5Z0uVDF2CQ",
        "outputId": "144311de-9871-41ca-a0be-27397aa91d9b"
      },
      "execution_count": null,
      "outputs": [
        {
          "output_type": "display_data",
          "data": {
            "text/plain": [
              "<Figure size 600x500 with 1 Axes>"
            ],
            "image/png": "[encoded data removed]"
          },
          "metadata": {}
        }
      ]
    },
    {
      "cell_type": "markdown",
      "source": [
        "## Feature Selection by Variance Threshold"
      ],
      "metadata": {
        "id": "3q_gjBrHdaKC"
      }
    },
    {
      "cell_type": "code",
      "source": [
        "from sklearn.feature_selection import VarianceThreshold\n",
        "\n",
        "numerical_cols = data.select_dtypes(include=['int8', 'float32', 'float64']).columns\n",
        "df_numerical = data[numerical_cols]\n",
        "df_numerical.drop(['hospital_death','age','bmi'], axis = 1, inplace = True)\n",
        "\n",
        "# Removing both constant and quasi-constant\n",
        "var_thr = VarianceThreshold(threshold = 0.25)\n",
        "var_thr.fit(df_numerical)\n",
        "\n",
        "var_thr.get_support()"
      ],
      "metadata": {
        "colab": {
          "base_uri": "https://localhost:8080/"
        },
        "id": "YEpTDEGRsmOp",
        "outputId": "e376880f-382c-4fd9-de36-fb62d8e33c92"
      },
      "execution_count": null,
      "outputs": [
        {
          "output_type": "execute_result",
          "data": {
            "text/plain": [
              "array([False,  True,  True, False, False,  True,  True,  True,  True,\n",
              "       False,  True,  True,  True,  True, False,  True,  True,  True,\n",
              "        True,  True, False,  True,  True,  True,  True,  True,  True,\n",
              "        True,  True,  True,  True,  True,  True,  True,  True,  True,\n",
              "        True,  True,  True,  True,  True,  True,  True,  True,  True,\n",
              "        True,  True,  True,  True,  True,  True,  True,  True,  True,\n",
              "        True,  True,  True,  True,  True,  True,  True,  True,  True,\n",
              "        True,  True,  True,  True,  True,  True,  True,  True,  True,\n",
              "        True,  True,  True,  True,  True,  True,  True,  True,  True,\n",
              "        True,  True,  True,  True,  True,  True,  True,  True,  True,\n",
              "        True,  True,  True,  True,  True,  True, False, False, False,\n",
              "       False, False, False, False, False])"
            ]
          },
          "metadata": {},
          "execution_count": 46
        }
      ]
    },
    {
      "cell_type": "markdown",
      "source": [
        "OUTPUT above:\n",
        "*   True: High Variance\n",
        "*   False: Low Variance\n"
      ],
      "metadata": {
        "id": "3CmlJs6oxyBn"
      }
    },
    {
      "cell_type": "code",
      "source": [
        "concol = [column for column in df_numerical.columns\n",
        "          if column not in df_numerical.columns[var_thr.get_support()]]\n",
        "\n",
        "# Print column names with low variance\n",
        "# We will drop them from the data set\n",
        "for features in concol:\n",
        "    print(features)"
      ],
      "metadata": {
        "colab": {
          "base_uri": "https://localhost:8080/"
        },
        "id": "mWpbgKrxtK1c",
        "outputId": "b181d7b0-ec02-4bf0-ed7d-06d6161b7feb"
      },
      "execution_count": null,
      "outputs": [
        {
          "output_type": "stream",
          "name": "stdout",
          "text": [
            "elective_surgery\n",
            "apache_post_operative\n",
            "arf_apache\n",
            "gcs_unable_apache\n",
            "intubated_apache\n",
            "ventilated_apache\n",
            "aids\n",
            "cirrhosis\n",
            "diabetes_mellitus\n",
            "hepatic_failure\n",
            "immunosuppression\n",
            "leukemia\n",
            "lymphoma\n",
            "solid_tumor_with_metastasis\n"
          ]
        }
      ]
    },
    {
      "cell_type": "code",
      "source": [
        "selected_features = ['hospital_death','age','bmi', 'gender', 'ethnicity',\n",
        "                     'icu_stay_type','icu_type']+ df_numerical.columns[var_thr.get_support()].tolist()\n",
        "data_clean = data[selected_features]"
      ],
      "metadata": {
        "id": "1XKQ16Q2ydPh"
      },
      "execution_count": null,
      "outputs": []
    },
    {
      "cell_type": "code",
      "source": [
        "data_clean.shape"
      ],
      "metadata": {
        "colab": {
          "base_uri": "https://localhost:8080/"
        },
        "id": "hq7uyGmz0-rp",
        "outputId": "ee771f1e-b3e8-4c0e-d6a2-556a2588c853"
      },
      "execution_count": null,
      "outputs": [
        {
          "output_type": "execute_result",
          "data": {
            "text/plain": [
              "(29990, 97)"
            ]
          },
          "metadata": {},
          "execution_count": 49
        }
      ]
    },
    {
      "cell_type": "code",
      "source": [
        "len(selected_features)"
      ],
      "metadata": {
        "colab": {
          "base_uri": "https://localhost:8080/"
        },
        "id": "yD2CJCiF1QCm",
        "outputId": "dfb2c9e1-49ae-49f5-a252-b7e84944182e"
      },
      "execution_count": null,
      "outputs": [
        {
          "output_type": "execute_result",
          "data": {
            "text/plain": [
              "97"
            ]
          },
          "metadata": {},
          "execution_count": 50
        }
      ]
    },
    {
      "cell_type": "code",
      "source": [
        "data_clean['gender'].replace({'F' : 1, 'M' : 0}, inplace=True)"
      ],
      "metadata": {
        "id": "Ln9RLQtAw8ov"
      },
      "execution_count": null,
      "outputs": []
    },
    {
      "cell_type": "markdown",
      "source": [
        "## Multicollinearity Check"
      ],
      "metadata": {
        "id": "ARb9tbUg9MvT"
      }
    },
    {
      "cell_type": "markdown",
      "source": [
        "## Data Transformation"
      ],
      "metadata": {
        "id": "k8t6fp0KUYdz"
      }
    },
    {
      "cell_type": "code",
      "source": [
        "from sklearn.preprocessing import LabelEncoder\n",
        "import category_encoders as ce\n",
        "\n",
        "# Define a function to preprocess and transform input data\n",
        "def fit_transform(input_df):\n",
        "    # Initialize transformers and imputers\n",
        "    ethnicity_transformer = ce.TargetEncoder()\n",
        "    stayType_transformer = ce.TargetEncoder()\n",
        "    icuType_transformer = ce.TargetEncoder()\n",
        "\n",
        "    imputer = IterativeImputer(max_iter=10, random_state=0)\n",
        "    st_x = StandardScaler()\n",
        "\n",
        "    # Create a copy of the input DataFrame to avoid modifying the original data\n",
        "    df = input_df.copy()\n",
        "\n",
        "    # Encode 'ethnicity' column if it exists\n",
        "    if 'ethnicity' in df.columns:\n",
        "        df['ethnicity'] = ethnicity_transformer.fit_transform(\n",
        "            df['ethnicity'].to_numpy().reshape(-1, 1), df['hospital_death'].to_numpy()\n",
        "        )\n",
        "\n",
        "    # Encode 'icu_stay_type' column if it exists\n",
        "    if 'icu_stay_type' in df.columns:\n",
        "        df['icu_stay_type'] = stayType_transformer.fit_transform(\n",
        "            df['icu_stay_type'].to_numpy().reshape(-1, 1), df['hospital_death'].to_numpy()\n",
        "        )\n",
        "\n",
        "    # Encode 'icu_type' column if it exists\n",
        "    if 'icu_type' in df.columns:\n",
        "        df['icu_type'] = icuType_transformer.fit_transform(\n",
        "            df['icu_type'].to_numpy().reshape(-1, 1), df['hospital_death'].to_numpy()\n",
        "        )\n",
        "\n",
        "    # Perform imputation and standardization on the feature matrix\n",
        "    X = imputer.fit_transform(df.drop('hospital_death', axis=1).to_numpy())\n",
        "    X = st_x.fit_transform(X)\n",
        "\n",
        "    # Extract the target variable 'Class/ASD'\n",
        "    Y = df['hospital_death'].to_numpy()\n",
        "\n",
        "    # Return the preprocessed feature matrix, target variable, and transformers/imputers\n",
        "    return X, Y, ethnicity_transformer, stayType_transformer, icuType_transformer, imputer, st_x\n",
        "\n",
        "# Define a function to transform new data using pre-trained transformers and imputers\n",
        "def transform(input_df, ethnicity_transformer, stayType_transformer,\n",
        "              icuType_transformer, imputer, st_x):\n",
        "    # Create a copy of the input DataFrame to avoid modifying the original data\n",
        "    df = input_df.copy()\n",
        "\n",
        "    # Encode 'ethnicity' column if it exists\n",
        "    if 'ethnicity' in df.columns:\n",
        "        df['ethnicity'] = ethnicity_transformer.transform(\n",
        "            df['ethnicity'].to_numpy().reshape(-1, 1)\n",
        "        )\n",
        "\n",
        "    # Encode 'icu_stay_type' column if it exists\n",
        "    if 'icu_stay_type' in df.columns:\n",
        "        df['icu_stay_type'] = stayType_transformer.transform(\n",
        "            df['icu_stay_type'].to_numpy().reshape(-1, 1)\n",
        "        )\n",
        "\n",
        "     # Encode 'icu_type' column if it exists\n",
        "    if 'icu_type' in df.columns:\n",
        "        df['icu_type'] = icuType_transformer.transform(\n",
        "            df['icu_type'].to_numpy().reshape(-1, 1)\n",
        "        )\n",
        "\n",
        "    # Perform imputation and standardization on the feature matrix\n",
        "    X = imputer.transform(df.drop('hospital_death', axis=1).to_numpy())\n",
        "    X = st_x.transform(X)\n",
        "\n",
        "    # Return the transformed feature matrix\n",
        "    return X"
      ],
      "metadata": {
        "id": "V7BBccKnUYLZ"
      },
      "execution_count": null,
      "outputs": []
    },
    {
      "cell_type": "code",
      "source": [
        "# Define a function to compute various scores for model evaluation\n",
        "def get_scores(Y_pred, Y):\n",
        "    # Calculate confusion matrix, classification report, ROC AUC, and accuracy\n",
        "    conf_matrix = confusion_matrix(Y_pred, Y)\n",
        "    class_report = classification_report(Y_pred, Y)\n",
        "    auc = roc_auc_score(Y_pred, Y)\n",
        "    acc = accuracy_score(Y_pred, Y)\n",
        "\n",
        "    # Return the computed scores\n",
        "    return conf_matrix, class_report, auc, acc\n",
        "\n",
        "# Define a function to print the computed scores\n",
        "def print_scores(conf_matrix, class_report, auc, acc):\n",
        "    print('AUC : ', auc)\n",
        "    print('Accuracy : ', acc)\n",
        "    print(\"Confusion Matrix:\")\n",
        "    print(conf_matrix)\n",
        "    print(\"\\nClassification Report:\")\n",
        "    print(class_report)\n"
      ],
      "metadata": {
        "id": "VIixLiKoW7JD"
      },
      "execution_count": null,
      "outputs": []
    },
    {
      "cell_type": "markdown",
      "source": [
        "Feature Selection\n",
        "\n",
        "[Determining which variables (demographics, vitals, lab results, APACHE scores, comorbidities) to include in the model.]\n",
        "\n",
        "Vasoactive management considerations and rationale:\n",
        "1. blood pressure\n",
        "2. beats per minute\n",
        "3. cardiogenic shock\n",
        "4. heart rate\n",
        "5. diastolic pressure\n",
        "6. pulmonary artery catheter\n",
        "7. pulmonary vascular resistance\n",
        "8. systemic vascular resistance\n"
      ],
      "metadata": {
        "id": "0oU72_8RyoC_"
      }
    },
    {
      "cell_type": "code",
      "source": [
        "# create list of numerical, categorical, multinomial features\n",
        "target_column = 'hospital_death'\n",
        "# numerical_columns = ['d1_diasbp_invasive_max', 'd1_diasbp_invasive_min', 'd1_diasbp_max', 'd1_diasbp_min', 'd1_diasbp_noninvasive_max', 'd1_diasbp_noninvasive_min',\n",
        "#                     'd1_heartrate_max', 'd1_heartrate_min', 'd1_mbp_invasive_max', 'd1_mbp_invasive_min', 'd1_mbp_max', 'd1_mbp_min', 'd1_mbp_noninvasive_max',\n",
        "#                     'd1_mbp_noninvasive_min', 'd1_sysbp_invasive_max', 'd1_sysbp_invasive_min', 'd1_sysbp_max', 'd1_sysbp_min', 'd1_sysbp_noninvasive_max',\n",
        "#                     'd1_sysbp_noninvasive_min']"
      ],
      "metadata": {
        "id": "_3q1r_hLyr_8"
      },
      "execution_count": null,
      "outputs": []
    },
    {
      "cell_type": "markdown",
      "source": [
        "# Model Building"
      ],
      "metadata": {
        "id": "xO7tvB0zysdC"
      }
    },
    {
      "cell_type": "markdown",
      "source": [
        "## Logistic Regression"
      ],
      "metadata": {
        "id": "LL0oQr5s5qYD"
      }
    },
    {
      "cell_type": "code",
      "source": [
        "data_clean.describe()"
      ],
      "metadata": {
        "colab": {
          "base_uri": "https://localhost:8080/",
          "height": 350
        },
        "id": "YUiFljJX8ZIf",
        "outputId": "cddb79ea-031c-4931-eb5c-d4e690ca6a39"
      },
      "execution_count": null,
      "outputs": [
        {
          "output_type": "execute_result",
          "data": {
            "text/plain": [
              "       hospital_death           age           bmi  pre_icu_los_days  \\\n",
              "count    29990.000000  10163.000000  28826.000000      29990.000000   \n",
              "mean         0.079560     65.868324     29.787386          0.919087   \n",
              "std          0.270615     13.687521      7.645669          2.321076   \n",
              "min          0.000000     18.000000     14.844926         -0.250000   \n",
              "25%          0.000000     57.000000     24.732306          0.043056   \n",
              "50%          0.000000     67.000000     28.544155          0.163194   \n",
              "75%          0.000000     76.000000     33.387566          0.519444   \n",
              "max          1.000000     89.000000     67.814987         63.044445   \n",
              "\n",
              "       apache_3j_diagnosis    bun_apache  creatinine_apache  gcs_eyes_apache  \\\n",
              "count         29990.000000  29990.000000       29990.000000     29612.000000   \n",
              "mean            440.562317     24.320250           1.468432         3.552107   \n",
              "std             505.994995     15.312982           1.273735         0.943448   \n",
              "min             101.010002      4.000000           0.300000         1.000000   \n",
              "25%             106.010002     15.000000           0.830000         4.000000   \n",
              "50%             108.010002     23.000000           1.220000         4.000000   \n",
              "75%            1205.010010     25.000000           1.468432         4.000000   \n",
              "max            1212.030029    127.000000          11.180000         4.000000   \n",
              "\n",
              "       gcs_motor_apache  gcs_verbal_apache  ...  d1_potassium_max  \\\n",
              "count      29612.000000       29612.000000  ...      26852.000000   \n",
              "mean           5.475686           4.168310  ...          4.330585   \n",
              "std            1.404960           1.526163  ...          0.641841   \n",
              "min            1.000000           1.000000  ...          2.800000   \n",
              "25%            6.000000           4.000000  ...          3.900000   \n",
              "50%            6.000000           5.000000  ...          4.200000   \n",
              "75%            6.000000           5.000000  ...          4.600000   \n",
              "max            6.000000           5.000000  ...          7.000000   \n",
              "\n",
              "       d1_potassium_min  d1_sodium_max  d1_sodium_min    d1_wbc_max  \\\n",
              "count      26852.000000   26153.000000   26153.000000  25387.000000   \n",
              "mean           3.951115     139.221786     137.757416     12.337814   \n",
              "std            0.542198       4.346018       4.202862      6.154343   \n",
              "min            2.400000     123.000000     117.000000      1.200000   \n",
              "25%            3.600000     137.000000     136.000000      8.200000   \n",
              "50%            3.900000     139.000000     138.000000     11.000000   \n",
              "75%            4.300000     142.000000     140.000000     14.900000   \n",
              "max            5.800000     158.000000     153.000000     46.080002   \n",
              "\n",
              "         d1_wbc_min  h1_glucose_max  h1_glucose_min    h1_inr_max  \\\n",
              "count  25387.000000    14115.000000    14115.000000  12587.000000   \n",
              "mean      10.781350      160.551376      150.312439      1.562442   \n",
              "std        4.933344       72.266594       69.625412      0.876430   \n",
              "min        0.900000       59.000000       42.000000      0.900000   \n",
              "25%        7.500000      116.000000      108.000000      1.100000   \n",
              "50%        9.900000      142.000000      132.000000      1.300000   \n",
              "75%       12.900000      182.000000      169.000000      1.600000   \n",
              "max       40.897999      695.044983      670.000000      7.756000   \n",
              "\n",
              "         h1_inr_min  \n",
              "count  12587.000000  \n",
              "mean       1.442561  \n",
              "std        0.682151  \n",
              "min        0.900000  \n",
              "25%        1.100000  \n",
              "50%        1.210000  \n",
              "75%        1.500000  \n",
              "max        6.127000  \n",
              "\n",
              "[8 rows x 93 columns]"
            ],
            "text/html": [
              "\n",
              "  <div id=\"df-b92ffe57-9198-42e7-a45e-4323bb4a0726\" class=\"colab-df-container\">\n",
              "    <div>\n",
              "<style scoped>\n",
              "    .dataframe tbody tr th:only-of-type {\n",
              "        vertical-align: middle;\n",
              "    }\n",
              "\n",
              "    .dataframe tbody tr th {\n",
              "        vertical-align: top;\n",
              "    }\n",
              "\n",
              "    .dataframe thead th {\n",
              "        text-align: right;\n",
              "    }\n",
              "</style>\n",
              "<table border=\"1\" class=\"dataframe\">\n",
              "  <thead>\n",
              "    <tr style=\"text-align: right;\">\n",
              "      <th></th>\n",
              "      <th>hospital_death</th>\n",
              "      <th>age</th>\n",
              "      <th>bmi</th>\n",
              "      <th>pre_icu_los_days</th>\n",
              "      <th>apache_3j_diagnosis</th>\n",
              "      <th>bun_apache</th>\n",
              "      <th>creatinine_apache</th>\n",
              "      <th>gcs_eyes_apache</th>\n",
              "      <th>gcs_motor_apache</th>\n",
              "      <th>gcs_verbal_apache</th>\n",
              "      <th>...</th>\n",
              "      <th>d1_potassium_max</th>\n",
              "      <th>d1_potassium_min</th>\n",
              "      <th>d1_sodium_max</th>\n",
              "      <th>d1_sodium_min</th>\n",
              "      <th>d1_wbc_max</th>\n",
              "      <th>d1_wbc_min</th>\n",
              "      <th>h1_glucose_max</th>\n",
              "      <th>h1_glucose_min</th>\n",
              "      <th>h1_inr_max</th>\n",
              "      <th>h1_inr_min</th>\n",
              "    </tr>\n",
              "  </thead>\n",
              "  <tbody>\n",
              "    <tr>\n",
              "      <th>count</th>\n",
              "      <td>29990.000000</td>\n",
              "      <td>10163.000000</td>\n",
              "      <td>28826.000000</td>\n",
              "      <td>29990.000000</td>\n",
              "      <td>29990.000000</td>\n",
              "      <td>29990.000000</td>\n",
              "      <td>29990.000000</td>\n",
              "      <td>29612.000000</td>\n",
              "      <td>29612.000000</td>\n",
              "      <td>29612.000000</td>\n",
              "      <td>...</td>\n",
              "      <td>26852.000000</td>\n",
              "      <td>26852.000000</td>\n",
              "      <td>26153.000000</td>\n",
              "      <td>26153.000000</td>\n",
              "      <td>25387.000000</td>\n",
              "      <td>25387.000000</td>\n",
              "      <td>14115.000000</td>\n",
              "      <td>14115.000000</td>\n",
              "      <td>12587.000000</td>\n",
              "      <td>12587.000000</td>\n",
              "    </tr>\n",
              "    <tr>\n",
              "      <th>mean</th>\n",
              "      <td>0.079560</td>\n",
              "      <td>65.868324</td>\n",
              "      <td>29.787386</td>\n",
              "      <td>0.919087</td>\n",
              "      <td>440.562317</td>\n",
              "      <td>24.320250</td>\n",
              "      <td>1.468432</td>\n",
              "      <td>3.552107</td>\n",
              "      <td>5.475686</td>\n",
              "      <td>4.168310</td>\n",
              "      <td>...</td>\n",
              "      <td>4.330585</td>\n",
              "      <td>3.951115</td>\n",
              "      <td>139.221786</td>\n",
              "      <td>137.757416</td>\n",
              "      <td>12.337814</td>\n",
              "      <td>10.781350</td>\n",
              "      <td>160.551376</td>\n",
              "      <td>150.312439</td>\n",
              "      <td>1.562442</td>\n",
              "      <td>1.442561</td>\n",
              "    </tr>\n",
              "    <tr>\n",
              "      <th>std</th>\n",
              "      <td>0.270615</td>\n",
              "      <td>13.687521</td>\n",
              "      <td>7.645669</td>\n",
              "      <td>2.321076</td>\n",
              "      <td>505.994995</td>\n",
              "      <td>15.312982</td>\n",
              "      <td>1.273735</td>\n",
              "      <td>0.943448</td>\n",
              "      <td>1.404960</td>\n",
              "      <td>1.526163</td>\n",
              "      <td>...</td>\n",
              "      <td>0.641841</td>\n",
              "      <td>0.542198</td>\n",
              "      <td>4.346018</td>\n",
              "      <td>4.202862</td>\n",
              "      <td>6.154343</td>\n",
              "      <td>4.933344</td>\n",
              "      <td>72.266594</td>\n",
              "      <td>69.625412</td>\n",
              "      <td>0.876430</td>\n",
              "      <td>0.682151</td>\n",
              "    </tr>\n",
              "    <tr>\n",
              "      <th>min</th>\n",
              "      <td>0.000000</td>\n",
              "      <td>18.000000</td>\n",
              "      <td>14.844926</td>\n",
              "      <td>-0.250000</td>\n",
              "      <td>101.010002</td>\n",
              "      <td>4.000000</td>\n",
              "      <td>0.300000</td>\n",
              "      <td>1.000000</td>\n",
              "      <td>1.000000</td>\n",
              "      <td>1.000000</td>\n",
              "      <td>...</td>\n",
              "      <td>2.800000</td>\n",
              "      <td>2.400000</td>\n",
              "      <td>123.000000</td>\n",
              "      <td>117.000000</td>\n",
              "      <td>1.200000</td>\n",
              "      <td>0.900000</td>\n",
              "      <td>59.000000</td>\n",
              "      <td>42.000000</td>\n",
              "      <td>0.900000</td>\n",
              "      <td>0.900000</td>\n",
              "    </tr>\n",
              "    <tr>\n",
              "      <th>25%</th>\n",
              "      <td>0.000000</td>\n",
              "      <td>57.000000</td>\n",
              "      <td>24.732306</td>\n",
              "      <td>0.043056</td>\n",
              "      <td>106.010002</td>\n",
              "      <td>15.000000</td>\n",
              "      <td>0.830000</td>\n",
              "      <td>4.000000</td>\n",
              "      <td>6.000000</td>\n",
              "      <td>4.000000</td>\n",
              "      <td>...</td>\n",
              "      <td>3.900000</td>\n",
              "      <td>3.600000</td>\n",
              "      <td>137.000000</td>\n",
              "      <td>136.000000</td>\n",
              "      <td>8.200000</td>\n",
              "      <td>7.500000</td>\n",
              "      <td>116.000000</td>\n",
              "      <td>108.000000</td>\n",
              "      <td>1.100000</td>\n",
              "      <td>1.100000</td>\n",
              "    </tr>\n",
              "    <tr>\n",
              "      <th>50%</th>\n",
              "      <td>0.000000</td>\n",
              "      <td>67.000000</td>\n",
              "      <td>28.544155</td>\n",
              "      <td>0.163194</td>\n",
              "      <td>108.010002</td>\n",
              "      <td>23.000000</td>\n",
              "      <td>1.220000</td>\n",
              "      <td>4.000000</td>\n",
              "      <td>6.000000</td>\n",
              "      <td>5.000000</td>\n",
              "      <td>...</td>\n",
              "      <td>4.200000</td>\n",
              "      <td>3.900000</td>\n",
              "      <td>139.000000</td>\n",
              "      <td>138.000000</td>\n",
              "      <td>11.000000</td>\n",
              "      <td>9.900000</td>\n",
              "      <td>142.000000</td>\n",
              "      <td>132.000000</td>\n",
              "      <td>1.300000</td>\n",
              "      <td>1.210000</td>\n",
              "    </tr>\n",
              "    <tr>\n",
              "      <th>75%</th>\n",
              "      <td>0.000000</td>\n",
              "      <td>76.000000</td>\n",
              "      <td>33.387566</td>\n",
              "      <td>0.519444</td>\n",
              "      <td>1205.010010</td>\n",
              "      <td>25.000000</td>\n",
              "      <td>1.468432</td>\n",
              "      <td>4.000000</td>\n",
              "      <td>6.000000</td>\n",
              "      <td>5.000000</td>\n",
              "      <td>...</td>\n",
              "      <td>4.600000</td>\n",
              "      <td>4.300000</td>\n",
              "      <td>142.000000</td>\n",
              "      <td>140.000000</td>\n",
              "      <td>14.900000</td>\n",
              "      <td>12.900000</td>\n",
              "      <td>182.000000</td>\n",
              "      <td>169.000000</td>\n",
              "      <td>1.600000</td>\n",
              "      <td>1.500000</td>\n",
              "    </tr>\n",
              "    <tr>\n",
              "      <th>max</th>\n",
              "      <td>1.000000</td>\n",
              "      <td>89.000000</td>\n",
              "      <td>67.814987</td>\n",
              "      <td>63.044445</td>\n",
              "      <td>1212.030029</td>\n",
              "      <td>127.000000</td>\n",
              "      <td>11.180000</td>\n",
              "      <td>4.000000</td>\n",
              "      <td>6.000000</td>\n",
              "      <td>5.000000</td>\n",
              "      <td>...</td>\n",
              "      <td>7.000000</td>\n",
              "      <td>5.800000</td>\n",
              "      <td>158.000000</td>\n",
              "      <td>153.000000</td>\n",
              "      <td>46.080002</td>\n",
              "      <td>40.897999</td>\n",
              "      <td>695.044983</td>\n",
              "      <td>670.000000</td>\n",
              "      <td>7.756000</td>\n",
              "      <td>6.127000</td>\n",
              "    </tr>\n",
              "  </tbody>\n",
              "</table>\n",
              "<p>8 rows × 93 columns</p>\n",
              "</div>\n",
              "    <div class=\"colab-df-buttons\">\n",
              "\n",
              "  <div class=\"colab-df-container\">\n",
              "    <button class=\"colab-df-convert\" onclick=\"convertToInteractive('df-b92ffe57-9198-42e7-a45e-4323bb4a0726')\"\n",
              "            title=\"Convert this dataframe to an interactive table.\"\n",
              "            style=\"display:none;\">\n",
              "\n",
              "  <svg xmlns=\"http://www.w3.org/2000/svg\" height=\"24px\" viewBox=\"0 -960 960 960\">\n",
              "    <path d=\"M120-120v-720h720v720H120Zm60-500h600v-160H180v160Zm220 220h160v-160H400v160Zm0 220h160v-160H400v160ZM180-400h160v-160H180v160Zm440 0h160v-160H620v160ZM180-180h160v-160H180v160Zm440 0h160v-160H620v160Z\"/>\n",
              "  </svg>\n",
              "    </button>\n",
              "\n",
              "  <style>\n",
              "    .colab-df-container {\n",
              "      display:flex;\n",
              "      gap: 12px;\n",
              "    }\n",
              "\n",
              "    .colab-df-convert {\n",
              "      background-color: #E8F0FE;\n",
              "      border: none;\n",
              "      border-radius: 50%;\n",
              "      cursor: pointer;\n",
              "      display: none;\n",
              "      fill: #1967D2;\n",
              "      height: 32px;\n",
              "      padding: 0 0 0 0;\n",
              "      width: 32px;\n",
              "    }\n",
              "\n",
              "    .colab-df-convert:hover {\n",
              "      background-color: #E2EBFA;\n",
              "      box-shadow: 0px 1px 2px rgba(60, 64, 67, 0.3), 0px 1px 3px 1px rgba(60, 64, 67, 0.15);\n",
              "      fill: #174EA6;\n",
              "    }\n",
              "\n",
              "    .colab-df-buttons div {\n",
              "      margin-bottom: 4px;\n",
              "    }\n",
              "\n",
              "    [theme=dark] .colab-df-convert {\n",
              "      background-color: #3B4455;\n",
              "      fill: #D2E3FC;\n",
              "    }\n",
              "\n",
              "    [theme=dark] .colab-df-convert:hover {\n",
              "      background-color: #434B5C;\n",
              "      box-shadow: 0px 1px 3px 1px rgba(0, 0, 0, 0.15);\n",
              "      filter: drop-shadow(0px 1px 2px rgba(0, 0, 0, 0.3));\n",
              "      fill: #FFFFFF;\n",
              "    }\n",
              "  </style>\n",
              "\n",
              "    <script>\n",
              "      const buttonEl =\n",
              "        document.querySelector('#df-b92ffe57-9198-42e7-a45e-4323bb4a0726 button.colab-df-convert');\n",
              "      buttonEl.style.display =\n",
              "        google.colab.kernel.accessAllowed ? 'block' : 'none';\n",
              "\n",
              "      async function convertToInteractive(key) {\n",
              "        const element = document.querySelector('#df-b92ffe57-9198-42e7-a45e-4323bb4a0726');\n",
              "        const dataTable =\n",
              "          await google.colab.kernel.invokeFunction('convertToInteractive',\n",
              "                                                    [key], {});\n",
              "        if (!dataTable) return;\n",
              "\n",
              "        const docLinkHtml = 'Like what you see? Visit the ' +\n",
              "          '<a target=\"_blank\" href=https://colab.research.google.com/notebooks/data_table.ipynb>data table notebook</a>'\n",
              "          + ' to learn more about interactive tables.';\n",
              "        element.innerHTML = '';\n",
              "        dataTable['output_type'] = 'display_data';\n",
              "        await google.colab.output.renderOutput(dataTable, element);\n",
              "        const docLink = document.createElement('div');\n",
              "        docLink.innerHTML = docLinkHtml;\n",
              "        element.appendChild(docLink);\n",
              "      }\n",
              "    </script>\n",
              "  </div>\n",
              "\n",
              "\n",
              "<div id=\"df-bbd6a11c-bfde-4ea6-89c6-e97f17a1ff5b\">\n",
              "  <button class=\"colab-df-quickchart\" onclick=\"quickchart('df-bbd6a11c-bfde-4ea6-89c6-e97f17a1ff5b')\"\n",
              "            title=\"Suggest charts\"\n",
              "            style=\"display:none;\">\n",
              "\n",
              "<svg xmlns=\"http://www.w3.org/2000/svg\" height=\"24px\"viewBox=\"0 0 24 24\"\n",
              "     width=\"24px\">\n",
              "    <g>\n",
              "        <path d=\"M19 3H5c-1.1 0-2 .9-2 2v14c0 1.1.9 2 2 2h14c1.1 0 2-.9 2-2V5c0-1.1-.9-2-2-2zM9 17H7v-7h2v7zm4 0h-2V7h2v10zm4 0h-2v-4h2v4z\"/>\n",
              "    </g>\n",
              "</svg>\n",
              "  </button>\n",
              "\n",
              "<style>\n",
              "  .colab-df-quickchart {\n",
              "      --bg-color: #E8F0FE;\n",
              "      --fill-color: #1967D2;\n",
              "      --hover-bg-color: #E2EBFA;\n",
              "      --hover-fill-color: #174EA6;\n",
              "      --disabled-fill-color: #AAA;\n",
              "      --disabled-bg-color: #DDD;\n",
              "  }\n",
              "\n",
              "  [theme=dark] .colab-df-quickchart {\n",
              "      --bg-color: #3B4455;\n",
              "      --fill-color: #D2E3FC;\n",
              "      --hover-bg-color: #434B5C;\n",
              "      --hover-fill-color: #FFFFFF;\n",
              "      --disabled-bg-color: #3B4455;\n",
              "      --disabled-fill-color: #666;\n",
              "  }\n",
              "\n",
              "  .colab-df-quickchart {\n",
              "    background-color: var(--bg-color);\n",
              "    border: none;\n",
              "    border-radius: 50%;\n",
              "    cursor: pointer;\n",
              "    display: none;\n",
              "    fill: var(--fill-color);\n",
              "    height: 32px;\n",
              "    padding: 0;\n",
              "    width: 32px;\n",
              "  }\n",
              "\n",
              "  .colab-df-quickchart:hover {\n",
              "    background-color: var(--hover-bg-color);\n",
              "    box-shadow: 0 1px 2px rgba(60, 64, 67, 0.3), 0 1px 3px 1px rgba(60, 64, 67, 0.15);\n",
              "    fill: var(--button-hover-fill-color);\n",
              "  }\n",
              "\n",
              "  .colab-df-quickchart-complete:disabled,\n",
              "  .colab-df-quickchart-complete:disabled:hover {\n",
              "    background-color: var(--disabled-bg-color);\n",
              "    fill: var(--disabled-fill-color);\n",
              "    box-shadow: none;\n",
              "  }\n",
              "\n",
              "  .colab-df-spinner {\n",
              "    border: 2px solid var(--fill-color);\n",
              "    border-color: transparent;\n",
              "    border-bottom-color: var(--fill-color);\n",
              "    animation:\n",
              "      spin 1s steps(1) infinite;\n",
              "  }\n",
              "\n",
              "  @keyframes spin {\n",
              "    0% {\n",
              "      border-color: transparent;\n",
              "      border-bottom-color: var(--fill-color);\n",
              "      border-left-color: var(--fill-color);\n",
              "    }\n",
              "    20% {\n",
              "      border-color: transparent;\n",
              "      border-left-color: var(--fill-color);\n",
              "      border-top-color: var(--fill-color);\n",
              "    }\n",
              "    30% {\n",
              "      border-color: transparent;\n",
              "      border-left-color: var(--fill-color);\n",
              "      border-top-color: var(--fill-color);\n",
              "      border-right-color: var(--fill-color);\n",
              "    }\n",
              "    40% {\n",
              "      border-color: transparent;\n",
              "      border-right-color: var(--fill-color);\n",
              "      border-top-color: var(--fill-color);\n",
              "    }\n",
              "    60% {\n",
              "      border-color: transparent;\n",
              "      border-right-color: var(--fill-color);\n",
              "    }\n",
              "    80% {\n",
              "      border-color: transparent;\n",
              "      border-right-color: var(--fill-color);\n",
              "      border-bottom-color: var(--fill-color);\n",
              "    }\n",
              "    90% {\n",
              "      border-color: transparent;\n",
              "      border-bottom-color: var(--fill-color);\n",
              "    }\n",
              "  }\n",
              "</style>\n",
              "\n",
              "  <script>\n",
              "    async function quickchart(key) {\n",
              "      const quickchartButtonEl =\n",
              "        document.querySelector('#' + key + ' button');\n",
              "      quickchartButtonEl.disabled = true;  // To prevent multiple clicks.\n",
              "      quickchartButtonEl.classList.add('colab-df-spinner');\n",
              "      try {\n",
              "        const charts = await google.colab.kernel.invokeFunction(\n",
              "            'suggestCharts', [key], {});\n",
              "      } catch (error) {\n",
              "        console.error('Error during call to suggestCharts:', error);\n",
              "      }\n",
              "      quickchartButtonEl.classList.remove('colab-df-spinner');\n",
              "      quickchartButtonEl.classList.add('colab-df-quickchart-complete');\n",
              "    }\n",
              "    (() => {\n",
              "      let quickchartButtonEl =\n",
              "        document.querySelector('#df-bbd6a11c-bfde-4ea6-89c6-e97f17a1ff5b button');\n",
              "      quickchartButtonEl.style.display =\n",
              "        google.colab.kernel.accessAllowed ? 'block' : 'none';\n",
              "    })();\n",
              "  </script>\n",
              "</div>\n",
              "    </div>\n",
              "  </div>\n"
            ]
          },
          "metadata": {},
          "execution_count": 56
        }
      ]
    },
    {
      "cell_type": "code",
      "source": [
        "from sklearn.linear_model import LogisticRegression\n",
        "\n",
        "# Splitting the dataset into training and test sets\n",
        "train = data_clean.sample(frac=0.7, random_state=10)  # 70% for training\n",
        "test = data_clean.drop(train.index)  # Remaining data for testing\n",
        "\n",
        "# Feature engineering and preprocessing on the training set\n",
        "X_train, Y_train, ethnicity_transformer, stayType_transformer, icuType_transformer, imputer, st_x = fit_transform(train)\n",
        "\n",
        "# Preprocess and transform the test set\n",
        "X_test = transform(test, ethnicity_transformer, stayType_transformer,\n",
        "                   icuType_transformer, imputer, st_x)\n",
        "Y_test = test['hospital_death'].to_numpy()\n",
        "\n",
        "# Initialize and train a logistic regression model\n",
        "model = LogisticRegression()\n",
        "model.fit(X_train, Y_train)\n",
        "\n",
        "# Make predictions on the test and training sets\n",
        "y_pred_test = model.predict(X_test)\n",
        "y_pred_train = model.predict(X_train)\n",
        "\n",
        "# Calculate evaluation metrics and scores for the test and training sets\n",
        "conf_matrix_test, class_report_test, auc_test, acc_test = get_scores(y_pred_test, Y_test)\n",
        "conf_matrix_train, class_report_train, auc_train, acc_train = get_scores(y_pred_train, Y_train)\n",
        "\n",
        "# Print scores and evaluation metrics for the training set\n",
        "print('======== Training Set ==========')\n",
        "print_scores(conf_matrix_train, class_report_train, auc_train, acc_train)\n",
        "\n",
        "# Print scores and evaluation metrics for the test set\n",
        "print('======== Test Set ==========')\n",
        "print_scores(conf_matrix_test, class_report_test, auc_test, acc_test)\n",
        "\n",
        "# Plot the ROC curve for the training set\n",
        "fpr, tpr, thresholds = roc_curve(y_pred_train, Y_train)\n",
        "roc_auc = auc(fpr, tpr)\n",
        "display = RocCurveDisplay(fpr=fpr, tpr=tpr, roc_auc=roc_auc,\n",
        "                          estimator_name='Logistic Regression')\n",
        "display.plot()"
      ],
      "metadata": {
        "id": "jUCyweXLyykI",
        "colab": {
          "base_uri": "https://localhost:8080/",
          "height": 453
        },
        "outputId": "7d7113e5-2b68-45e3-d53b-89fa21764bbb"
      },
      "execution_count": null,
      "outputs": [
        {
          "output_type": "error",
          "ename": "KeyboardInterrupt",
          "evalue": "ignored",
          "traceback": [
            "\u001b[0;31m---------------------------------------------------------------------------\u001b[0m",
            "\u001b[0;31mKeyboardInterrupt\u001b[0m                         Traceback (most recent call last)",
            "\u001b[0;32m<ipython-input-55-1b1f8f6c929a>\u001b[0m in \u001b[0;36m<cell line: 8>\u001b[0;34m()\u001b[0m\n\u001b[1;32m      6\u001b[0m \u001b[0;34m\u001b[0m\u001b[0m\n\u001b[1;32m      7\u001b[0m \u001b[0;31m# Feature engineering and preprocessing on the training set\u001b[0m\u001b[0;34m\u001b[0m\u001b[0;34m\u001b[0m\u001b[0m\n\u001b[0;32m----> 8\u001b[0;31m \u001b[0mX_train\u001b[0m\u001b[0;34m,\u001b[0m \u001b[0mY_train\u001b[0m\u001b[0;34m,\u001b[0m \u001b[0methnicity_transformer\u001b[0m\u001b[0;34m,\u001b[0m \u001b[0mstayType_transformer\u001b[0m\u001b[0;34m,\u001b[0m \u001b[0micuType_transformer\u001b[0m\u001b[0;34m,\u001b[0m \u001b[0mimputer\u001b[0m\u001b[0;34m,\u001b[0m \u001b[0mst_x\u001b[0m \u001b[0;34m=\u001b[0m \u001b[0mfit_transform\u001b[0m\u001b[0;34m(\u001b[0m\u001b[0mtrain\u001b[0m\u001b[0;34m)\u001b[0m\u001b[0;34m\u001b[0m\u001b[0;34m\u001b[0m\u001b[0m\n\u001b[0m\u001b[1;32m      9\u001b[0m \u001b[0;34m\u001b[0m\u001b[0m\n\u001b[1;32m     10\u001b[0m \u001b[0;31m# Preprocess and transform the test set\u001b[0m\u001b[0;34m\u001b[0m\u001b[0;34m\u001b[0m\u001b[0m\n",
            "\u001b[0;32m<ipython-input-52-0a33ad464816>\u001b[0m in \u001b[0;36mfit_transform\u001b[0;34m(input_df)\u001b[0m\n\u001b[1;32m     34\u001b[0m \u001b[0;34m\u001b[0m\u001b[0m\n\u001b[1;32m     35\u001b[0m     \u001b[0;31m# Perform imputation and standardization on the feature matrix\u001b[0m\u001b[0;34m\u001b[0m\u001b[0;34m\u001b[0m\u001b[0m\n\u001b[0;32m---> 36\u001b[0;31m     \u001b[0mX\u001b[0m \u001b[0;34m=\u001b[0m \u001b[0mimputer\u001b[0m\u001b[0;34m.\u001b[0m\u001b[0mfit_transform\u001b[0m\u001b[0;34m(\u001b[0m\u001b[0mdf\u001b[0m\u001b[0;34m.\u001b[0m\u001b[0mdrop\u001b[0m\u001b[0;34m(\u001b[0m\u001b[0;34m'hospital_death'\u001b[0m\u001b[0;34m,\u001b[0m \u001b[0maxis\u001b[0m\u001b[0;34m=\u001b[0m\u001b[0;36m1\u001b[0m\u001b[0;34m)\u001b[0m\u001b[0;34m.\u001b[0m\u001b[0mto_numpy\u001b[0m\u001b[0;34m(\u001b[0m\u001b[0;34m)\u001b[0m\u001b[0;34m)\u001b[0m\u001b[0;34m\u001b[0m\u001b[0;34m\u001b[0m\u001b[0m\n\u001b[0m\u001b[1;32m     37\u001b[0m     \u001b[0mX\u001b[0m \u001b[0;34m=\u001b[0m \u001b[0mst_x\u001b[0m\u001b[0;34m.\u001b[0m\u001b[0mfit_transform\u001b[0m\u001b[0;34m(\u001b[0m\u001b[0mX\u001b[0m\u001b[0;34m)\u001b[0m\u001b[0;34m\u001b[0m\u001b[0;34m\u001b[0m\u001b[0m\n\u001b[1;32m     38\u001b[0m \u001b[0;34m\u001b[0m\u001b[0m\n",
            "\u001b[0;32m/usr/local/lib/python3.10/dist-packages/sklearn/utils/_set_output.py\u001b[0m in \u001b[0;36mwrapped\u001b[0;34m(self, X, *args, **kwargs)\u001b[0m\n\u001b[1;32m    138\u001b[0m     \u001b[0;34m@\u001b[0m\u001b[0mwraps\u001b[0m\u001b[0;34m(\u001b[0m\u001b[0mf\u001b[0m\u001b[0;34m)\u001b[0m\u001b[0;34m\u001b[0m\u001b[0;34m\u001b[0m\u001b[0m\n\u001b[1;32m    139\u001b[0m     \u001b[0;32mdef\u001b[0m \u001b[0mwrapped\u001b[0m\u001b[0;34m(\u001b[0m\u001b[0mself\u001b[0m\u001b[0;34m,\u001b[0m \u001b[0mX\u001b[0m\u001b[0;34m,\u001b[0m \u001b[0;34m*\u001b[0m\u001b[0margs\u001b[0m\u001b[0;34m,\u001b[0m \u001b[0;34m**\u001b[0m\u001b[0mkwargs\u001b[0m\u001b[0;34m)\u001b[0m\u001b[0;34m:\u001b[0m\u001b[0;34m\u001b[0m\u001b[0;34m\u001b[0m\u001b[0m\n\u001b[0;32m--> 140\u001b[0;31m         \u001b[0mdata_to_wrap\u001b[0m \u001b[0;34m=\u001b[0m \u001b[0mf\u001b[0m\u001b[0;34m(\u001b[0m\u001b[0mself\u001b[0m\u001b[0;34m,\u001b[0m \u001b[0mX\u001b[0m\u001b[0;34m,\u001b[0m \u001b[0;34m*\u001b[0m\u001b[0margs\u001b[0m\u001b[0;34m,\u001b[0m \u001b[0;34m**\u001b[0m\u001b[0mkwargs\u001b[0m\u001b[0;34m)\u001b[0m\u001b[0;34m\u001b[0m\u001b[0;34m\u001b[0m\u001b[0m\n\u001b[0m\u001b[1;32m    141\u001b[0m         \u001b[0;32mif\u001b[0m \u001b[0misinstance\u001b[0m\u001b[0;34m(\u001b[0m\u001b[0mdata_to_wrap\u001b[0m\u001b[0;34m,\u001b[0m \u001b[0mtuple\u001b[0m\u001b[0;34m)\u001b[0m\u001b[0;34m:\u001b[0m\u001b[0;34m\u001b[0m\u001b[0;34m\u001b[0m\u001b[0m\n\u001b[1;32m    142\u001b[0m             \u001b[0;31m# only wrap the first output for cross decomposition\u001b[0m\u001b[0;34m\u001b[0m\u001b[0;34m\u001b[0m\u001b[0m\n",
            "\u001b[0;32m/usr/local/lib/python3.10/dist-packages/sklearn/impute/_iterative.py\u001b[0m in \u001b[0;36mfit_transform\u001b[0;34m(self, X, y)\u001b[0m\n\u001b[1;32m    748\u001b[0m                     \u001b[0mn_features\u001b[0m\u001b[0;34m,\u001b[0m \u001b[0mfeat_idx\u001b[0m\u001b[0;34m,\u001b[0m \u001b[0mabs_corr_mat\u001b[0m\u001b[0;34m\u001b[0m\u001b[0;34m\u001b[0m\u001b[0m\n\u001b[1;32m    749\u001b[0m                 )\n\u001b[0;32m--> 750\u001b[0;31m                 Xt, estimator = self._impute_one_feature(\n\u001b[0m\u001b[1;32m    751\u001b[0m                     \u001b[0mXt\u001b[0m\u001b[0;34m,\u001b[0m\u001b[0;34m\u001b[0m\u001b[0;34m\u001b[0m\u001b[0m\n\u001b[1;32m    752\u001b[0m                     \u001b[0mmask_missing_values\u001b[0m\u001b[0;34m,\u001b[0m\u001b[0;34m\u001b[0m\u001b[0;34m\u001b[0m\u001b[0m\n",
            "\u001b[0;32m/usr/local/lib/python3.10/dist-packages/sklearn/impute/_iterative.py\u001b[0m in \u001b[0;36m_impute_one_feature\u001b[0;34m(self, X_filled, mask_missing_values, feat_idx, neighbor_feat_idx, estimator, fit_mode)\u001b[0m\n\u001b[1;32m    399\u001b[0m                 \u001b[0maxis\u001b[0m\u001b[0;34m=\u001b[0m\u001b[0;36m0\u001b[0m\u001b[0;34m,\u001b[0m\u001b[0;34m\u001b[0m\u001b[0;34m\u001b[0m\u001b[0m\n\u001b[1;32m    400\u001b[0m             )\n\u001b[0;32m--> 401\u001b[0;31m             \u001b[0mestimator\u001b[0m\u001b[0;34m.\u001b[0m\u001b[0mfit\u001b[0m\u001b[0;34m(\u001b[0m\u001b[0mX_train\u001b[0m\u001b[0;34m,\u001b[0m \u001b[0my_train\u001b[0m\u001b[0;34m)\u001b[0m\u001b[0;34m\u001b[0m\u001b[0;34m\u001b[0m\u001b[0m\n\u001b[0m\u001b[1;32m    402\u001b[0m \u001b[0;34m\u001b[0m\u001b[0m\n\u001b[1;32m    403\u001b[0m         \u001b[0;31m# if no missing values, don't predict\u001b[0m\u001b[0;34m\u001b[0m\u001b[0;34m\u001b[0m\u001b[0m\n",
            "\u001b[0;32m/usr/local/lib/python3.10/dist-packages/sklearn/linear_model/_bayes.py\u001b[0m in \u001b[0;36mfit\u001b[0;34m(self, X, y, sample_weight)\u001b[0m\n\u001b[1;32m    271\u001b[0m \u001b[0;34m\u001b[0m\u001b[0m\n\u001b[1;32m    272\u001b[0m         \u001b[0mXT_y\u001b[0m \u001b[0;34m=\u001b[0m \u001b[0mnp\u001b[0m\u001b[0;34m.\u001b[0m\u001b[0mdot\u001b[0m\u001b[0;34m(\u001b[0m\u001b[0mX\u001b[0m\u001b[0;34m.\u001b[0m\u001b[0mT\u001b[0m\u001b[0;34m,\u001b[0m \u001b[0my\u001b[0m\u001b[0;34m)\u001b[0m\u001b[0;34m\u001b[0m\u001b[0;34m\u001b[0m\u001b[0m\n\u001b[0;32m--> 273\u001b[0;31m         \u001b[0mU\u001b[0m\u001b[0;34m,\u001b[0m \u001b[0mS\u001b[0m\u001b[0;34m,\u001b[0m \u001b[0mVh\u001b[0m \u001b[0;34m=\u001b[0m \u001b[0mlinalg\u001b[0m\u001b[0;34m.\u001b[0m\u001b[0msvd\u001b[0m\u001b[0;34m(\u001b[0m\u001b[0mX\u001b[0m\u001b[0;34m,\u001b[0m \u001b[0mfull_matrices\u001b[0m\u001b[0;34m=\u001b[0m\u001b[0;32mFalse\u001b[0m\u001b[0;34m)\u001b[0m\u001b[0;34m\u001b[0m\u001b[0;34m\u001b[0m\u001b[0m\n\u001b[0m\u001b[1;32m    274\u001b[0m         \u001b[0meigen_vals_\u001b[0m \u001b[0;34m=\u001b[0m \u001b[0mS\u001b[0m\u001b[0;34m**\u001b[0m\u001b[0;36m2\u001b[0m\u001b[0;34m\u001b[0m\u001b[0;34m\u001b[0m\u001b[0m\n\u001b[1;32m    275\u001b[0m \u001b[0;34m\u001b[0m\u001b[0m\n",
            "\u001b[0;32m/usr/local/lib/python3.10/dist-packages/scipy/linalg/_decomp_svd.py\u001b[0m in \u001b[0;36msvd\u001b[0;34m(a, full_matrices, compute_uv, overwrite_a, check_finite, lapack_driver)\u001b[0m\n\u001b[1;32m    125\u001b[0m \u001b[0;34m\u001b[0m\u001b[0m\n\u001b[1;32m    126\u001b[0m     \u001b[0;31m# perform decomposition\u001b[0m\u001b[0;34m\u001b[0m\u001b[0;34m\u001b[0m\u001b[0m\n\u001b[0;32m--> 127\u001b[0;31m     u, s, v, info = gesXd(a1, compute_uv=compute_uv, lwork=lwork,\n\u001b[0m\u001b[1;32m    128\u001b[0m                           full_matrices=full_matrices, overwrite_a=overwrite_a)\n\u001b[1;32m    129\u001b[0m \u001b[0;34m\u001b[0m\u001b[0m\n",
            "\u001b[0;31mKeyboardInterrupt\u001b[0m: "
          ]
        }
      ]
    },
    {
      "cell_type": "markdown",
      "source": [
        "## Logistic Regression with Weighted Classes"
      ],
      "metadata": {
        "id": "140RTS0wnUER"
      }
    },
    {
      "cell_type": "code",
      "source": [
        "# Preprocess and transform the training set using the fit_transform function\n",
        "X_train, Y_train, ethnicity_transformer, stayType_transformer, icuType_transformer, imputer, st_x = fit_transform(train)\n",
        "\n",
        "# Preprocess and transform the test set using the transform function\n",
        "X_test = transform(test, ethnicity_transformer, stayType_transformer, icuType_transformer, imputer, st_x)\n",
        "\n",
        "# Extract the target variable from the test set\n",
        "Y_test = test['hospital_death'].to_numpy()\n",
        "\n",
        "# Define a weight 'a' for class 0 and class 1 in the Logistic Regression model\n",
        "a = 0.1\n",
        "\n",
        "# Initialize and train a Logistic Regression model with class weights\n",
        "model = LogisticRegression(class_weight={0: a, 1: 1-a})\n",
        "model.fit(X_train, Y_train)\n",
        "\n",
        "# Make predictions on the test and training sets\n",
        "y_pred_test = model.predict(X_test)\n",
        "y_pred_train = model.predict(X_train)\n",
        "\n",
        "# Calculate evaluation metrics and scores for the test and training sets\n",
        "conf_matrix_test, class_report_test, auc_test, acc_test = get_scores(y_pred_test, Y_test)\n",
        "conf_matrix_train, class_report_train, auc_train, acc_train = get_scores(y_pred_train, Y_train)\n",
        "\n",
        "# Print scores and evaluation metrics for the training set\n",
        "print('======== Training Set ==========')\n",
        "print_scores(conf_matrix_train, class_report_train, auc_train, acc_train)\n",
        "\n",
        "# Print scores and evaluation metrics for the test set\n",
        "print('======== Test Set ==========')\n",
        "print_scores(conf_matrix_test, class_report_test, auc_test, acc_test)\n",
        "\n",
        "# Plot the ROC curve for the training set\n",
        "fpr, tpr, thresholds = roc_curve(y_pred_train, Y_train)\n",
        "roc_auc = auc(fpr, tpr)\n",
        "display = RocCurveDisplay(fpr=fpr, tpr=tpr, roc_auc=roc_auc, estimator_name='Logistic Regression')\n",
        "display.plot()"
      ],
      "metadata": {
        "colab": {
          "base_uri": "https://localhost:8080/",
          "height": 1000
        },
        "id": "d4cc6DF1nTsW",
        "outputId": "bfa27129-a91e-475e-d3c7-059dbdddbd96"
      },
      "execution_count": null,
      "outputs": [
        {
          "output_type": "stream",
          "name": "stdout",
          "text": [
            "======== Training Set ==========\n",
            "AUC :  0.6689379251780322\n",
            "Accuracy :  0.871623874624875\n",
            "Confusion Matrix:\n",
            "[[16998   383]\n",
            " [ 2312  1300]]\n",
            "\n",
            "Classification Report:\n",
            "              precision    recall  f1-score   support\n",
            "\n",
            "           0       0.88      0.98      0.93     17381\n",
            "           1       0.77      0.36      0.49      3612\n",
            "\n",
            "    accuracy                           0.87     20993\n",
            "   macro avg       0.83      0.67      0.71     20993\n",
            "weighted avg       0.86      0.87      0.85     20993\n",
            "\n",
            "======== Test Set ==========\n",
            "AUC :  0.6652351521558326\n",
            "Accuracy :  0.8718461709458708\n",
            "Confusion Matrix:\n",
            "[[7306  165]\n",
            " [ 988  538]]\n",
            "\n",
            "Classification Report:\n",
            "              precision    recall  f1-score   support\n",
            "\n",
            "           0       0.88      0.98      0.93      7471\n",
            "           1       0.77      0.35      0.48      1526\n",
            "\n",
            "    accuracy                           0.87      8997\n",
            "   macro avg       0.82      0.67      0.70      8997\n",
            "weighted avg       0.86      0.87      0.85      8997\n",
            "\n"
          ]
        },
        {
          "output_type": "execute_result",
          "data": {
            "text/plain": [
              "<sklearn.metrics._plot.roc_curve.RocCurveDisplay at 0x7d8895136fe0>"
            ]
          },
          "metadata": {},
          "execution_count": 45
        },
        {
          "output_type": "display_data",
          "data": {
            "text/plain": [
              "<Figure size 640x480 with 1 Axes>"
            ],
            "image/png": "[encoded data removed]"
          },
          "metadata": {}
        }
      ]
    },
    {
      "cell_type": "markdown",
      "source": [
        "## Logistic Regression with Cross Validation and Weighted Class"
      ],
      "metadata": {
        "id": "Aw1VKlwa6LTx"
      }
    },
    {
      "cell_type": "code",
      "source": [],
      "metadata": {
        "id": "GdCp2E7t6Uaf"
      },
      "execution_count": null,
      "outputs": []
    },
    {
      "cell_type": "markdown",
      "source": [
        "## Naive Bayes"
      ],
      "metadata": {
        "id": "KyGlC9Yz6VC0"
      }
    },
    {
      "cell_type": "markdown",
      "source": [
        "Naive Bayes model seeks to utilize variables from our conceptual model that were selected post-feature selection. These variables were deemed as relevant risk factors and predictors of cardiovascular-related mortality and acute renal failure through extensive literature searches. These features from the preprocessed dataset include:\n",
        "\n",
        "1.   BMI (Demographic)\n",
        "2.   Age (Demographic)\n",
        "3.   Gender (Demographic)\n",
        "2.   Ethnicity (Demographic)\n",
        "2.   `heart_rate_apache` (lab result)\n",
        "2.   `bun_apache` (renal-related)\n",
        "2.   `creatinine_apache` (renal-related)\n",
        "2.   `urineoutput_apache` (renal-related)\n",
        "2.   `sodium_apache` (lab result)\n",
        "2.   `wbc_apache` (lab result)\n",
        "\n",
        "\n",
        "\n"
      ],
      "metadata": {
        "id": "Z8n1sxn3Avjr"
      }
    },
    {
      "cell_type": "code",
      "source": [
        "print(data_clean.columns)"
      ],
      "metadata": {
        "colab": {
          "base_uri": "https://localhost:8080/"
        },
        "id": "AfnvIeP4E6bc",
        "outputId": "368f51ce-c30b-4106-e4c7-06dd48aee16d"
      },
      "execution_count": null,
      "outputs": [
        {
          "output_type": "stream",
          "name": "stdout",
          "text": [
            "Index(['hospital_death', 'age', 'bmi', 'gender', 'ethnicity', 'icu_stay_type',\n",
            "       'icu_type', 'pre_icu_los_days', 'apache_3j_diagnosis', 'bun_apache',\n",
            "       'creatinine_apache', 'gcs_eyes_apache', 'gcs_motor_apache',\n",
            "       'gcs_verbal_apache', 'glucose_apache', 'heart_rate_apache',\n",
            "       'hematocrit_apache', 'map_apache', 'resprate_apache', 'sodium_apache',\n",
            "       'temp_apache', 'urineoutput_apache', 'wbc_apache',\n",
            "       'd1_diasbp_invasive_max', 'd1_diasbp_invasive_min', 'd1_diasbp_max',\n",
            "       'd1_diasbp_min', 'd1_diasbp_noninvasive_max',\n",
            "       'd1_diasbp_noninvasive_min', 'd1_heartrate_max', 'd1_heartrate_min',\n",
            "       'd1_mbp_invasive_max', 'd1_mbp_invasive_min', 'd1_mbp_max',\n",
            "       'd1_mbp_min', 'd1_mbp_noninvasive_max', 'd1_mbp_noninvasive_min',\n",
            "       'd1_resprate_max', 'd1_resprate_min', 'd1_spo2_max', 'd1_spo2_min',\n",
            "       'd1_sysbp_invasive_max', 'd1_sysbp_invasive_min', 'd1_sysbp_max',\n",
            "       'd1_sysbp_min', 'd1_sysbp_noninvasive_max', 'd1_sysbp_noninvasive_min',\n",
            "       'd1_temp_max', 'd1_temp_min', 'h1_diasbp_max', 'h1_diasbp_min',\n",
            "       'h1_diasbp_noninvasive_max', 'h1_diasbp_noninvasive_min',\n",
            "       'h1_heartrate_max', 'h1_heartrate_min', 'h1_mbp_max', 'h1_mbp_min',\n",
            "       'h1_mbp_noninvasive_max', 'h1_mbp_noninvasive_min', 'h1_resprate_max',\n",
            "       'h1_resprate_min', 'h1_spo2_max', 'h1_spo2_min', 'h1_sysbp_max',\n",
            "       'h1_sysbp_min', 'h1_sysbp_noninvasive_max', 'h1_sysbp_noninvasive_min',\n",
            "       'h1_temp_max', 'h1_temp_min', 'd1_bun_max', 'd1_bun_min',\n",
            "       'd1_calcium_max', 'd1_calcium_min', 'd1_creatinine_max',\n",
            "       'd1_creatinine_min', 'd1_glucose_max', 'd1_glucose_min', 'd1_hco3_max',\n",
            "       'd1_hco3_min', 'd1_hemaglobin_max', 'd1_hemaglobin_min',\n",
            "       'd1_hematocrit_max', 'd1_hematocrit_min', 'd1_inr_max', 'd1_inr_min',\n",
            "       'd1_platelets_max', 'd1_platelets_min', 'd1_potassium_max',\n",
            "       'd1_potassium_min', 'd1_sodium_max', 'd1_sodium_min', 'd1_wbc_max',\n",
            "       'd1_wbc_min', 'h1_glucose_max', 'h1_glucose_min', 'h1_inr_max',\n",
            "       'h1_inr_min'],\n",
            "      dtype='object')\n"
          ]
        }
      ]
    },
    {
      "cell_type": "code",
      "source": [
        "import pandas as pd\n",
        "import numpy as np\n",
        "from sklearn.model_selection import train_test_split\n",
        "from sklearn.preprocessing import StandardScaler\n",
        "from sklearn.linear_model import LogisticRegression\n",
        "from sklearn.neighbors import KNeighborsClassifier\n",
        "from sklearn.metrics import precision_score, accuracy_score, recall_score, f1_score, roc_auc_score\n",
        "import statsmodels.api as sm\n",
        "import matplotlib.pyplot as plt\n",
        "from sklearn.impute import SimpleImputer\n",
        "\n",
        "conceptual_variables = ['hospital_death','creatinine_apache',\n",
        "                        'urineoutput_apache','bun_apache',\n",
        "                        'sodium_apache','heart_rate_apache',\n",
        "                        'wbc_apache','bmi','age','gender','ethnicity']\n",
        "\n",
        "conceptual_data = data_clean[conceptual_variables]\n",
        "\n",
        "## Splitting the original dataset into training, validation, and test sets\n",
        "# Taking 70% of the data for training\n",
        "train_dataClean = conceptual_data.sample(frac = 0.7)\n",
        "\n",
        "# Removing the training data from the original dataset to get the combined validation and test data\n",
        "test_dataClean = conceptual_data.drop(train_dataClean.index)\n",
        "\n",
        "# Splitting the combined validation and test data into two equal parts for validation and testing, respectively\n",
        "valid_dataClean = test_dataClean.sample(frac = 0.5)\n",
        "test_dataClean = test_dataClean.drop(valid_dataClean.index)"
      ],
      "metadata": {
        "id": "XK1PxuAcAFCZ"
      },
      "execution_count": null,
      "outputs": []
    },
    {
      "cell_type": "markdown",
      "source": [
        "### Defining utility functions for model evaluation"
      ],
      "metadata": {
        "id": "t7GLWa9MDKZ1"
      }
    },
    {
      "cell_type": "code",
      "source": [
        "def get_scores(Y, Y_pred):\n",
        "    \"\"\"\n",
        "    Computes various evaluation metrics for model predictions.\n",
        "\n",
        "    Parameters:\n",
        "    - Y: Actual target values.\n",
        "    - Y_pred: Predicted target values by the model.\n",
        "\n",
        "    Returns:\n",
        "    - conf_matrix: Confusion matrix showing true positives, true negatives, false positives, and false negatives.\n",
        "    - class_report: Classification report detailing precision, recall, and F1-score for each class.\n",
        "    - auc: Area Under the Curve (AUC) value for the model's predictions.\n",
        "    - acc: Accuracy of the model's predictions.\n",
        "    \"\"\"\n",
        "    conf_matrix = confusion_matrix(Y, Y_pred)\n",
        "    class_report = classification_report(Y, Y_pred)\n",
        "    auc = roc_auc_score(Y, Y_pred)\n",
        "    acc = accuracy_score(Y, Y_pred)\n",
        "\n",
        "    return conf_matrix, class_report, auc, acc\n",
        "\n",
        "def print_scores(conf_matrix, class_report, auc, acc):\n",
        "    \"\"\"\n",
        "    Prints the evaluation metrics in a structured format.\n",
        "\n",
        "    Parameters:\n",
        "    - conf_matrix: Confusion matrix from get_scores function.\n",
        "    - class_report: Classification report from get_scores function.\n",
        "    - auc: AUC value from get_scores function.\n",
        "    - acc: Accuracy value from get_scores function.\n",
        "    \"\"\"\n",
        "    print('AUC : ', auc)\n",
        "    print('Accuracy : ', acc)\n",
        "    print(\"Confusion Matrix:\")\n",
        "    print(conf_matrix)\n",
        "    print(\"\\nClassification Report:\")\n",
        "    print(class_report)"
      ],
      "metadata": {
        "id": "1aFPfJBRDMxF"
      },
      "execution_count": null,
      "outputs": []
    },
    {
      "cell_type": "markdown",
      "source": [
        "### Evaluating Naive Bayes Model on Training Data"
      ],
      "metadata": {
        "id": "xZOQ0r15DOPr"
      }
    },
    {
      "cell_type": "code",
      "source": [
        "from sklearn.naive_bayes import GaussianNB\n",
        "from sklearn.naive_bayes import CategoricalNB\n",
        "from sklearn.model_selection import train_test_split\n",
        "from sklearn.datasets import load_iris\n",
        "from sklearn.metrics import RocCurveDisplay, roc_curve, accuracy_score, confusion_matrix, roc_auc_score, classification_report\n",
        "\n",
        "\n"
      ],
      "metadata": {
        "id": "JSEH-RAS6Xqv"
      },
      "execution_count": null,
      "outputs": []
    },
    {
      "cell_type": "markdown",
      "source": [
        "## Neural Net\n"
      ],
      "metadata": {
        "id": "5qdWUZTh6X3x"
      }
    },
    {
      "cell_type": "code",
      "source": [
        "# Feature engineering and preprocessing on the training set\n",
        "X_train, Y_train, ethnicity_transformer, stayType_transformer, icuType_transformer, imputer, st_x = fit_transform(train)\n",
        "\n",
        "# Preprocess and transform the test set\n",
        "X_test = transform(test, ethnicity_transformer, stayType_transformer,\n",
        "                   icuType_transformer, imputer, st_x)\n",
        "Y_test = test['hospital_death'].to_numpy()"
      ],
      "metadata": {
        "id": "e1sNx8y-6t-H"
      },
      "execution_count": null,
      "outputs": []
    },
    {
      "cell_type": "code",
      "source": [
        "# Define the number of neurons in the first and second hidden layers\n",
        "hidden_units_layer_1 = 5\n",
        "hidden_units_layer_2 = 5\n",
        "# FIRST LAYER: Define weights and biases for the first layer\n",
        "W1 = t.randn((96, hidden_units_layer_1), requires_grad=True)\n",
        "B1 = t.zeros((1, hidden_units_layer_1), requires_grad=True)\n",
        "# SECOND LAYER: Define weights and biases for the second layer\n",
        "W2 = t.randn((hidden_units_layer_1, hidden_units_layer_2), requires_grad=True)\n",
        "B2 = t.zeros((1, hidden_units_layer_2), requires_grad=True)\n",
        "# THIRD LAYER: Define weights and biases for the output layer\n",
        "W3 = t.randn((hidden_units_layer_2, 1), requires_grad=True)\n",
        "B3 = t.zeros((1, 1), requires_grad=True)"
      ],
      "metadata": {
        "id": "kQdBCNIxyTrz"
      },
      "execution_count": null,
      "outputs": []
    },
    {
      "cell_type": "code",
      "source": [
        "# Define the forward pass of the neural network\n",
        "def forward(input):\n",
        "  # First hidden layer with tanh activation\n",
        "  out = tanh(input @ W1 + B1)\n",
        "\n",
        "  # Second hidden layer with tanh activation\n",
        "  out = tanh(out @ W2 + B2)\n",
        "\n",
        "  # Output layer with sigmoid activation (since it's a binary classificati\n",
        "  out = sigmoid(out @ W3 + B3)\n",
        "  return out"
      ],
      "metadata": {
        "id": "5HvC5M-A0tGX"
      },
      "execution_count": null,
      "outputs": []
    },
    {
      "cell_type": "code",
      "source": [
        "# Convert the training data to PyTorch tensors\n",
        "X = t.Tensor(X_train).type(t.float32)\n",
        "Y = t.Tensor(Y_train).type(t.float32)\n",
        "\n",
        "# Create a dataset from tensors to be used with DataLoader\n",
        "train_dataset = TensorDataset(X, Y)\n",
        "\n",
        "# Define training hyperparameters\n",
        "epochs = 2000\n",
        "learning_rate = 0.01\n",
        "batch_size = 32\n",
        "\n",
        "# DataLoader provides batches of data for training\n",
        "train_data_loader = DataLoader(train_dataset, batch_size=batch_size, shuffle=True)\n",
        "\n",
        "# Define the optimizer (Adam) and include all weights and biases\n",
        "optimizer = Adam([W1, B1, W2, B2, W3, B3], lr=learning_rate)\n",
        "\n",
        "# Define the loss function (Binary Cross-Entropy Loss)\n",
        "loss_fn = t.nn.BCELoss()"
      ],
      "metadata": {
        "id": "s1IOdMR9PEHy"
      },
      "execution_count": null,
      "outputs": []
    },
    {
      "cell_type": "code",
      "source": [
        "train_loss_list = []\n",
        "\n",
        "# Train the model for a specified number of epochs\n",
        "for epoch in range(epochs):\n",
        "    # Reduce the learning rate every 500 epochs\n",
        "    if epoch % 500 == 0:\n",
        "        learning_rate *= .5\n",
        "\n",
        "    per_epoch_loss_list = []\n",
        "\n",
        "    # Iterate over all batches of data\n",
        "    for batch_idx, (X, Y) in enumerate(train_data_loader):\n",
        "        # Forward pass: Compute predictions\n",
        "        probs = forward(X)\n",
        "\n",
        "        # Compute the loss\n",
        "        loss = loss_fn(probs.view(-1), Y)\n",
        "\n",
        "        # Backward pass: Compute gradient and update weights\n",
        "        optimizer.zero_grad()\n",
        "        loss.backward()\n",
        "        optimizer.step()\n",
        "\n",
        "        # Record the loss for this batch\n",
        "        per_epoch_loss_list.append(loss.item())\n",
        "\n",
        "    # Record the average loss for this epoch\n",
        "    train_loss_list.append(sum(per_epoch_loss_list) / len(per_epoch_loss_list))"
      ],
      "metadata": {
        "id": "WH4HMS5R1Wqk"
      },
      "execution_count": null,
      "outputs": []
    },
    {
      "cell_type": "code",
      "source": [
        "# Plot the training loss over epochs\n",
        "plt.plot([i for i in range(len(train_loss_list))], train_loss_list)\n",
        "plt.xlabel('epochs')\n",
        "plt.ylabel('loss')"
      ],
      "metadata": {
        "colab": {
          "base_uri": "https://localhost:8080/",
          "height": 466
        },
        "id": "PRorRiwAH8_P",
        "outputId": "a27502e5-550e-4fe4-a8e2-6eec7599d330"
      },
      "execution_count": null,
      "outputs": [
        {
          "output_type": "execute_result",
          "data": {
            "text/plain": [
              "Text(0, 0.5, 'loss')"
            ]
          },
          "metadata": {},
          "execution_count": 68
        },
        {
          "output_type": "display_data",
          "data": {
            "text/plain": [
              "<Figure size 640x480 with 1 Axes>"
            ],
            "image/png": "[encoded data removed]"
          },
          "metadata": {}
        }
      ]
    },
    {
      "cell_type": "markdown",
      "source": [
        "### Evaluate Neural Net Performance on Validation Data"
      ],
      "metadata": {
        "id": "WLyTpS9yIJxy"
      }
    },
    {
      "cell_type": "code",
      "source": [
        "# Evaluate Model Performance on Validation Data\n",
        "\n",
        "# Disable gradient calculations for evaluation using t.no_grad()\n",
        "with t.no_grad():\n",
        "    # Prepare the validation data\n",
        "    X = t.Tensor(X_test).type(t.float32)  # Convert validation features to a PyTorch tensor\n",
        "    Y = t.Tensor(Y_test).type(t.float32)  # Convert validation labels to a PyTorch tensor\n",
        "\n",
        "    # Calculate predictions on the validation data\n",
        "    probs = forward(X)  # Pass validation data through the trained model\n",
        "    loss = loss_fn(probs.view(-1), Y)  # Compute the loss between predictions and actual labels\n",
        "\n",
        "    pred_val = (probs >= 0.5).type(t.LongTensor).view(-1).numpy()  # Convert probabilities to binary predictions\n",
        "    Y_numpy = Y.numpy()  # Convert tensor to numpy array for comparison\n",
        "\n",
        "    # Print the validation loss\n",
        "    print(loss.item())\n",
        "\n",
        "    # Generate and print the classification report for validation data\n",
        "    report_val = classification_report(Y_numpy, pred_val, target_names=['Class 0', 'Class 1'])\n",
        "    print(\"Validation Classification Report:\\n\", report_val)\n",
        "\n",
        "\n",
        "    # Now, evaluate the model on the training data\n",
        "    X = t.Tensor(X_train).type(t.float32)  # Convert training features to a PyTorch tensor\n",
        "    Y = t.Tensor(Y_train).type(t.float32)  # Convert training labels to a PyTorch tensor\n",
        "\n",
        "    # Calculate predictions on the training data\n",
        "    probs_train = forward(X)  # Pass training data through the trained model\n",
        "    loss = loss_fn(probs_train.view(-1), Y)  # Compute the loss between predictions and actual labels\n",
        "\n",
        "    # Calculate predictions on the training data\n",
        "    probs_train = forward(X)\n",
        "    predictions_train = (probs_train >= 0.5).type(t.LongTensor).view(-1).numpy()  # Convert probabilities to binary predictions\n",
        "    Y_train_numpy = Y.numpy()  # Convert tensor to numpy array for comparison\n",
        "\n",
        "    # Print the training loss\n",
        "    print(loss.item())\n",
        "\n",
        "    # Generate and print the classification report for training data\n",
        "    report_train = classification_report(Y_train_numpy, predictions_train, target_names=['Class 0', 'Class 1'])\n",
        "    print(\"Training Classification Report:\\n\", report_train)"
      ],
      "metadata": {
        "colab": {
          "base_uri": "https://localhost:8080/"
        },
        "id": "qxJ2O77iIOt7",
        "outputId": "09af14f5-3670-4970-ec74-aecb00bb3528"
      },
      "execution_count": null,
      "outputs": [
        {
          "output_type": "stream",
          "name": "stdout",
          "text": [
            "0.18901440501213074\n",
            "Validation Classification Report:\n",
            "               precision    recall  f1-score   support\n",
            "\n",
            "     Class 0       0.95      0.98      0.96      8294\n",
            "     Class 1       0.63      0.38      0.47       703\n",
            "\n",
            "    accuracy                           0.93      8997\n",
            "   macro avg       0.79      0.68      0.72      8997\n",
            "weighted avg       0.92      0.93      0.93      8997\n",
            "\n",
            "0.1511000543832779\n",
            "Training Classification Report:\n",
            "               precision    recall  f1-score   support\n",
            "\n",
            "     Class 0       0.96      0.99      0.97     19310\n",
            "     Class 1       0.79      0.47      0.59      1683\n",
            "\n",
            "    accuracy                           0.95     20993\n",
            "   macro avg       0.87      0.73      0.78     20993\n",
            "weighted avg       0.94      0.95      0.94     20993\n",
            "\n"
          ]
        }
      ]
    },
    {
      "cell_type": "markdown",
      "source": [
        "The output indicates that the model's loss on the validation set is slightly higher than the loss on the training dataset, suggesting that the probability of overfitting on the training data is very low.  "
      ],
      "metadata": {
        "id": "PdGyy3lzIZwY"
      }
    },
    {
      "cell_type": "code",
      "source": [
        "import torch.nn as nn\n",
        "# Regularization\n",
        "# Deep neural networks are prone to overfitting if there is not much data available during training.\n",
        "\n",
        "# Define hyperparameters\n",
        "number_of_input_features = 96\n",
        "number_of_hidden_units = 5\n",
        "epochs = 100\n",
        "learning_rate = 0.01\n",
        "batch_size = 32\n",
        "landa = 0.01  # Regularization term (lambda)\n",
        "\n",
        "# Prepare the data\n",
        "X_train_tensor = t.Tensor(X_train).type(t.float32)\n",
        "Y_train_tensor = t.Tensor(Y_train).type(t.float32)\n",
        "\n",
        "X_test_tensor = t.Tensor(X_test).type(t.float32)\n",
        "Y_test_tensor = t.Tensor(Y_test).type(t.float32)\n",
        "\n",
        "train_dataset = TensorDataset(X_train_tensor, Y_train_tensor)\n",
        "train_data_loader = DataLoader(train_dataset, batch_size=batch_size, shuffle=True)\n",
        "\n",
        "# Define the neural network model with regularization\n",
        "model = nn.Sequential(\n",
        "    nn.Linear(number_of_input_features, number_of_hidden_units),  # Linear layer for matrix multiplication and bias addition\n",
        "    nn.Tanh(),  # Tanh activation function\n",
        "    nn.Linear(number_of_hidden_units, 1),  # Another linear layer\n",
        "    nn.Sigmoid()  # Sigmoid activation for probability output\n",
        ")\n",
        "\n",
        "# Define the optimizer\n",
        "optimizer = Adam(model.parameters(), lr=learning_rate)\n",
        "\n",
        "# Define the loss function with Binary Cross-Entropy Loss\n",
        "loss_fn = nn.BCELoss()\n",
        "\n",
        "# Lists to store training accuracy, validation accuracy, and training loss over epochs\n",
        "train_accuracy_list = []\n",
        "validation_accuracy_list = []\n",
        "train_loss_list = []\n",
        "\n",
        "for epoch in range(epochs):\n",
        "    if epoch % 500 == 0:\n",
        "        learning_rate *= 0.9  # Learning rate scheduling\n",
        "\n",
        "    per_epoch_loss_list = []\n",
        "\n",
        "    for batch_idx, (X, Y) in enumerate(train_data_loader):\n",
        "        # Forward pass: Compute predictions\n",
        "        probs = model(X)\n",
        "\n",
        "        # Adding regularization term for all parameters in the model\n",
        "        l2_term = sum([(w ** 2).sum() for w in model.parameters()])\n",
        "\n",
        "        # New loss is the old loss + regularization term\n",
        "        loss = loss_fn(probs.view(-1), Y) + landa * l2_term\n",
        "\n",
        "        per_epoch_loss_list.append(loss.item())\n",
        "\n",
        "        # Backward pass: Compute gradient and update weights\n",
        "        optimizer.zero_grad()\n",
        "        loss.backward()\n",
        "        optimizer.step()\n",
        "\n",
        "        # Evaluate the model on training and validation data\n",
        "    with t.no_grad():\n",
        "        # Set the model in eval mode; some layers use this for certain calculations during training\n",
        "        model.eval()\n",
        "\n",
        "        # Calculate accuracy on train data\n",
        "        probs = model(X_train_tensor)\n",
        "        prediction = (probs >= 0.5).type(t.LongTensor).view(-1)\n",
        "        train_accuracy = (prediction == Y_train_tensor).type(t.float32).mean().item()\n",
        "\n",
        "        # Calculate accuracy on validation data\n",
        "        probs = model(X_test_tensor)\n",
        "        prediction = (probs >= 0.5).type(t.LongTensor).view(-1)\n",
        "        validation_accuracy = (prediction == Y_test_tensor).type(t.float32).mean().item()\n",
        "\n",
        "        # Print accuracy for the current epoch\n",
        "        print(f'Epoch {epoch}/{epochs} ---> Train Accuracy: {train_accuracy}, Validation Accuracy: {validation_accuracy}')\n",
        "\n",
        "        # Set the model back to train mode\n",
        "        model.train()\n",
        "\n",
        "        # Append accuracy values to lists\n",
        "        train_accuracy_list.append(train_accuracy)\n",
        "        validation_accuracy_list.append(validation_accuracy)\n",
        "\n",
        "    # Calculate and append the average loss for the epoch\n",
        "    train_loss_list.append(sum(per_epoch_loss_list) / len(per_epoch_loss_list))\n"
      ],
      "metadata": {
        "colab": {
          "base_uri": "https://localhost:8080/"
        },
        "id": "zQ8mb8n809Ur",
        "outputId": "a21b6f05-b871-42ba-ca0a-60499384420d"
      },
      "execution_count": null,
      "outputs": [
        {
          "output_type": "stream",
          "name": "stdout",
          "text": [
            "Epoch 0/100 ---> Train Accuracy: 0.9305959343910217, Validation Accuracy: 0.9313104152679443\n",
            "Epoch 1/100 ---> Train Accuracy: 0.9340256452560425, Validation Accuracy: 0.9319773316383362\n",
            "Epoch 2/100 ---> Train Accuracy: 0.9305959343910217, Validation Accuracy: 0.9293097853660583\n",
            "Epoch 3/100 ---> Train Accuracy: 0.9298337697982788, Validation Accuracy: 0.9307547211647034\n",
            "Epoch 4/100 ---> Train Accuracy: 0.9328347444534302, Validation Accuracy: 0.9356452226638794\n",
            "Epoch 5/100 ---> Train Accuracy: 0.9333587288856506, Validation Accuracy: 0.9349783062934875\n",
            "Epoch 6/100 ---> Train Accuracy: 0.9286428689956665, Validation Accuracy: 0.9266422390937805\n",
            "Epoch 7/100 ---> Train Accuracy: 0.9338350892066956, Validation Accuracy: 0.9340891242027283\n",
            "Epoch 8/100 ---> Train Accuracy: 0.9319773316383362, Validation Accuracy: 0.9337556958198547\n",
            "Epoch 9/100 ---> Train Accuracy: 0.9311199188232422, Validation Accuracy: 0.9321995973587036\n",
            "Epoch 10/100 ---> Train Accuracy: 0.9310246109962463, Validation Accuracy: 0.9329776763916016\n",
            "Epoch 11/100 ---> Train Accuracy: 0.934073269367218, Validation Accuracy: 0.9350894689559937\n",
            "Epoch 12/100 ---> Train Accuracy: 0.9316915273666382, Validation Accuracy: 0.9306435585021973\n",
            "Epoch 13/100 ---> Train Accuracy: 0.9279283285140991, Validation Accuracy: 0.9275314211845398\n",
            "Epoch 14/100 ---> Train Accuracy: 0.9314533472061157, Validation Accuracy: 0.9299766421318054\n",
            "Epoch 15/100 ---> Train Accuracy: 0.9315962195396423, Validation Accuracy: 0.9330887794494629\n",
            "Epoch 16/100 ---> Train Accuracy: 0.9346925020217896, Validation Accuracy: 0.9347560405731201\n",
            "Epoch 17/100 ---> Train Accuracy: 0.9264040589332581, Validation Accuracy: 0.9288651943206787\n",
            "Epoch 18/100 ---> Train Accuracy: 0.9296908378601074, Validation Accuracy: 0.9325330853462219\n",
            "Epoch 19/100 ---> Train Accuracy: 0.9310246109962463, Validation Accuracy: 0.9314215779304504\n",
            "Epoch 20/100 ---> Train Accuracy: 0.9336445331573486, Validation Accuracy: 0.9359786510467529\n",
            "Epoch 21/100 ---> Train Accuracy: 0.9248321056365967, Validation Accuracy: 0.9250861406326294\n",
            "Epoch 22/100 ---> Train Accuracy: 0.9332634806632996, Validation Accuracy: 0.9347560405731201\n",
            "Epoch 23/100 ---> Train Accuracy: 0.9242128133773804, Validation Accuracy: 0.9251973032951355\n",
            "Epoch 24/100 ---> Train Accuracy: 0.9348354339599609, Validation Accuracy: 0.9348672032356262\n",
            "Epoch 25/100 ---> Train Accuracy: 0.92754727602005, Validation Accuracy: 0.9287540316581726\n",
            "Epoch 26/100 ---> Train Accuracy: 0.9318343997001648, Validation Accuracy: 0.9324219226837158\n",
            "Epoch 27/100 ---> Train Accuracy: 0.93378746509552, Validation Accuracy: 0.9358674883842468\n",
            "Epoch 28/100 ---> Train Accuracy: 0.9306435585021973, Validation Accuracy: 0.933199942111969\n",
            "Epoch 29/100 ---> Train Accuracy: 0.9338350892066956, Validation Accuracy: 0.9367566704750061\n",
            "Epoch 30/100 ---> Train Accuracy: 0.9363597631454468, Validation Accuracy: 0.937534749507904\n",
            "Epoch 31/100 ---> Train Accuracy: 0.9260705709457397, Validation Accuracy: 0.9286428689956665\n",
            "Epoch 32/100 ---> Train Accuracy: 0.93521648645401, Validation Accuracy: 0.9349783062934875\n",
            "Epoch 33/100 ---> Train Accuracy: 0.9322155117988586, Validation Accuracy: 0.9363120794296265\n",
            "Epoch 34/100 ---> Train Accuracy: 0.9347878098487854, Validation Accuracy: 0.9349783062934875\n",
            "Epoch 35/100 ---> Train Accuracy: 0.9338350892066956, Validation Accuracy: 0.9324219226837158\n",
            "Epoch 36/100 ---> Train Accuracy: 0.9247844815254211, Validation Accuracy: 0.9208624958992004\n",
            "Epoch 37/100 ---> Train Accuracy: 0.9345020055770874, Validation Accuracy: 0.9348672032356262\n",
            "Epoch 38/100 ---> Train Accuracy: 0.9317391514778137, Validation Accuracy: 0.933199942111969\n",
            "Epoch 39/100 ---> Train Accuracy: 0.9240699410438538, Validation Accuracy: 0.9233077764511108\n",
            "Epoch 40/100 ---> Train Accuracy: 0.9355499744415283, Validation Accuracy: 0.934644877910614\n",
            "Epoch 41/100 ---> Train Accuracy: 0.934359073638916, Validation Accuracy: 0.9334222674369812\n",
            "Epoch 42/100 ---> Train Accuracy: 0.934073269367218, Validation Accuracy: 0.9328665137290955\n",
            "Epoch 43/100 ---> Train Accuracy: 0.9323107600212097, Validation Accuracy: 0.9338668584823608\n",
            "Epoch 44/100 ---> Train Accuracy: 0.9344066977500916, Validation Accuracy: 0.9350894689559937\n",
            "Epoch 45/100 ---> Train Accuracy: 0.9355975985527039, Validation Accuracy: 0.9336445331573486\n",
            "Epoch 46/100 ---> Train Accuracy: 0.9322155117988586, Validation Accuracy: 0.9334222674369812\n",
            "Epoch 47/100 ---> Train Accuracy: 0.9295002818107605, Validation Accuracy: 0.929754376411438\n",
            "Epoch 48/100 ---> Train Accuracy: 0.9287858009338379, Validation Accuracy: 0.9266422390937805\n",
            "Epoch 49/100 ---> Train Accuracy: 0.9215452671051025, Validation Accuracy: 0.9201956391334534\n",
            "Epoch 50/100 ---> Train Accuracy: 0.93521648645401, Validation Accuracy: 0.9348672032356262\n",
            "Epoch 51/100 ---> Train Accuracy: 0.934359073638916, Validation Accuracy: 0.9337556958198547\n",
            "Epoch 52/100 ---> Train Accuracy: 0.930024266242981, Validation Accuracy: 0.9293097853660583\n",
            "Epoch 53/100 ---> Train Accuracy: 0.933501660823822, Validation Accuracy: 0.9294208884239197\n",
            "Epoch 54/100 ---> Train Accuracy: 0.9355975985527039, Validation Accuracy: 0.9367566704750061\n",
            "Epoch 55/100 ---> Train Accuracy: 0.9326918721199036, Validation Accuracy: 0.933199942111969\n",
            "Epoch 56/100 ---> Train Accuracy: 0.9308341145515442, Validation Accuracy: 0.9287540316581726\n",
            "Epoch 57/100 ---> Train Accuracy: 0.9367408156394958, Validation Accuracy: 0.9366455674171448\n",
            "Epoch 58/100 ---> Train Accuracy: 0.9368360638618469, Validation Accuracy: 0.9344226121902466\n",
            "Epoch 59/100 ---> Train Accuracy: 0.9321202039718628, Validation Accuracy: 0.934644877910614\n",
            "Epoch 60/100 ---> Train Accuracy: 0.9315962195396423, Validation Accuracy: 0.9318661689758301\n",
            "Epoch 61/100 ---> Train Accuracy: 0.9293097853660583, Validation Accuracy: 0.9300878047943115\n",
            "Epoch 62/100 ---> Train Accuracy: 0.9293574094772339, Validation Accuracy: 0.9284206032752991\n",
            "Epoch 63/100 ---> Train Accuracy: 0.9347401261329651, Validation Accuracy: 0.9352006316184998\n",
            "Epoch 64/100 ---> Train Accuracy: 0.9348354339599609, Validation Accuracy: 0.9364232420921326\n",
            "Epoch 65/100 ---> Train Accuracy: 0.9351212382316589, Validation Accuracy: 0.9334222674369812\n",
            "Epoch 66/100 ---> Train Accuracy: 0.9307388067245483, Validation Accuracy: 0.9323107600212097\n",
            "Epoch 67/100 ---> Train Accuracy: 0.9293097853660583, Validation Accuracy: 0.9267533421516418\n",
            "Epoch 68/100 ---> Train Accuracy: 0.9328347444534302, Validation Accuracy: 0.9328665137290955\n",
            "Epoch 69/100 ---> Train Accuracy: 0.9253084063529968, Validation Accuracy: 0.9254195690155029\n",
            "Epoch 70/100 ---> Train Accuracy: 0.9366455674171448, Validation Accuracy: 0.9369789958000183\n",
            "Epoch 71/100 ---> Train Accuracy: 0.9314533472061157, Validation Accuracy: 0.9319773316383362\n",
            "Epoch 72/100 ---> Train Accuracy: 0.9364073872566223, Validation Accuracy: 0.936089813709259\n",
            "Epoch 73/100 ---> Train Accuracy: 0.9356452226638794, Validation Accuracy: 0.9343114495277405\n",
            "Epoch 74/100 ---> Train Accuracy: 0.9350736141204834, Validation Accuracy: 0.9362009763717651\n",
            "Epoch 75/100 ---> Train Accuracy: 0.934644877910614, Validation Accuracy: 0.9336445331573486\n",
            "Epoch 76/100 ---> Train Accuracy: 0.9339780211448669, Validation Accuracy: 0.9343114495277405\n",
            "Epoch 77/100 ---> Train Accuracy: 0.9340256452560425, Validation Accuracy: 0.936089813709259\n",
            "Epoch 78/100 ---> Train Accuracy: 0.9334063529968262, Validation Accuracy: 0.9340891242027283\n",
            "Epoch 79/100 ---> Train Accuracy: 0.9329776763916016, Validation Accuracy: 0.9304212331771851\n",
            "Epoch 80/100 ---> Train Accuracy: 0.9219740033149719, Validation Accuracy: 0.9229743480682373\n",
            "Epoch 81/100 ---> Train Accuracy: 0.9305959343910217, Validation Accuracy: 0.9300878047943115\n",
            "Epoch 82/100 ---> Train Accuracy: 0.9348830580711365, Validation Accuracy: 0.936089813709259\n",
            "Epoch 83/100 ---> Train Accuracy: 0.9320249557495117, Validation Accuracy: 0.9345337152481079\n",
            "Epoch 84/100 ---> Train Accuracy: 0.9315009713172913, Validation Accuracy: 0.9329776763916016\n",
            "Epoch 85/100 ---> Train Accuracy: 0.9310722351074219, Validation Accuracy: 0.9325330853462219\n",
            "Epoch 86/100 ---> Train Accuracy: 0.9350259900093079, Validation Accuracy: 0.9356452226638794\n",
            "Epoch 87/100 ---> Train Accuracy: 0.9341685175895691, Validation Accuracy: 0.9342002868652344\n",
            "Epoch 88/100 ---> Train Accuracy: 0.9327394962310791, Validation Accuracy: 0.9326441884040833\n",
            "Epoch 89/100 ---> Train Accuracy: 0.933501660823822, Validation Accuracy: 0.9310881495475769\n",
            "Epoch 90/100 ---> Train Accuracy: 0.9339780211448669, Validation Accuracy: 0.9348672032356262\n",
            "Epoch 91/100 ---> Train Accuracy: 0.9324536919593811, Validation Accuracy: 0.9315327405929565\n",
            "Epoch 92/100 ---> Train Accuracy: 0.9264516830444336, Validation Accuracy: 0.9279760122299194\n",
            "Epoch 93/100 ---> Train Accuracy: 0.9345020055770874, Validation Accuracy: 0.9328665137290955\n",
            "Epoch 94/100 ---> Train Accuracy: 0.9296908378601074, Validation Accuracy: 0.9310881495475769\n",
            "Epoch 95/100 ---> Train Accuracy: 0.9330729246139526, Validation Accuracy: 0.9365344047546387\n",
            "Epoch 96/100 ---> Train Accuracy: 0.9290716052055359, Validation Accuracy: 0.9309769868850708\n",
            "Epoch 97/100 ---> Train Accuracy: 0.9361692070960999, Validation Accuracy: 0.9364232420921326\n",
            "Epoch 98/100 ---> Train Accuracy: 0.9320725798606873, Validation Accuracy: 0.9314215779304504\n",
            "Epoch 99/100 ---> Train Accuracy: 0.9323107600212097, Validation Accuracy: 0.9340891242027283\n"
          ]
        }
      ]
    },
    {
      "cell_type": "code",
      "source": [
        "# Plot training and validation accuracy over epochs\n",
        "plt.plot([i for i in range(len(train_accuracy_list))], train_accuracy_list, label=\"Train\")\n",
        "plt.plot([i for i in range(len(validation_accuracy_list))], validation_accuracy_list, label=\"Validation\")\n",
        "plt.legend(loc=\"upper left\")\n",
        "plt.xlabel('Epochs')\n",
        "plt.ylabel('Accuracy')\n",
        "plt.show()"
      ],
      "metadata": {
        "colab": {
          "base_uri": "https://localhost:8080/",
          "height": 453
        },
        "id": "zpk5QWxjNmcr",
        "outputId": "a26a634a-56eb-4e0a-ec1b-4121858a1f45"
      },
      "execution_count": null,
      "outputs": [
        {
          "output_type": "display_data",
          "data": {
            "text/plain": [
              "<Figure size 640x480 with 1 Axes>"
            ],
            "image/png": "[encoded data removed]"
          },
          "metadata": {}
        }
      ]
    },
    {
      "cell_type": "markdown",
      "source": [
        "# Model Comparison"
      ],
      "metadata": {
        "id": "7BJyE9T36Ilj"
      }
    }
  ]
}